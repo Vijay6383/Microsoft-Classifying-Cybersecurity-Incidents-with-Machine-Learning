{
  "cells": [
    {
      "cell_type": "code",
      "execution_count": 88,
      "metadata": {
        "colab": {
          "base_uri": "https://localhost:8080/"
        },
        "id": "EW4OtbZ_1HBB",
        "outputId": "837ef892-5311-4c9a-a257-3a15206d60c1"
      },
      "outputs": [
        {
          "output_type": "stream",
          "name": "stdout",
          "text": [
            "Requirement already satisfied: dask[dataframe] in /usr/local/lib/python3.10/dist-packages (2024.7.1)\n",
            "Requirement already satisfied: click>=8.1 in /usr/local/lib/python3.10/dist-packages (from dask[dataframe]) (8.1.7)\n",
            "Requirement already satisfied: cloudpickle>=1.5.0 in /usr/local/lib/python3.10/dist-packages (from dask[dataframe]) (2.2.1)\n",
            "Requirement already satisfied: fsspec>=2021.09.0 in /usr/local/lib/python3.10/dist-packages (from dask[dataframe]) (2024.6.1)\n",
            "Requirement already satisfied: packaging>=20.0 in /usr/local/lib/python3.10/dist-packages (from dask[dataframe]) (24.1)\n",
            "Requirement already satisfied: partd>=1.4.0 in /usr/local/lib/python3.10/dist-packages (from dask[dataframe]) (1.4.2)\n",
            "Requirement already satisfied: pyyaml>=5.3.1 in /usr/local/lib/python3.10/dist-packages (from dask[dataframe]) (6.0.2)\n",
            "Requirement already satisfied: toolz>=0.10.0 in /usr/local/lib/python3.10/dist-packages (from dask[dataframe]) (0.12.1)\n",
            "Requirement already satisfied: importlib-metadata>=4.13.0 in /usr/local/lib/python3.10/dist-packages (from dask[dataframe]) (8.5.0)\n",
            "Requirement already satisfied: pandas>=2.0 in /usr/local/lib/python3.10/dist-packages (from dask[dataframe]) (2.1.4)\n",
            "Requirement already satisfied: dask-expr<1.2,>=1.1 in /usr/local/lib/python3.10/dist-packages (from dask[dataframe]) (1.1.9)\n",
            "Requirement already satisfied: pyarrow>=7.0.0 in /usr/local/lib/python3.10/dist-packages (from dask-expr<1.2,>=1.1->dask[dataframe]) (14.0.2)\n",
            "Requirement already satisfied: zipp>=3.20 in /usr/local/lib/python3.10/dist-packages (from importlib-metadata>=4.13.0->dask[dataframe]) (3.20.1)\n",
            "Requirement already satisfied: numpy<2,>=1.22.4 in /usr/local/lib/python3.10/dist-packages (from pandas>=2.0->dask[dataframe]) (1.26.4)\n",
            "Requirement already satisfied: python-dateutil>=2.8.2 in /usr/local/lib/python3.10/dist-packages (from pandas>=2.0->dask[dataframe]) (2.8.2)\n",
            "Requirement already satisfied: pytz>=2020.1 in /usr/local/lib/python3.10/dist-packages (from pandas>=2.0->dask[dataframe]) (2024.2)\n",
            "Requirement already satisfied: tzdata>=2022.1 in /usr/local/lib/python3.10/dist-packages (from pandas>=2.0->dask[dataframe]) (2024.1)\n",
            "Requirement already satisfied: locket in /usr/local/lib/python3.10/dist-packages (from partd>=1.4.0->dask[dataframe]) (1.0.0)\n",
            "Requirement already satisfied: six>=1.5 in /usr/local/lib/python3.10/dist-packages (from python-dateutil>=2.8.2->pandas>=2.0->dask[dataframe]) (1.16.0)\n"
          ]
        }
      ],
      "source": [
        "pip install dask[dataframe]"
      ]
    },
    {
      "cell_type": "code",
      "execution_count": 89,
      "metadata": {
        "colab": {
          "base_uri": "https://localhost:8080/"
        },
        "id": "rycb6vF3jv5Z",
        "outputId": "d212b9be-d338-4cc4-895b-8558cfed7ca8"
      },
      "outputs": [
        {
          "output_type": "stream",
          "name": "stdout",
          "text": [
            "Requirement already satisfied: dask-ml in /usr/local/lib/python3.10/dist-packages (2024.4.4)\n",
            "Requirement already satisfied: dask-glm>=0.2.0 in /usr/local/lib/python3.10/dist-packages (from dask-ml) (0.3.2)\n",
            "Requirement already satisfied: dask>=2.4.0 in /usr/local/lib/python3.10/dist-packages (from dask[array,dataframe]>=2.4.0->dask-ml) (2024.7.1)\n",
            "Requirement already satisfied: distributed>=2.4.0 in /usr/local/lib/python3.10/dist-packages (from dask-ml) (2024.7.1)\n",
            "Requirement already satisfied: multipledispatch>=0.4.9 in /usr/local/lib/python3.10/dist-packages (from dask-ml) (1.0.0)\n",
            "Requirement already satisfied: numba>=0.51.0 in /usr/local/lib/python3.10/dist-packages (from dask-ml) (0.60.0)\n",
            "Requirement already satisfied: numpy>=1.20.0 in /usr/local/lib/python3.10/dist-packages (from dask-ml) (1.26.4)\n",
            "Requirement already satisfied: packaging in /usr/local/lib/python3.10/dist-packages (from dask-ml) (24.1)\n",
            "Requirement already satisfied: pandas>=0.24.2 in /usr/local/lib/python3.10/dist-packages (from dask-ml) (2.1.4)\n",
            "Requirement already satisfied: scikit-learn>=1.2.0 in /usr/local/lib/python3.10/dist-packages (from dask-ml) (1.3.2)\n",
            "Requirement already satisfied: scipy in /usr/local/lib/python3.10/dist-packages (from dask-ml) (1.13.1)\n",
            "Requirement already satisfied: click>=8.1 in /usr/local/lib/python3.10/dist-packages (from dask>=2.4.0->dask[array,dataframe]>=2.4.0->dask-ml) (8.1.7)\n",
            "Requirement already satisfied: cloudpickle>=1.5.0 in /usr/local/lib/python3.10/dist-packages (from dask>=2.4.0->dask[array,dataframe]>=2.4.0->dask-ml) (2.2.1)\n",
            "Requirement already satisfied: fsspec>=2021.09.0 in /usr/local/lib/python3.10/dist-packages (from dask>=2.4.0->dask[array,dataframe]>=2.4.0->dask-ml) (2024.6.1)\n",
            "Requirement already satisfied: partd>=1.4.0 in /usr/local/lib/python3.10/dist-packages (from dask>=2.4.0->dask[array,dataframe]>=2.4.0->dask-ml) (1.4.2)\n",
            "Requirement already satisfied: pyyaml>=5.3.1 in /usr/local/lib/python3.10/dist-packages (from dask>=2.4.0->dask[array,dataframe]>=2.4.0->dask-ml) (6.0.2)\n",
            "Requirement already satisfied: toolz>=0.10.0 in /usr/local/lib/python3.10/dist-packages (from dask>=2.4.0->dask[array,dataframe]>=2.4.0->dask-ml) (0.12.1)\n",
            "Requirement already satisfied: importlib-metadata>=4.13.0 in /usr/local/lib/python3.10/dist-packages (from dask>=2.4.0->dask[array,dataframe]>=2.4.0->dask-ml) (8.5.0)\n",
            "Requirement already satisfied: sparse>=0.7.0 in /usr/local/lib/python3.10/dist-packages (from dask-glm>=0.2.0->dask-ml) (0.15.4)\n",
            "Requirement already satisfied: dask-expr<1.2,>=1.1 in /usr/local/lib/python3.10/dist-packages (from dask[array,dataframe]>=2.4.0->dask-ml) (1.1.9)\n",
            "Requirement already satisfied: jinja2>=2.10.3 in /usr/local/lib/python3.10/dist-packages (from distributed>=2.4.0->dask-ml) (3.1.4)\n",
            "Requirement already satisfied: locket>=1.0.0 in /usr/local/lib/python3.10/dist-packages (from distributed>=2.4.0->dask-ml) (1.0.0)\n",
            "Requirement already satisfied: msgpack>=1.0.0 in /usr/local/lib/python3.10/dist-packages (from distributed>=2.4.0->dask-ml) (1.0.8)\n",
            "Requirement already satisfied: psutil>=5.7.2 in /usr/local/lib/python3.10/dist-packages (from distributed>=2.4.0->dask-ml) (5.9.5)\n",
            "Requirement already satisfied: sortedcontainers>=2.0.5 in /usr/local/lib/python3.10/dist-packages (from distributed>=2.4.0->dask-ml) (2.4.0)\n",
            "Requirement already satisfied: tblib>=1.6.0 in /usr/local/lib/python3.10/dist-packages (from distributed>=2.4.0->dask-ml) (3.0.0)\n",
            "Requirement already satisfied: tornado>=6.0.4 in /usr/local/lib/python3.10/dist-packages (from distributed>=2.4.0->dask-ml) (6.3.3)\n",
            "Requirement already satisfied: urllib3>=1.24.3 in /usr/local/lib/python3.10/dist-packages (from distributed>=2.4.0->dask-ml) (2.0.7)\n",
            "Requirement already satisfied: zict>=3.0.0 in /usr/local/lib/python3.10/dist-packages (from distributed>=2.4.0->dask-ml) (3.0.0)\n",
            "Requirement already satisfied: llvmlite<0.44,>=0.43.0dev0 in /usr/local/lib/python3.10/dist-packages (from numba>=0.51.0->dask-ml) (0.43.0)\n",
            "Requirement already satisfied: python-dateutil>=2.8.2 in /usr/local/lib/python3.10/dist-packages (from pandas>=0.24.2->dask-ml) (2.8.2)\n",
            "Requirement already satisfied: pytz>=2020.1 in /usr/local/lib/python3.10/dist-packages (from pandas>=0.24.2->dask-ml) (2024.2)\n",
            "Requirement already satisfied: tzdata>=2022.1 in /usr/local/lib/python3.10/dist-packages (from pandas>=0.24.2->dask-ml) (2024.1)\n",
            "Requirement already satisfied: joblib>=1.1.1 in /usr/local/lib/python3.10/dist-packages (from scikit-learn>=1.2.0->dask-ml) (1.4.2)\n",
            "Requirement already satisfied: threadpoolctl>=2.0.0 in /usr/local/lib/python3.10/dist-packages (from scikit-learn>=1.2.0->dask-ml) (3.5.0)\n",
            "Requirement already satisfied: pyarrow>=7.0.0 in /usr/local/lib/python3.10/dist-packages (from dask-expr<1.2,>=1.1->dask[array,dataframe]>=2.4.0->dask-ml) (14.0.2)\n",
            "Requirement already satisfied: zipp>=3.20 in /usr/local/lib/python3.10/dist-packages (from importlib-metadata>=4.13.0->dask>=2.4.0->dask[array,dataframe]>=2.4.0->dask-ml) (3.20.1)\n",
            "Requirement already satisfied: MarkupSafe>=2.0 in /usr/local/lib/python3.10/dist-packages (from jinja2>=2.10.3->distributed>=2.4.0->dask-ml) (2.1.5)\n",
            "Requirement already satisfied: six>=1.5 in /usr/local/lib/python3.10/dist-packages (from python-dateutil>=2.8.2->pandas>=0.24.2->dask-ml) (1.16.0)\n"
          ]
        }
      ],
      "source": [
        "pip install dask-ml"
      ]
    },
    {
      "cell_type": "code",
      "execution_count": null,
      "metadata": {
        "id": "4mJ1z-phGTLo"
      },
      "outputs": [],
      "source": [
        "import dask.dataframe as dd\n",
        "import dask.array as da\n",
        "import pandas as pd\n",
        "import numpy as np\n",
        "import matplotlib.pyplot as plt\n",
        "import seaborn as sns\n",
        "import warnings\n",
        "warnings.filterwarnings('ignore')\n",
        "\n",
        "from scipy.stats import chi2_contingency\n",
        "from dask_ml.model_selection import train_test_split\n",
        "\n"
      ]
    },
    {
      "cell_type": "code",
      "execution_count": null,
      "metadata": {
        "id": "5bpbS_DXVW1F"
      },
      "outputs": [],
      "source": [
        "from sklearn.model_selection import cross_val_score, StratifiedKFold\n",
        "from sklearn.tree import DecisionTreeClassifier\n",
        "from sklearn.ensemble import RandomForestClassifier\n",
        "from xgboost import XGBClassifier\n",
        "from dask_ml.wrappers import ParallelPostFit\n",
        "from dask_ml.model_selection import GridSearchCV, RandomizedSearchCV\n",
        "from sklearn.metrics import accuracy_score, classification_report, confusion_matrix"
      ]
    },
    {
      "cell_type": "code",
      "execution_count": null,
      "metadata": {
        "id": "TY4WRxfwg2vf"
      },
      "outputs": [],
      "source": [
        "from dask_ml.linear_model import LogisticRegression"
      ]
    },
    {
      "cell_type": "code",
      "execution_count": null,
      "metadata": {
        "id": "ZXMwILvwjjAR"
      },
      "outputs": [],
      "source": [
        "from dask_ml.preprocessing import DummyEncoder\n"
      ]
    },
    {
      "cell_type": "code",
      "execution_count": null,
      "metadata": {
        "colab": {
          "base_uri": "https://localhost:8080/"
        },
        "id": "z2jkG729SHn0",
        "outputId": "4b5b382f-aefe-4c5d-d26e-b992cea26615"
      },
      "outputs": [
        {
          "output_type": "stream",
          "name": "stdout",
          "text": [
            "Mounted at /content/drive\n"
          ]
        }
      ],
      "source": [
        "from google.colab import drive\n",
        "drive.mount('/content/drive')"
      ]
    },
    {
      "cell_type": "code",
      "execution_count": null,
      "metadata": {
        "id": "44TJtncECFgg"
      },
      "outputs": [],
      "source": [
        "\n",
        "# Read the CSV files using Dask and specify dtypes\n",
        "train_df = dd.read_csv('/content/drive/MyDrive/microsoft_projData/GUIDE_Train.csv', dtype={'ActionGranular': 'object',\n",
        "       'ActionGrouped': 'object',\n",
        "       'AntispamDirection': 'object',\n",
        "       'ResourceType': 'object',\n",
        "       'Roles': 'object',\n",
        "       'ThreatFamily': 'object'})\n",
        "test_df = dd.read_csv('/content/drive/MyDrive/microsoft_projData/GUIDE_Test.csv', dtype={'ActionGranular': 'object',\n",
        "       'ActionGrouped': 'object',\n",
        "       'AntispamDirection': 'object',\n",
        "       'ResourceType': 'object',\n",
        "       'Roles': 'object',\n",
        "       'ThreatFamily': 'object'})\n",
        "\n"
      ]
    },
    {
      "cell_type": "code",
      "execution_count": null,
      "metadata": {
        "id": "kj6CWsfGoGNW"
      },
      "outputs": [],
      "source": [
        "train_df = train_df.sample(frac=0.002, random_state=42)\n",
        "test_df = test_df.sample(frac=0.001, random_state=42)"
      ]
    },
    {
      "cell_type": "code",
      "execution_count": null,
      "metadata": {
        "id": "m75Gq4NLO_Ws"
      },
      "outputs": [],
      "source": [
        "\n",
        "# train_df.shape[0].compute(), train_df.shape[1]"
      ]
    },
    {
      "cell_type": "code",
      "execution_count": null,
      "metadata": {
        "id": "yxNdlM6ISyQw"
      },
      "outputs": [],
      "source": [
        "# test_df.shape[0].compute(), test_df.shape[1]"
      ]
    },
    {
      "cell_type": "code",
      "execution_count": null,
      "metadata": {
        "id": "65ylXdSVTGy5",
        "colab": {
          "base_uri": "https://localhost:8080/"
        },
        "outputId": "ac3aba1a-23af-496d-9d51-bac0d00ebda8"
      },
      "outputs": [
        {
          "output_type": "execute_result",
          "data": {
            "text/plain": [
              "Index(['Id', 'OrgId', 'IncidentId', 'AlertId', 'Timestamp', 'DetectorId',\n",
              "       'AlertTitle', 'Category', 'MitreTechniques', 'IncidentGrade',\n",
              "       'ActionGrouped', 'ActionGranular', 'EntityType', 'EvidenceRole',\n",
              "       'DeviceId', 'Sha256', 'IpAddress', 'Url', 'AccountSid', 'AccountUpn',\n",
              "       'AccountObjectId', 'AccountName', 'DeviceName', 'NetworkMessageId',\n",
              "       'EmailClusterId', 'RegistryKey', 'RegistryValueName',\n",
              "       'RegistryValueData', 'ApplicationId', 'ApplicationName',\n",
              "       'OAuthApplicationId', 'ThreatFamily', 'FileName', 'FolderPath',\n",
              "       'ResourceIdName', 'ResourceType', 'Roles', 'OSFamily', 'OSVersion',\n",
              "       'AntispamDirection', 'SuspicionLevel', 'LastVerdict', 'CountryCode',\n",
              "       'State', 'City'],\n",
              "      dtype='object')"
            ]
          },
          "metadata": {},
          "execution_count": 12
        }
      ],
      "source": [
        "train_df.columns"
      ]
    },
    {
      "cell_type": "code",
      "execution_count": null,
      "metadata": {
        "id": "gBlKvNG9agpV",
        "colab": {
          "base_uri": "https://localhost:8080/"
        },
        "outputId": "9eb59d7f-4878-4d7d-a4b3-de5ea3fbe9e3"
      },
      "outputs": [
        {
          "output_type": "execute_result",
          "data": {
            "text/plain": [
              "Index(['Id', 'OrgId', 'IncidentId', 'AlertId', 'Timestamp', 'DetectorId',\n",
              "       'AlertTitle', 'Category', 'MitreTechniques', 'IncidentGrade',\n",
              "       'ActionGrouped', 'ActionGranular', 'EntityType', 'EvidenceRole',\n",
              "       'DeviceId', 'Sha256', 'IpAddress', 'Url', 'AccountSid', 'AccountUpn',\n",
              "       'AccountObjectId', 'AccountName', 'DeviceName', 'NetworkMessageId',\n",
              "       'EmailClusterId', 'RegistryKey', 'RegistryValueName',\n",
              "       'RegistryValueData', 'ApplicationId', 'ApplicationName',\n",
              "       'OAuthApplicationId', 'ThreatFamily', 'FileName', 'FolderPath',\n",
              "       'ResourceIdName', 'ResourceType', 'Roles', 'OSFamily', 'OSVersion',\n",
              "       'AntispamDirection', 'SuspicionLevel', 'LastVerdict', 'CountryCode',\n",
              "       'State', 'City', 'Usage'],\n",
              "      dtype='object')"
            ]
          },
          "metadata": {},
          "execution_count": 13
        }
      ],
      "source": [
        "test_df.columns"
      ]
    },
    {
      "cell_type": "code",
      "execution_count": null,
      "metadata": {
        "colab": {
          "base_uri": "https://localhost:8080/",
          "height": 241
        },
        "id": "TDThW3PhPP11",
        "outputId": "3f2dbce0-a095-4fd1-86ea-b0ffd9f3fe88"
      },
      "outputs": [
        {
          "output_type": "execute_result",
          "data": {
            "text/plain": [
              "244231     Public\n",
              "57535      Public\n",
              "43951      Public\n",
              "158655     Public\n",
              "63950     Private\n",
              "Name: Usage, dtype: object"
            ],
            "text/html": [
              "<div>\n",
              "<style scoped>\n",
              "    .dataframe tbody tr th:only-of-type {\n",
              "        vertical-align: middle;\n",
              "    }\n",
              "\n",
              "    .dataframe tbody tr th {\n",
              "        vertical-align: top;\n",
              "    }\n",
              "\n",
              "    .dataframe thead th {\n",
              "        text-align: right;\n",
              "    }\n",
              "</style>\n",
              "<table border=\"1\" class=\"dataframe\">\n",
              "  <thead>\n",
              "    <tr style=\"text-align: right;\">\n",
              "      <th></th>\n",
              "      <th>Usage</th>\n",
              "    </tr>\n",
              "  </thead>\n",
              "  <tbody>\n",
              "    <tr>\n",
              "      <th>244231</th>\n",
              "      <td>Public</td>\n",
              "    </tr>\n",
              "    <tr>\n",
              "      <th>57535</th>\n",
              "      <td>Public</td>\n",
              "    </tr>\n",
              "    <tr>\n",
              "      <th>43951</th>\n",
              "      <td>Public</td>\n",
              "    </tr>\n",
              "    <tr>\n",
              "      <th>158655</th>\n",
              "      <td>Public</td>\n",
              "    </tr>\n",
              "    <tr>\n",
              "      <th>63950</th>\n",
              "      <td>Private</td>\n",
              "    </tr>\n",
              "  </tbody>\n",
              "</table>\n",
              "</div><br><label><b>dtype:</b> object</label>"
            ]
          },
          "metadata": {},
          "execution_count": 14
        }
      ],
      "source": [
        "test_df['Usage'].head()"
      ]
    },
    {
      "cell_type": "code",
      "execution_count": null,
      "metadata": {
        "id": "VIzJmZwm3sBV"
      },
      "outputs": [],
      "source": [
        "test_df = test_df.drop(['Usage'], axis=1)"
      ]
    },
    {
      "cell_type": "code",
      "execution_count": null,
      "metadata": {
        "colab": {
          "base_uri": "https://localhost:8080/",
          "height": 1000
        },
        "id": "wHMlSQGGUwnC",
        "outputId": "09eac36d-a031-43e5-824b-95611fd4c3fe"
      },
      "outputs": [
        {
          "output_type": "execute_result",
          "data": {
            "text/plain": [
              "Id                        0\n",
              "OrgId                     0\n",
              "IncidentId                0\n",
              "AlertId                   0\n",
              "Timestamp                 0\n",
              "DetectorId                0\n",
              "AlertTitle                0\n",
              "Category                  0\n",
              "MitreTechniques       10900\n",
              "IncidentGrade            98\n",
              "ActionGrouped         18913\n",
              "ActionGranular        18913\n",
              "EntityType                0\n",
              "EvidenceRole              0\n",
              "DeviceId                  0\n",
              "Sha256                    0\n",
              "IpAddress                 0\n",
              "Url                       0\n",
              "AccountSid                0\n",
              "AccountUpn                0\n",
              "AccountObjectId           0\n",
              "AccountName               0\n",
              "DeviceName                0\n",
              "NetworkMessageId          0\n",
              "EmailClusterId        18822\n",
              "RegistryKey               0\n",
              "RegistryValueName         0\n",
              "RegistryValueData         0\n",
              "ApplicationId             0\n",
              "ApplicationName           0\n",
              "OAuthApplicationId        0\n",
              "ThreatFamily          18851\n",
              "FileName                  0\n",
              "FolderPath                0\n",
              "ResourceIdName            0\n",
              "ResourceType          19006\n",
              "Roles                 18579\n",
              "OSFamily                  0\n",
              "OSVersion                 0\n",
              "AntispamDirection     18670\n",
              "SuspicionLevel        16156\n",
              "LastVerdict           14605\n",
              "CountryCode               0\n",
              "State                     0\n",
              "City                      0\n",
              "dtype: int64"
            ],
            "text/html": [
              "<div>\n",
              "<style scoped>\n",
              "    .dataframe tbody tr th:only-of-type {\n",
              "        vertical-align: middle;\n",
              "    }\n",
              "\n",
              "    .dataframe tbody tr th {\n",
              "        vertical-align: top;\n",
              "    }\n",
              "\n",
              "    .dataframe thead th {\n",
              "        text-align: right;\n",
              "    }\n",
              "</style>\n",
              "<table border=\"1\" class=\"dataframe\">\n",
              "  <thead>\n",
              "    <tr style=\"text-align: right;\">\n",
              "      <th></th>\n",
              "      <th>0</th>\n",
              "    </tr>\n",
              "  </thead>\n",
              "  <tbody>\n",
              "    <tr>\n",
              "      <th>Id</th>\n",
              "      <td>0</td>\n",
              "    </tr>\n",
              "    <tr>\n",
              "      <th>OrgId</th>\n",
              "      <td>0</td>\n",
              "    </tr>\n",
              "    <tr>\n",
              "      <th>IncidentId</th>\n",
              "      <td>0</td>\n",
              "    </tr>\n",
              "    <tr>\n",
              "      <th>AlertId</th>\n",
              "      <td>0</td>\n",
              "    </tr>\n",
              "    <tr>\n",
              "      <th>Timestamp</th>\n",
              "      <td>0</td>\n",
              "    </tr>\n",
              "    <tr>\n",
              "      <th>DetectorId</th>\n",
              "      <td>0</td>\n",
              "    </tr>\n",
              "    <tr>\n",
              "      <th>AlertTitle</th>\n",
              "      <td>0</td>\n",
              "    </tr>\n",
              "    <tr>\n",
              "      <th>Category</th>\n",
              "      <td>0</td>\n",
              "    </tr>\n",
              "    <tr>\n",
              "      <th>MitreTechniques</th>\n",
              "      <td>10900</td>\n",
              "    </tr>\n",
              "    <tr>\n",
              "      <th>IncidentGrade</th>\n",
              "      <td>98</td>\n",
              "    </tr>\n",
              "    <tr>\n",
              "      <th>ActionGrouped</th>\n",
              "      <td>18913</td>\n",
              "    </tr>\n",
              "    <tr>\n",
              "      <th>ActionGranular</th>\n",
              "      <td>18913</td>\n",
              "    </tr>\n",
              "    <tr>\n",
              "      <th>EntityType</th>\n",
              "      <td>0</td>\n",
              "    </tr>\n",
              "    <tr>\n",
              "      <th>EvidenceRole</th>\n",
              "      <td>0</td>\n",
              "    </tr>\n",
              "    <tr>\n",
              "      <th>DeviceId</th>\n",
              "      <td>0</td>\n",
              "    </tr>\n",
              "    <tr>\n",
              "      <th>Sha256</th>\n",
              "      <td>0</td>\n",
              "    </tr>\n",
              "    <tr>\n",
              "      <th>IpAddress</th>\n",
              "      <td>0</td>\n",
              "    </tr>\n",
              "    <tr>\n",
              "      <th>Url</th>\n",
              "      <td>0</td>\n",
              "    </tr>\n",
              "    <tr>\n",
              "      <th>AccountSid</th>\n",
              "      <td>0</td>\n",
              "    </tr>\n",
              "    <tr>\n",
              "      <th>AccountUpn</th>\n",
              "      <td>0</td>\n",
              "    </tr>\n",
              "    <tr>\n",
              "      <th>AccountObjectId</th>\n",
              "      <td>0</td>\n",
              "    </tr>\n",
              "    <tr>\n",
              "      <th>AccountName</th>\n",
              "      <td>0</td>\n",
              "    </tr>\n",
              "    <tr>\n",
              "      <th>DeviceName</th>\n",
              "      <td>0</td>\n",
              "    </tr>\n",
              "    <tr>\n",
              "      <th>NetworkMessageId</th>\n",
              "      <td>0</td>\n",
              "    </tr>\n",
              "    <tr>\n",
              "      <th>EmailClusterId</th>\n",
              "      <td>18822</td>\n",
              "    </tr>\n",
              "    <tr>\n",
              "      <th>RegistryKey</th>\n",
              "      <td>0</td>\n",
              "    </tr>\n",
              "    <tr>\n",
              "      <th>RegistryValueName</th>\n",
              "      <td>0</td>\n",
              "    </tr>\n",
              "    <tr>\n",
              "      <th>RegistryValueData</th>\n",
              "      <td>0</td>\n",
              "    </tr>\n",
              "    <tr>\n",
              "      <th>ApplicationId</th>\n",
              "      <td>0</td>\n",
              "    </tr>\n",
              "    <tr>\n",
              "      <th>ApplicationName</th>\n",
              "      <td>0</td>\n",
              "    </tr>\n",
              "    <tr>\n",
              "      <th>OAuthApplicationId</th>\n",
              "      <td>0</td>\n",
              "    </tr>\n",
              "    <tr>\n",
              "      <th>ThreatFamily</th>\n",
              "      <td>18851</td>\n",
              "    </tr>\n",
              "    <tr>\n",
              "      <th>FileName</th>\n",
              "      <td>0</td>\n",
              "    </tr>\n",
              "    <tr>\n",
              "      <th>FolderPath</th>\n",
              "      <td>0</td>\n",
              "    </tr>\n",
              "    <tr>\n",
              "      <th>ResourceIdName</th>\n",
              "      <td>0</td>\n",
              "    </tr>\n",
              "    <tr>\n",
              "      <th>ResourceType</th>\n",
              "      <td>19006</td>\n",
              "    </tr>\n",
              "    <tr>\n",
              "      <th>Roles</th>\n",
              "      <td>18579</td>\n",
              "    </tr>\n",
              "    <tr>\n",
              "      <th>OSFamily</th>\n",
              "      <td>0</td>\n",
              "    </tr>\n",
              "    <tr>\n",
              "      <th>OSVersion</th>\n",
              "      <td>0</td>\n",
              "    </tr>\n",
              "    <tr>\n",
              "      <th>AntispamDirection</th>\n",
              "      <td>18670</td>\n",
              "    </tr>\n",
              "    <tr>\n",
              "      <th>SuspicionLevel</th>\n",
              "      <td>16156</td>\n",
              "    </tr>\n",
              "    <tr>\n",
              "      <th>LastVerdict</th>\n",
              "      <td>14605</td>\n",
              "    </tr>\n",
              "    <tr>\n",
              "      <th>CountryCode</th>\n",
              "      <td>0</td>\n",
              "    </tr>\n",
              "    <tr>\n",
              "      <th>State</th>\n",
              "      <td>0</td>\n",
              "    </tr>\n",
              "    <tr>\n",
              "      <th>City</th>\n",
              "      <td>0</td>\n",
              "    </tr>\n",
              "  </tbody>\n",
              "</table>\n",
              "</div><br><label><b>dtype:</b> int64</label>"
            ]
          },
          "metadata": {},
          "execution_count": 16
        }
      ],
      "source": [
        "train_df.isnull().sum().compute()"
      ]
    },
    {
      "cell_type": "code",
      "execution_count": null,
      "metadata": {
        "id": "ADw7pO71UTLQ",
        "colab": {
          "base_uri": "https://localhost:8080/",
          "height": 1000
        },
        "outputId": "a2512833-1500-4c32-babb-37c021e7c68c"
      },
      "outputs": [
        {
          "output_type": "execute_result",
          "data": {
            "text/plain": [
              "Id                       0\n",
              "OrgId                    0\n",
              "IncidentId               0\n",
              "AlertId                  0\n",
              "Timestamp                0\n",
              "DetectorId               0\n",
              "AlertTitle               0\n",
              "Category                 0\n",
              "MitreTechniques       2305\n",
              "IncidentGrade            0\n",
              "ActionGrouped         4142\n",
              "ActionGranular        4142\n",
              "EntityType               0\n",
              "EvidenceRole             0\n",
              "DeviceId                 0\n",
              "Sha256                   0\n",
              "IpAddress                0\n",
              "Url                      0\n",
              "AccountSid               0\n",
              "AccountUpn               0\n",
              "AccountObjectId          0\n",
              "AccountName              0\n",
              "DeviceName               0\n",
              "NetworkMessageId         0\n",
              "EmailClusterId        4105\n",
              "RegistryKey              0\n",
              "RegistryValueName        0\n",
              "RegistryValueData        0\n",
              "ApplicationId            0\n",
              "ApplicationName          0\n",
              "OAuthApplicationId       0\n",
              "ThreatFamily          4119\n",
              "FileName                 0\n",
              "FolderPath               0\n",
              "ResourceIdName           0\n",
              "ResourceType          4141\n",
              "Roles                 4043\n",
              "OSFamily                 0\n",
              "OSVersion                0\n",
              "AntispamDirection     4072\n",
              "SuspicionLevel        3491\n",
              "LastVerdict           3163\n",
              "CountryCode              0\n",
              "State                    0\n",
              "City                     0\n",
              "dtype: int64"
            ],
            "text/html": [
              "<div>\n",
              "<style scoped>\n",
              "    .dataframe tbody tr th:only-of-type {\n",
              "        vertical-align: middle;\n",
              "    }\n",
              "\n",
              "    .dataframe tbody tr th {\n",
              "        vertical-align: top;\n",
              "    }\n",
              "\n",
              "    .dataframe thead th {\n",
              "        text-align: right;\n",
              "    }\n",
              "</style>\n",
              "<table border=\"1\" class=\"dataframe\">\n",
              "  <thead>\n",
              "    <tr style=\"text-align: right;\">\n",
              "      <th></th>\n",
              "      <th>0</th>\n",
              "    </tr>\n",
              "  </thead>\n",
              "  <tbody>\n",
              "    <tr>\n",
              "      <th>Id</th>\n",
              "      <td>0</td>\n",
              "    </tr>\n",
              "    <tr>\n",
              "      <th>OrgId</th>\n",
              "      <td>0</td>\n",
              "    </tr>\n",
              "    <tr>\n",
              "      <th>IncidentId</th>\n",
              "      <td>0</td>\n",
              "    </tr>\n",
              "    <tr>\n",
              "      <th>AlertId</th>\n",
              "      <td>0</td>\n",
              "    </tr>\n",
              "    <tr>\n",
              "      <th>Timestamp</th>\n",
              "      <td>0</td>\n",
              "    </tr>\n",
              "    <tr>\n",
              "      <th>DetectorId</th>\n",
              "      <td>0</td>\n",
              "    </tr>\n",
              "    <tr>\n",
              "      <th>AlertTitle</th>\n",
              "      <td>0</td>\n",
              "    </tr>\n",
              "    <tr>\n",
              "      <th>Category</th>\n",
              "      <td>0</td>\n",
              "    </tr>\n",
              "    <tr>\n",
              "      <th>MitreTechniques</th>\n",
              "      <td>2305</td>\n",
              "    </tr>\n",
              "    <tr>\n",
              "      <th>IncidentGrade</th>\n",
              "      <td>0</td>\n",
              "    </tr>\n",
              "    <tr>\n",
              "      <th>ActionGrouped</th>\n",
              "      <td>4142</td>\n",
              "    </tr>\n",
              "    <tr>\n",
              "      <th>ActionGranular</th>\n",
              "      <td>4142</td>\n",
              "    </tr>\n",
              "    <tr>\n",
              "      <th>EntityType</th>\n",
              "      <td>0</td>\n",
              "    </tr>\n",
              "    <tr>\n",
              "      <th>EvidenceRole</th>\n",
              "      <td>0</td>\n",
              "    </tr>\n",
              "    <tr>\n",
              "      <th>DeviceId</th>\n",
              "      <td>0</td>\n",
              "    </tr>\n",
              "    <tr>\n",
              "      <th>Sha256</th>\n",
              "      <td>0</td>\n",
              "    </tr>\n",
              "    <tr>\n",
              "      <th>IpAddress</th>\n",
              "      <td>0</td>\n",
              "    </tr>\n",
              "    <tr>\n",
              "      <th>Url</th>\n",
              "      <td>0</td>\n",
              "    </tr>\n",
              "    <tr>\n",
              "      <th>AccountSid</th>\n",
              "      <td>0</td>\n",
              "    </tr>\n",
              "    <tr>\n",
              "      <th>AccountUpn</th>\n",
              "      <td>0</td>\n",
              "    </tr>\n",
              "    <tr>\n",
              "      <th>AccountObjectId</th>\n",
              "      <td>0</td>\n",
              "    </tr>\n",
              "    <tr>\n",
              "      <th>AccountName</th>\n",
              "      <td>0</td>\n",
              "    </tr>\n",
              "    <tr>\n",
              "      <th>DeviceName</th>\n",
              "      <td>0</td>\n",
              "    </tr>\n",
              "    <tr>\n",
              "      <th>NetworkMessageId</th>\n",
              "      <td>0</td>\n",
              "    </tr>\n",
              "    <tr>\n",
              "      <th>EmailClusterId</th>\n",
              "      <td>4105</td>\n",
              "    </tr>\n",
              "    <tr>\n",
              "      <th>RegistryKey</th>\n",
              "      <td>0</td>\n",
              "    </tr>\n",
              "    <tr>\n",
              "      <th>RegistryValueName</th>\n",
              "      <td>0</td>\n",
              "    </tr>\n",
              "    <tr>\n",
              "      <th>RegistryValueData</th>\n",
              "      <td>0</td>\n",
              "    </tr>\n",
              "    <tr>\n",
              "      <th>ApplicationId</th>\n",
              "      <td>0</td>\n",
              "    </tr>\n",
              "    <tr>\n",
              "      <th>ApplicationName</th>\n",
              "      <td>0</td>\n",
              "    </tr>\n",
              "    <tr>\n",
              "      <th>OAuthApplicationId</th>\n",
              "      <td>0</td>\n",
              "    </tr>\n",
              "    <tr>\n",
              "      <th>ThreatFamily</th>\n",
              "      <td>4119</td>\n",
              "    </tr>\n",
              "    <tr>\n",
              "      <th>FileName</th>\n",
              "      <td>0</td>\n",
              "    </tr>\n",
              "    <tr>\n",
              "      <th>FolderPath</th>\n",
              "      <td>0</td>\n",
              "    </tr>\n",
              "    <tr>\n",
              "      <th>ResourceIdName</th>\n",
              "      <td>0</td>\n",
              "    </tr>\n",
              "    <tr>\n",
              "      <th>ResourceType</th>\n",
              "      <td>4141</td>\n",
              "    </tr>\n",
              "    <tr>\n",
              "      <th>Roles</th>\n",
              "      <td>4043</td>\n",
              "    </tr>\n",
              "    <tr>\n",
              "      <th>OSFamily</th>\n",
              "      <td>0</td>\n",
              "    </tr>\n",
              "    <tr>\n",
              "      <th>OSVersion</th>\n",
              "      <td>0</td>\n",
              "    </tr>\n",
              "    <tr>\n",
              "      <th>AntispamDirection</th>\n",
              "      <td>4072</td>\n",
              "    </tr>\n",
              "    <tr>\n",
              "      <th>SuspicionLevel</th>\n",
              "      <td>3491</td>\n",
              "    </tr>\n",
              "    <tr>\n",
              "      <th>LastVerdict</th>\n",
              "      <td>3163</td>\n",
              "    </tr>\n",
              "    <tr>\n",
              "      <th>CountryCode</th>\n",
              "      <td>0</td>\n",
              "    </tr>\n",
              "    <tr>\n",
              "      <th>State</th>\n",
              "      <td>0</td>\n",
              "    </tr>\n",
              "    <tr>\n",
              "      <th>City</th>\n",
              "      <td>0</td>\n",
              "    </tr>\n",
              "  </tbody>\n",
              "</table>\n",
              "</div><br><label><b>dtype:</b> int64</label>"
            ]
          },
          "metadata": {},
          "execution_count": 17
        }
      ],
      "source": [
        "test_df.isnull().sum().compute()"
      ]
    },
    {
      "cell_type": "code",
      "execution_count": null,
      "metadata": {
        "id": "XkVQjhGwtqHn",
        "colab": {
          "base_uri": "https://localhost:8080/",
          "height": 342
        },
        "outputId": "dcee9a29-0d7f-4a6c-b9e3-7b9779c0f4e0"
      },
      "outputs": [
        {
          "output_type": "execute_result",
          "data": {
            "text/plain": [
              "                   Id  OrgId  IncidentId  AlertId                 Timestamp  \\\n",
              "208502     8589935127    283         335   509559  2024-06-11T14:15:54.000Z   \n",
              "57767    635655163043     51       44733   295881  2024-06-03T23:17:54.000Z   \n",
              "235357  1451698948195     13        6868    10238  2024-06-10T18:15:14.000Z   \n",
              "21126    816043791031      9          64   112355  2024-06-12T15:28:38.000Z   \n",
              "128964  1408749274237     16       99016   132381  2024-06-03T20:07:56.000Z   \n",
              "\n",
              "        DetectorId  AlertTitle       Category        MitreTechniques  \\\n",
              "208502           0           0  InitialAccess        T1078;T1078.004   \n",
              "57767           39          26      Execution  T1559;T1106;T1059.005   \n",
              "235357          34        1135   Exfiltration                    NaN   \n",
              "21126           90        4415   Exfiltration                    NaN   \n",
              "128964          24       21634   Exfiltration                    NaN   \n",
              "\n",
              "         IncidentGrade  ... ResourceType Roles OSFamily OSVersion  \\\n",
              "208502    TruePositive  ...          NaN   NaN        5        66   \n",
              "57767   BenignPositive  ...          NaN   NaN        5        66   \n",
              "235357  BenignPositive  ...          NaN   NaN        5        66   \n",
              "21126   BenignPositive  ...          NaN   NaN        5        66   \n",
              "128964  BenignPositive  ...          NaN   NaN        5        66   \n",
              "\n",
              "        AntispamDirection  SuspicionLevel  LastVerdict  CountryCode  State  \\\n",
              "208502                NaN             NaN          NaN          242   1445   \n",
              "57767                 NaN             NaN          NaN          242   1445   \n",
              "235357                NaN             NaN          NaN          242   1445   \n",
              "21126                 NaN             NaN          NaN          242   1445   \n",
              "128964                NaN             NaN          NaN          242   1445   \n",
              "\n",
              "         City  \n",
              "208502  10630  \n",
              "57767   10630  \n",
              "235357  10630  \n",
              "21126   10630  \n",
              "128964  10630  \n",
              "\n",
              "[5 rows x 45 columns]"
            ],
            "text/html": [
              "\n",
              "  <div id=\"df-f9e85e17-e5e2-4038-88ce-b6d9b031c2b4\" class=\"colab-df-container\">\n",
              "    <div>\n",
              "<style scoped>\n",
              "    .dataframe tbody tr th:only-of-type {\n",
              "        vertical-align: middle;\n",
              "    }\n",
              "\n",
              "    .dataframe tbody tr th {\n",
              "        vertical-align: top;\n",
              "    }\n",
              "\n",
              "    .dataframe thead th {\n",
              "        text-align: right;\n",
              "    }\n",
              "</style>\n",
              "<table border=\"1\" class=\"dataframe\">\n",
              "  <thead>\n",
              "    <tr style=\"text-align: right;\">\n",
              "      <th></th>\n",
              "      <th>Id</th>\n",
              "      <th>OrgId</th>\n",
              "      <th>IncidentId</th>\n",
              "      <th>AlertId</th>\n",
              "      <th>Timestamp</th>\n",
              "      <th>DetectorId</th>\n",
              "      <th>AlertTitle</th>\n",
              "      <th>Category</th>\n",
              "      <th>MitreTechniques</th>\n",
              "      <th>IncidentGrade</th>\n",
              "      <th>...</th>\n",
              "      <th>ResourceType</th>\n",
              "      <th>Roles</th>\n",
              "      <th>OSFamily</th>\n",
              "      <th>OSVersion</th>\n",
              "      <th>AntispamDirection</th>\n",
              "      <th>SuspicionLevel</th>\n",
              "      <th>LastVerdict</th>\n",
              "      <th>CountryCode</th>\n",
              "      <th>State</th>\n",
              "      <th>City</th>\n",
              "    </tr>\n",
              "  </thead>\n",
              "  <tbody>\n",
              "    <tr>\n",
              "      <th>208502</th>\n",
              "      <td>8589935127</td>\n",
              "      <td>283</td>\n",
              "      <td>335</td>\n",
              "      <td>509559</td>\n",
              "      <td>2024-06-11T14:15:54.000Z</td>\n",
              "      <td>0</td>\n",
              "      <td>0</td>\n",
              "      <td>InitialAccess</td>\n",
              "      <td>T1078;T1078.004</td>\n",
              "      <td>TruePositive</td>\n",
              "      <td>...</td>\n",
              "      <td>NaN</td>\n",
              "      <td>NaN</td>\n",
              "      <td>5</td>\n",
              "      <td>66</td>\n",
              "      <td>NaN</td>\n",
              "      <td>NaN</td>\n",
              "      <td>NaN</td>\n",
              "      <td>242</td>\n",
              "      <td>1445</td>\n",
              "      <td>10630</td>\n",
              "    </tr>\n",
              "    <tr>\n",
              "      <th>57767</th>\n",
              "      <td>635655163043</td>\n",
              "      <td>51</td>\n",
              "      <td>44733</td>\n",
              "      <td>295881</td>\n",
              "      <td>2024-06-03T23:17:54.000Z</td>\n",
              "      <td>39</td>\n",
              "      <td>26</td>\n",
              "      <td>Execution</td>\n",
              "      <td>T1559;T1106;T1059.005</td>\n",
              "      <td>BenignPositive</td>\n",
              "      <td>...</td>\n",
              "      <td>NaN</td>\n",
              "      <td>NaN</td>\n",
              "      <td>5</td>\n",
              "      <td>66</td>\n",
              "      <td>NaN</td>\n",
              "      <td>NaN</td>\n",
              "      <td>NaN</td>\n",
              "      <td>242</td>\n",
              "      <td>1445</td>\n",
              "      <td>10630</td>\n",
              "    </tr>\n",
              "    <tr>\n",
              "      <th>235357</th>\n",
              "      <td>1451698948195</td>\n",
              "      <td>13</td>\n",
              "      <td>6868</td>\n",
              "      <td>10238</td>\n",
              "      <td>2024-06-10T18:15:14.000Z</td>\n",
              "      <td>34</td>\n",
              "      <td>1135</td>\n",
              "      <td>Exfiltration</td>\n",
              "      <td>NaN</td>\n",
              "      <td>BenignPositive</td>\n",
              "      <td>...</td>\n",
              "      <td>NaN</td>\n",
              "      <td>NaN</td>\n",
              "      <td>5</td>\n",
              "      <td>66</td>\n",
              "      <td>NaN</td>\n",
              "      <td>NaN</td>\n",
              "      <td>NaN</td>\n",
              "      <td>242</td>\n",
              "      <td>1445</td>\n",
              "      <td>10630</td>\n",
              "    </tr>\n",
              "    <tr>\n",
              "      <th>21126</th>\n",
              "      <td>816043791031</td>\n",
              "      <td>9</td>\n",
              "      <td>64</td>\n",
              "      <td>112355</td>\n",
              "      <td>2024-06-12T15:28:38.000Z</td>\n",
              "      <td>90</td>\n",
              "      <td>4415</td>\n",
              "      <td>Exfiltration</td>\n",
              "      <td>NaN</td>\n",
              "      <td>BenignPositive</td>\n",
              "      <td>...</td>\n",
              "      <td>NaN</td>\n",
              "      <td>NaN</td>\n",
              "      <td>5</td>\n",
              "      <td>66</td>\n",
              "      <td>NaN</td>\n",
              "      <td>NaN</td>\n",
              "      <td>NaN</td>\n",
              "      <td>242</td>\n",
              "      <td>1445</td>\n",
              "      <td>10630</td>\n",
              "    </tr>\n",
              "    <tr>\n",
              "      <th>128964</th>\n",
              "      <td>1408749274237</td>\n",
              "      <td>16</td>\n",
              "      <td>99016</td>\n",
              "      <td>132381</td>\n",
              "      <td>2024-06-03T20:07:56.000Z</td>\n",
              "      <td>24</td>\n",
              "      <td>21634</td>\n",
              "      <td>Exfiltration</td>\n",
              "      <td>NaN</td>\n",
              "      <td>BenignPositive</td>\n",
              "      <td>...</td>\n",
              "      <td>NaN</td>\n",
              "      <td>NaN</td>\n",
              "      <td>5</td>\n",
              "      <td>66</td>\n",
              "      <td>NaN</td>\n",
              "      <td>NaN</td>\n",
              "      <td>NaN</td>\n",
              "      <td>242</td>\n",
              "      <td>1445</td>\n",
              "      <td>10630</td>\n",
              "    </tr>\n",
              "  </tbody>\n",
              "</table>\n",
              "<p>5 rows × 45 columns</p>\n",
              "</div>\n",
              "    <div class=\"colab-df-buttons\">\n",
              "\n",
              "  <div class=\"colab-df-container\">\n",
              "    <button class=\"colab-df-convert\" onclick=\"convertToInteractive('df-f9e85e17-e5e2-4038-88ce-b6d9b031c2b4')\"\n",
              "            title=\"Convert this dataframe to an interactive table.\"\n",
              "            style=\"display:none;\">\n",
              "\n",
              "  <svg xmlns=\"http://www.w3.org/2000/svg\" height=\"24px\" viewBox=\"0 -960 960 960\">\n",
              "    <path d=\"M120-120v-720h720v720H120Zm60-500h600v-160H180v160Zm220 220h160v-160H400v160Zm0 220h160v-160H400v160ZM180-400h160v-160H180v160Zm440 0h160v-160H620v160ZM180-180h160v-160H180v160Zm440 0h160v-160H620v160Z\"/>\n",
              "  </svg>\n",
              "    </button>\n",
              "\n",
              "  <style>\n",
              "    .colab-df-container {\n",
              "      display:flex;\n",
              "      gap: 12px;\n",
              "    }\n",
              "\n",
              "    .colab-df-convert {\n",
              "      background-color: #E8F0FE;\n",
              "      border: none;\n",
              "      border-radius: 50%;\n",
              "      cursor: pointer;\n",
              "      display: none;\n",
              "      fill: #1967D2;\n",
              "      height: 32px;\n",
              "      padding: 0 0 0 0;\n",
              "      width: 32px;\n",
              "    }\n",
              "\n",
              "    .colab-df-convert:hover {\n",
              "      background-color: #E2EBFA;\n",
              "      box-shadow: 0px 1px 2px rgba(60, 64, 67, 0.3), 0px 1px 3px 1px rgba(60, 64, 67, 0.15);\n",
              "      fill: #174EA6;\n",
              "    }\n",
              "\n",
              "    .colab-df-buttons div {\n",
              "      margin-bottom: 4px;\n",
              "    }\n",
              "\n",
              "    [theme=dark] .colab-df-convert {\n",
              "      background-color: #3B4455;\n",
              "      fill: #D2E3FC;\n",
              "    }\n",
              "\n",
              "    [theme=dark] .colab-df-convert:hover {\n",
              "      background-color: #434B5C;\n",
              "      box-shadow: 0px 1px 3px 1px rgba(0, 0, 0, 0.15);\n",
              "      filter: drop-shadow(0px 1px 2px rgba(0, 0, 0, 0.3));\n",
              "      fill: #FFFFFF;\n",
              "    }\n",
              "  </style>\n",
              "\n",
              "    <script>\n",
              "      const buttonEl =\n",
              "        document.querySelector('#df-f9e85e17-e5e2-4038-88ce-b6d9b031c2b4 button.colab-df-convert');\n",
              "      buttonEl.style.display =\n",
              "        google.colab.kernel.accessAllowed ? 'block' : 'none';\n",
              "\n",
              "      async function convertToInteractive(key) {\n",
              "        const element = document.querySelector('#df-f9e85e17-e5e2-4038-88ce-b6d9b031c2b4');\n",
              "        const dataTable =\n",
              "          await google.colab.kernel.invokeFunction('convertToInteractive',\n",
              "                                                    [key], {});\n",
              "        if (!dataTable) return;\n",
              "\n",
              "        const docLinkHtml = 'Like what you see? Visit the ' +\n",
              "          '<a target=\"_blank\" href=https://colab.research.google.com/notebooks/data_table.ipynb>data table notebook</a>'\n",
              "          + ' to learn more about interactive tables.';\n",
              "        element.innerHTML = '';\n",
              "        dataTable['output_type'] = 'display_data';\n",
              "        await google.colab.output.renderOutput(dataTable, element);\n",
              "        const docLink = document.createElement('div');\n",
              "        docLink.innerHTML = docLinkHtml;\n",
              "        element.appendChild(docLink);\n",
              "      }\n",
              "    </script>\n",
              "  </div>\n",
              "\n",
              "\n",
              "<div id=\"df-a43bbd55-ee8d-464b-8cf8-d44372987521\">\n",
              "  <button class=\"colab-df-quickchart\" onclick=\"quickchart('df-a43bbd55-ee8d-464b-8cf8-d44372987521')\"\n",
              "            title=\"Suggest charts\"\n",
              "            style=\"display:none;\">\n",
              "\n",
              "<svg xmlns=\"http://www.w3.org/2000/svg\" height=\"24px\"viewBox=\"0 0 24 24\"\n",
              "     width=\"24px\">\n",
              "    <g>\n",
              "        <path d=\"M19 3H5c-1.1 0-2 .9-2 2v14c0 1.1.9 2 2 2h14c1.1 0 2-.9 2-2V5c0-1.1-.9-2-2-2zM9 17H7v-7h2v7zm4 0h-2V7h2v10zm4 0h-2v-4h2v4z\"/>\n",
              "    </g>\n",
              "</svg>\n",
              "  </button>\n",
              "\n",
              "<style>\n",
              "  .colab-df-quickchart {\n",
              "      --bg-color: #E8F0FE;\n",
              "      --fill-color: #1967D2;\n",
              "      --hover-bg-color: #E2EBFA;\n",
              "      --hover-fill-color: #174EA6;\n",
              "      --disabled-fill-color: #AAA;\n",
              "      --disabled-bg-color: #DDD;\n",
              "  }\n",
              "\n",
              "  [theme=dark] .colab-df-quickchart {\n",
              "      --bg-color: #3B4455;\n",
              "      --fill-color: #D2E3FC;\n",
              "      --hover-bg-color: #434B5C;\n",
              "      --hover-fill-color: #FFFFFF;\n",
              "      --disabled-bg-color: #3B4455;\n",
              "      --disabled-fill-color: #666;\n",
              "  }\n",
              "\n",
              "  .colab-df-quickchart {\n",
              "    background-color: var(--bg-color);\n",
              "    border: none;\n",
              "    border-radius: 50%;\n",
              "    cursor: pointer;\n",
              "    display: none;\n",
              "    fill: var(--fill-color);\n",
              "    height: 32px;\n",
              "    padding: 0;\n",
              "    width: 32px;\n",
              "  }\n",
              "\n",
              "  .colab-df-quickchart:hover {\n",
              "    background-color: var(--hover-bg-color);\n",
              "    box-shadow: 0 1px 2px rgba(60, 64, 67, 0.3), 0 1px 3px 1px rgba(60, 64, 67, 0.15);\n",
              "    fill: var(--button-hover-fill-color);\n",
              "  }\n",
              "\n",
              "  .colab-df-quickchart-complete:disabled,\n",
              "  .colab-df-quickchart-complete:disabled:hover {\n",
              "    background-color: var(--disabled-bg-color);\n",
              "    fill: var(--disabled-fill-color);\n",
              "    box-shadow: none;\n",
              "  }\n",
              "\n",
              "  .colab-df-spinner {\n",
              "    border: 2px solid var(--fill-color);\n",
              "    border-color: transparent;\n",
              "    border-bottom-color: var(--fill-color);\n",
              "    animation:\n",
              "      spin 1s steps(1) infinite;\n",
              "  }\n",
              "\n",
              "  @keyframes spin {\n",
              "    0% {\n",
              "      border-color: transparent;\n",
              "      border-bottom-color: var(--fill-color);\n",
              "      border-left-color: var(--fill-color);\n",
              "    }\n",
              "    20% {\n",
              "      border-color: transparent;\n",
              "      border-left-color: var(--fill-color);\n",
              "      border-top-color: var(--fill-color);\n",
              "    }\n",
              "    30% {\n",
              "      border-color: transparent;\n",
              "      border-left-color: var(--fill-color);\n",
              "      border-top-color: var(--fill-color);\n",
              "      border-right-color: var(--fill-color);\n",
              "    }\n",
              "    40% {\n",
              "      border-color: transparent;\n",
              "      border-right-color: var(--fill-color);\n",
              "      border-top-color: var(--fill-color);\n",
              "    }\n",
              "    60% {\n",
              "      border-color: transparent;\n",
              "      border-right-color: var(--fill-color);\n",
              "    }\n",
              "    80% {\n",
              "      border-color: transparent;\n",
              "      border-right-color: var(--fill-color);\n",
              "      border-bottom-color: var(--fill-color);\n",
              "    }\n",
              "    90% {\n",
              "      border-color: transparent;\n",
              "      border-bottom-color: var(--fill-color);\n",
              "    }\n",
              "  }\n",
              "</style>\n",
              "\n",
              "  <script>\n",
              "    async function quickchart(key) {\n",
              "      const quickchartButtonEl =\n",
              "        document.querySelector('#' + key + ' button');\n",
              "      quickchartButtonEl.disabled = true;  // To prevent multiple clicks.\n",
              "      quickchartButtonEl.classList.add('colab-df-spinner');\n",
              "      try {\n",
              "        const charts = await google.colab.kernel.invokeFunction(\n",
              "            'suggestCharts', [key], {});\n",
              "      } catch (error) {\n",
              "        console.error('Error during call to suggestCharts:', error);\n",
              "      }\n",
              "      quickchartButtonEl.classList.remove('colab-df-spinner');\n",
              "      quickchartButtonEl.classList.add('colab-df-quickchart-complete');\n",
              "    }\n",
              "    (() => {\n",
              "      let quickchartButtonEl =\n",
              "        document.querySelector('#df-a43bbd55-ee8d-464b-8cf8-d44372987521 button');\n",
              "      quickchartButtonEl.style.display =\n",
              "        google.colab.kernel.accessAllowed ? 'block' : 'none';\n",
              "    })();\n",
              "  </script>\n",
              "</div>\n",
              "\n",
              "    </div>\n",
              "  </div>\n"
            ],
            "application/vnd.google.colaboratory.intrinsic+json": {
              "type": "dataframe"
            }
          },
          "metadata": {},
          "execution_count": 18
        }
      ],
      "source": [
        "train_df.head()"
      ]
    },
    {
      "cell_type": "code",
      "execution_count": null,
      "metadata": {
        "id": "Eq2Pjvn9xUzl"
      },
      "outputs": [],
      "source": [
        "train_df = train_df.drop(['Id'], axis=1)\n",
        "test_df = test_df.drop(['Id'], axis=1)"
      ]
    },
    {
      "cell_type": "code",
      "execution_count": null,
      "metadata": {
        "id": "y7PG7coKKq3D"
      },
      "outputs": [],
      "source": [
        "train_df = train_df.drop(['MitreTechniques','ActionGrouped', 'ActionGranular', 'EmailClusterId', 'ThreatFamily', 'ResourceType','Roles','AntispamDirection','SuspicionLevel','LastVerdict'], axis=1)"
      ]
    },
    {
      "cell_type": "code",
      "execution_count": null,
      "metadata": {
        "id": "5niGfAzCiD8j"
      },
      "outputs": [],
      "source": [
        "test_df = test_df.drop(['MitreTechniques','ActionGrouped', 'ActionGranular', 'EmailClusterId', 'ThreatFamily', 'ResourceType','Roles','AntispamDirection','SuspicionLevel','LastVerdict'], axis=1)"
      ]
    },
    {
      "cell_type": "code",
      "execution_count": null,
      "metadata": {
        "id": "guVsCmh8Gr4T"
      },
      "outputs": [],
      "source": [
        "train_df = train_df.dropna(subset=['IncidentGrade'])"
      ]
    },
    {
      "cell_type": "code",
      "execution_count": null,
      "metadata": {
        "id": "fq5x-K6MbcEZ"
      },
      "outputs": [],
      "source": [
        "test_df = test_df.dropna(subset=['IncidentGrade'])"
      ]
    },
    {
      "cell_type": "code",
      "execution_count": null,
      "metadata": {
        "colab": {
          "base_uri": "https://localhost:8080/",
          "height": 1000
        },
        "id": "HqCXxKUGihgP",
        "outputId": "52b919a7-1d64-4ca0-e14f-77ec22c8b309"
      },
      "outputs": [
        {
          "output_type": "execute_result",
          "data": {
            "text/plain": [
              "OrgId                 0\n",
              "IncidentId            0\n",
              "AlertId               0\n",
              "Timestamp             0\n",
              "DetectorId            0\n",
              "AlertTitle            0\n",
              "Category              0\n",
              "IncidentGrade         0\n",
              "EntityType            0\n",
              "EvidenceRole          0\n",
              "DeviceId              0\n",
              "Sha256                0\n",
              "IpAddress             0\n",
              "Url                   0\n",
              "AccountSid            0\n",
              "AccountUpn            0\n",
              "AccountObjectId       0\n",
              "AccountName           0\n",
              "DeviceName            0\n",
              "NetworkMessageId      0\n",
              "RegistryKey           0\n",
              "RegistryValueName     0\n",
              "RegistryValueData     0\n",
              "ApplicationId         0\n",
              "ApplicationName       0\n",
              "OAuthApplicationId    0\n",
              "FileName              0\n",
              "FolderPath            0\n",
              "ResourceIdName        0\n",
              "OSFamily              0\n",
              "OSVersion             0\n",
              "CountryCode           0\n",
              "State                 0\n",
              "City                  0\n",
              "dtype: int64"
            ],
            "text/html": [
              "<div>\n",
              "<style scoped>\n",
              "    .dataframe tbody tr th:only-of-type {\n",
              "        vertical-align: middle;\n",
              "    }\n",
              "\n",
              "    .dataframe tbody tr th {\n",
              "        vertical-align: top;\n",
              "    }\n",
              "\n",
              "    .dataframe thead th {\n",
              "        text-align: right;\n",
              "    }\n",
              "</style>\n",
              "<table border=\"1\" class=\"dataframe\">\n",
              "  <thead>\n",
              "    <tr style=\"text-align: right;\">\n",
              "      <th></th>\n",
              "      <th>0</th>\n",
              "    </tr>\n",
              "  </thead>\n",
              "  <tbody>\n",
              "    <tr>\n",
              "      <th>OrgId</th>\n",
              "      <td>0</td>\n",
              "    </tr>\n",
              "    <tr>\n",
              "      <th>IncidentId</th>\n",
              "      <td>0</td>\n",
              "    </tr>\n",
              "    <tr>\n",
              "      <th>AlertId</th>\n",
              "      <td>0</td>\n",
              "    </tr>\n",
              "    <tr>\n",
              "      <th>Timestamp</th>\n",
              "      <td>0</td>\n",
              "    </tr>\n",
              "    <tr>\n",
              "      <th>DetectorId</th>\n",
              "      <td>0</td>\n",
              "    </tr>\n",
              "    <tr>\n",
              "      <th>AlertTitle</th>\n",
              "      <td>0</td>\n",
              "    </tr>\n",
              "    <tr>\n",
              "      <th>Category</th>\n",
              "      <td>0</td>\n",
              "    </tr>\n",
              "    <tr>\n",
              "      <th>IncidentGrade</th>\n",
              "      <td>0</td>\n",
              "    </tr>\n",
              "    <tr>\n",
              "      <th>EntityType</th>\n",
              "      <td>0</td>\n",
              "    </tr>\n",
              "    <tr>\n",
              "      <th>EvidenceRole</th>\n",
              "      <td>0</td>\n",
              "    </tr>\n",
              "    <tr>\n",
              "      <th>DeviceId</th>\n",
              "      <td>0</td>\n",
              "    </tr>\n",
              "    <tr>\n",
              "      <th>Sha256</th>\n",
              "      <td>0</td>\n",
              "    </tr>\n",
              "    <tr>\n",
              "      <th>IpAddress</th>\n",
              "      <td>0</td>\n",
              "    </tr>\n",
              "    <tr>\n",
              "      <th>Url</th>\n",
              "      <td>0</td>\n",
              "    </tr>\n",
              "    <tr>\n",
              "      <th>AccountSid</th>\n",
              "      <td>0</td>\n",
              "    </tr>\n",
              "    <tr>\n",
              "      <th>AccountUpn</th>\n",
              "      <td>0</td>\n",
              "    </tr>\n",
              "    <tr>\n",
              "      <th>AccountObjectId</th>\n",
              "      <td>0</td>\n",
              "    </tr>\n",
              "    <tr>\n",
              "      <th>AccountName</th>\n",
              "      <td>0</td>\n",
              "    </tr>\n",
              "    <tr>\n",
              "      <th>DeviceName</th>\n",
              "      <td>0</td>\n",
              "    </tr>\n",
              "    <tr>\n",
              "      <th>NetworkMessageId</th>\n",
              "      <td>0</td>\n",
              "    </tr>\n",
              "    <tr>\n",
              "      <th>RegistryKey</th>\n",
              "      <td>0</td>\n",
              "    </tr>\n",
              "    <tr>\n",
              "      <th>RegistryValueName</th>\n",
              "      <td>0</td>\n",
              "    </tr>\n",
              "    <tr>\n",
              "      <th>RegistryValueData</th>\n",
              "      <td>0</td>\n",
              "    </tr>\n",
              "    <tr>\n",
              "      <th>ApplicationId</th>\n",
              "      <td>0</td>\n",
              "    </tr>\n",
              "    <tr>\n",
              "      <th>ApplicationName</th>\n",
              "      <td>0</td>\n",
              "    </tr>\n",
              "    <tr>\n",
              "      <th>OAuthApplicationId</th>\n",
              "      <td>0</td>\n",
              "    </tr>\n",
              "    <tr>\n",
              "      <th>FileName</th>\n",
              "      <td>0</td>\n",
              "    </tr>\n",
              "    <tr>\n",
              "      <th>FolderPath</th>\n",
              "      <td>0</td>\n",
              "    </tr>\n",
              "    <tr>\n",
              "      <th>ResourceIdName</th>\n",
              "      <td>0</td>\n",
              "    </tr>\n",
              "    <tr>\n",
              "      <th>OSFamily</th>\n",
              "      <td>0</td>\n",
              "    </tr>\n",
              "    <tr>\n",
              "      <th>OSVersion</th>\n",
              "      <td>0</td>\n",
              "    </tr>\n",
              "    <tr>\n",
              "      <th>CountryCode</th>\n",
              "      <td>0</td>\n",
              "    </tr>\n",
              "    <tr>\n",
              "      <th>State</th>\n",
              "      <td>0</td>\n",
              "    </tr>\n",
              "    <tr>\n",
              "      <th>City</th>\n",
              "      <td>0</td>\n",
              "    </tr>\n",
              "  </tbody>\n",
              "</table>\n",
              "</div><br><label><b>dtype:</b> int64</label>"
            ]
          },
          "metadata": {},
          "execution_count": 24
        }
      ],
      "source": [
        "train_df.isnull().sum().compute()"
      ]
    },
    {
      "cell_type": "code",
      "execution_count": null,
      "metadata": {
        "id": "eKxo3dAfgple",
        "colab": {
          "base_uri": "https://localhost:8080/"
        },
        "outputId": "f598ae39-1cbf-4ca7-b5e8-5467a189cb0d"
      },
      "outputs": [
        {
          "output_type": "stream",
          "name": "stdout",
          "text": [
            "<class 'dask_expr.DataFrame'>\n",
            "Columns: 34 entries, OrgId to City\n",
            "dtypes: int64(29), string(5)"
          ]
        }
      ],
      "source": [
        "train_df.info()"
      ]
    },
    {
      "cell_type": "code",
      "execution_count": null,
      "metadata": {
        "id": "cOR7yMR5Dd0l"
      },
      "outputs": [],
      "source": [
        "train_df['Timestamp'] = train_df['Timestamp'].str.extract(r'(\\d{4}-\\d{2}-\\d{2})', expand=False)"
      ]
    },
    {
      "cell_type": "code",
      "execution_count": null,
      "metadata": {
        "id": "0Ui0rrKHIn22"
      },
      "outputs": [],
      "source": [
        "train_df['Timestamp'] = dd.to_datetime(train_df['Timestamp'], format='%Y-%m-%d')"
      ]
    },
    {
      "cell_type": "code",
      "execution_count": null,
      "metadata": {
        "id": "hYCN7p9iJR8t"
      },
      "outputs": [],
      "source": [
        "test_df['Timestamp'] = test_df['Timestamp'].str.extract(r'(\\d{4}-\\d{2}-\\d{2})', expand=False)"
      ]
    },
    {
      "cell_type": "code",
      "execution_count": null,
      "metadata": {
        "id": "OOfnentUJWbF"
      },
      "outputs": [],
      "source": [
        "test_df['Timestamp'] = dd.to_datetime(test_df['Timestamp'], format='%Y-%m-%d')"
      ]
    },
    {
      "cell_type": "markdown",
      "metadata": {
        "id": "OF7jyFdbKXuH"
      },
      "source": [
        "## create day of week column"
      ]
    },
    {
      "cell_type": "code",
      "execution_count": null,
      "metadata": {
        "id": "HfANJ49uJc3x"
      },
      "outputs": [],
      "source": [
        "train_df['Day_of_Week'] = train_df['Timestamp'].dt.day_name()"
      ]
    },
    {
      "cell_type": "code",
      "execution_count": null,
      "metadata": {
        "id": "rlEVSaplLIUz"
      },
      "outputs": [],
      "source": [
        "test_df['Day_of_Week'] = test_df['Timestamp'].dt.day_name()"
      ]
    },
    {
      "cell_type": "markdown",
      "metadata": {
        "id": "XCkmLW_aSYhm"
      },
      "source": [
        "## split train_df into x and y"
      ]
    },
    {
      "cell_type": "code",
      "execution_count": null,
      "metadata": {
        "id": "pLl7zDYRSY7E"
      },
      "outputs": [],
      "source": [
        "# first split features and target\n",
        "train_x = train_df.drop('IncidentGrade', axis=1)\n",
        "train_y = train_df['IncidentGrade']"
      ]
    },
    {
      "cell_type": "code",
      "execution_count": null,
      "metadata": {
        "id": "uuRAhiYmUE0Y"
      },
      "outputs": [],
      "source": [
        "test_x = test_df.drop('IncidentGrade', axis=1)\n",
        "test_y = test_df['IncidentGrade']"
      ]
    },
    {
      "cell_type": "markdown",
      "metadata": {
        "id": "ahqvdUbJLdsG"
      },
      "source": [
        "# encoding categorical features"
      ]
    },
    {
      "cell_type": "code",
      "execution_count": null,
      "metadata": {
        "id": "3fv6CTIunjyc"
      },
      "outputs": [],
      "source": [
        "for col in train_x.columns:\n",
        "    if train_x[col].dtype == 'object' or train_x[col].dtype == 'string':\n",
        "        train_x[col] = train_x[col].astype('category')"
      ]
    },
    {
      "cell_type": "code",
      "execution_count": null,
      "metadata": {
        "id": "5j3uarrpnp0U"
      },
      "outputs": [],
      "source": [
        "for col in test_x.columns:\n",
        "    if test_x[col].dtype == 'object' or test_x[col].dtype == 'string':\n",
        "        test_x[col] = test_x[col].astype('category')"
      ]
    },
    {
      "cell_type": "code",
      "execution_count": null,
      "metadata": {
        "colab": {
          "base_uri": "https://localhost:8080/"
        },
        "id": "m5bCuHy3o58s",
        "outputId": "a01fd7fa-6bb0-4ff3-f335-0971a1041fbc"
      },
      "outputs": [
        {
          "output_type": "execute_result",
          "data": {
            "text/plain": [
              "Index(['Category', 'EntityType', 'EvidenceRole', 'Day_of_Week'], dtype='object')"
            ]
          },
          "metadata": {},
          "execution_count": 66
        }
      ],
      "source": [
        "categorical_features = train_x.select_dtypes(include=['category']).columns\n",
        "categorical_features"
      ]
    },
    {
      "cell_type": "code",
      "execution_count": null,
      "metadata": {
        "id": "VraqY3cWpbrP"
      },
      "outputs": [],
      "source": [
        "train_x_cat = train_x.categorize(columns=categorical_features)\n",
        "test_x_cat = test_x.categorize(columns=categorical_features)"
      ]
    },
    {
      "cell_type": "code",
      "execution_count": null,
      "metadata": {
        "id": "qN26upR3LdKX",
        "colab": {
          "base_uri": "https://localhost:8080/",
          "height": 342
        },
        "outputId": "12616a70-00a0-426c-f631-418ed0a10778"
      },
      "outputs": [
        {
          "output_type": "execute_result",
          "data": {
            "text/plain": [
              "        OrgId  IncidentId  AlertId  Timestamp  DetectorId  AlertTitle  \\\n",
              "208502    283         335   509559 2024-06-11           0           0   \n",
              "57767      51       44733   295881 2024-06-03          39          26   \n",
              "235357     13        6868    10238 2024-06-10          34        1135   \n",
              "21126       9          64   112355 2024-06-12          90        4415   \n",
              "128964     16       99016   132381 2024-06-03          24       21634   \n",
              "\n",
              "        DeviceId  Sha256  IpAddress     Url  ...  EntityType_User  \\\n",
              "208502     98799  138268     360606  160396  ...             True   \n",
              "57767      98799  138268     360606  160396  ...             True   \n",
              "235357     98799     412     360606  160396  ...            False   \n",
              "21126      98799  138268     360606  160396  ...             True   \n",
              "128964     98799  138268     360606  160396  ...            False   \n",
              "\n",
              "        EvidenceRole_Impacted  EvidenceRole_Related  Day_of_Week_Friday  \\\n",
              "208502                   True                 False               False   \n",
              "57767                   False                  True               False   \n",
              "235357                   True                 False               False   \n",
              "21126                    True                 False               False   \n",
              "128964                   True                 False               False   \n",
              "\n",
              "        Day_of_Week_Monday  Day_of_Week_Saturday  Day_of_Week_Sunday  \\\n",
              "208502               False                 False               False   \n",
              "57767                 True                 False               False   \n",
              "235357                True                 False               False   \n",
              "21126                False                 False               False   \n",
              "128964                True                 False               False   \n",
              "\n",
              "        Day_of_Week_Thursday  Day_of_Week_Tuesday  Day_of_Week_Wednesday  \n",
              "208502                 False                 True                  False  \n",
              "57767                  False                False                  False  \n",
              "235357                 False                False                  False  \n",
              "21126                  False                False                   True  \n",
              "128964                 False                False                  False  \n",
              "\n",
              "[5 rows x 79 columns]"
            ],
            "text/html": [
              "\n",
              "  <div id=\"df-0c0485ef-7cc9-40e6-be56-397acda38187\" class=\"colab-df-container\">\n",
              "    <div>\n",
              "<style scoped>\n",
              "    .dataframe tbody tr th:only-of-type {\n",
              "        vertical-align: middle;\n",
              "    }\n",
              "\n",
              "    .dataframe tbody tr th {\n",
              "        vertical-align: top;\n",
              "    }\n",
              "\n",
              "    .dataframe thead th {\n",
              "        text-align: right;\n",
              "    }\n",
              "</style>\n",
              "<table border=\"1\" class=\"dataframe\">\n",
              "  <thead>\n",
              "    <tr style=\"text-align: right;\">\n",
              "      <th></th>\n",
              "      <th>OrgId</th>\n",
              "      <th>IncidentId</th>\n",
              "      <th>AlertId</th>\n",
              "      <th>Timestamp</th>\n",
              "      <th>DetectorId</th>\n",
              "      <th>AlertTitle</th>\n",
              "      <th>DeviceId</th>\n",
              "      <th>Sha256</th>\n",
              "      <th>IpAddress</th>\n",
              "      <th>Url</th>\n",
              "      <th>...</th>\n",
              "      <th>EntityType_User</th>\n",
              "      <th>EvidenceRole_Impacted</th>\n",
              "      <th>EvidenceRole_Related</th>\n",
              "      <th>Day_of_Week_Friday</th>\n",
              "      <th>Day_of_Week_Monday</th>\n",
              "      <th>Day_of_Week_Saturday</th>\n",
              "      <th>Day_of_Week_Sunday</th>\n",
              "      <th>Day_of_Week_Thursday</th>\n",
              "      <th>Day_of_Week_Tuesday</th>\n",
              "      <th>Day_of_Week_Wednesday</th>\n",
              "    </tr>\n",
              "  </thead>\n",
              "  <tbody>\n",
              "    <tr>\n",
              "      <th>208502</th>\n",
              "      <td>283</td>\n",
              "      <td>335</td>\n",
              "      <td>509559</td>\n",
              "      <td>2024-06-11</td>\n",
              "      <td>0</td>\n",
              "      <td>0</td>\n",
              "      <td>98799</td>\n",
              "      <td>138268</td>\n",
              "      <td>360606</td>\n",
              "      <td>160396</td>\n",
              "      <td>...</td>\n",
              "      <td>True</td>\n",
              "      <td>True</td>\n",
              "      <td>False</td>\n",
              "      <td>False</td>\n",
              "      <td>False</td>\n",
              "      <td>False</td>\n",
              "      <td>False</td>\n",
              "      <td>False</td>\n",
              "      <td>True</td>\n",
              "      <td>False</td>\n",
              "    </tr>\n",
              "    <tr>\n",
              "      <th>57767</th>\n",
              "      <td>51</td>\n",
              "      <td>44733</td>\n",
              "      <td>295881</td>\n",
              "      <td>2024-06-03</td>\n",
              "      <td>39</td>\n",
              "      <td>26</td>\n",
              "      <td>98799</td>\n",
              "      <td>138268</td>\n",
              "      <td>360606</td>\n",
              "      <td>160396</td>\n",
              "      <td>...</td>\n",
              "      <td>True</td>\n",
              "      <td>False</td>\n",
              "      <td>True</td>\n",
              "      <td>False</td>\n",
              "      <td>True</td>\n",
              "      <td>False</td>\n",
              "      <td>False</td>\n",
              "      <td>False</td>\n",
              "      <td>False</td>\n",
              "      <td>False</td>\n",
              "    </tr>\n",
              "    <tr>\n",
              "      <th>235357</th>\n",
              "      <td>13</td>\n",
              "      <td>6868</td>\n",
              "      <td>10238</td>\n",
              "      <td>2024-06-10</td>\n",
              "      <td>34</td>\n",
              "      <td>1135</td>\n",
              "      <td>98799</td>\n",
              "      <td>412</td>\n",
              "      <td>360606</td>\n",
              "      <td>160396</td>\n",
              "      <td>...</td>\n",
              "      <td>False</td>\n",
              "      <td>True</td>\n",
              "      <td>False</td>\n",
              "      <td>False</td>\n",
              "      <td>True</td>\n",
              "      <td>False</td>\n",
              "      <td>False</td>\n",
              "      <td>False</td>\n",
              "      <td>False</td>\n",
              "      <td>False</td>\n",
              "    </tr>\n",
              "    <tr>\n",
              "      <th>21126</th>\n",
              "      <td>9</td>\n",
              "      <td>64</td>\n",
              "      <td>112355</td>\n",
              "      <td>2024-06-12</td>\n",
              "      <td>90</td>\n",
              "      <td>4415</td>\n",
              "      <td>98799</td>\n",
              "      <td>138268</td>\n",
              "      <td>360606</td>\n",
              "      <td>160396</td>\n",
              "      <td>...</td>\n",
              "      <td>True</td>\n",
              "      <td>True</td>\n",
              "      <td>False</td>\n",
              "      <td>False</td>\n",
              "      <td>False</td>\n",
              "      <td>False</td>\n",
              "      <td>False</td>\n",
              "      <td>False</td>\n",
              "      <td>False</td>\n",
              "      <td>True</td>\n",
              "    </tr>\n",
              "    <tr>\n",
              "      <th>128964</th>\n",
              "      <td>16</td>\n",
              "      <td>99016</td>\n",
              "      <td>132381</td>\n",
              "      <td>2024-06-03</td>\n",
              "      <td>24</td>\n",
              "      <td>21634</td>\n",
              "      <td>98799</td>\n",
              "      <td>138268</td>\n",
              "      <td>360606</td>\n",
              "      <td>160396</td>\n",
              "      <td>...</td>\n",
              "      <td>False</td>\n",
              "      <td>True</td>\n",
              "      <td>False</td>\n",
              "      <td>False</td>\n",
              "      <td>True</td>\n",
              "      <td>False</td>\n",
              "      <td>False</td>\n",
              "      <td>False</td>\n",
              "      <td>False</td>\n",
              "      <td>False</td>\n",
              "    </tr>\n",
              "  </tbody>\n",
              "</table>\n",
              "<p>5 rows × 79 columns</p>\n",
              "</div>\n",
              "    <div class=\"colab-df-buttons\">\n",
              "\n",
              "  <div class=\"colab-df-container\">\n",
              "    <button class=\"colab-df-convert\" onclick=\"convertToInteractive('df-0c0485ef-7cc9-40e6-be56-397acda38187')\"\n",
              "            title=\"Convert this dataframe to an interactive table.\"\n",
              "            style=\"display:none;\">\n",
              "\n",
              "  <svg xmlns=\"http://www.w3.org/2000/svg\" height=\"24px\" viewBox=\"0 -960 960 960\">\n",
              "    <path d=\"M120-120v-720h720v720H120Zm60-500h600v-160H180v160Zm220 220h160v-160H400v160Zm0 220h160v-160H400v160ZM180-400h160v-160H180v160Zm440 0h160v-160H620v160ZM180-180h160v-160H180v160Zm440 0h160v-160H620v160Z\"/>\n",
              "  </svg>\n",
              "    </button>\n",
              "\n",
              "  <style>\n",
              "    .colab-df-container {\n",
              "      display:flex;\n",
              "      gap: 12px;\n",
              "    }\n",
              "\n",
              "    .colab-df-convert {\n",
              "      background-color: #E8F0FE;\n",
              "      border: none;\n",
              "      border-radius: 50%;\n",
              "      cursor: pointer;\n",
              "      display: none;\n",
              "      fill: #1967D2;\n",
              "      height: 32px;\n",
              "      padding: 0 0 0 0;\n",
              "      width: 32px;\n",
              "    }\n",
              "\n",
              "    .colab-df-convert:hover {\n",
              "      background-color: #E2EBFA;\n",
              "      box-shadow: 0px 1px 2px rgba(60, 64, 67, 0.3), 0px 1px 3px 1px rgba(60, 64, 67, 0.15);\n",
              "      fill: #174EA6;\n",
              "    }\n",
              "\n",
              "    .colab-df-buttons div {\n",
              "      margin-bottom: 4px;\n",
              "    }\n",
              "\n",
              "    [theme=dark] .colab-df-convert {\n",
              "      background-color: #3B4455;\n",
              "      fill: #D2E3FC;\n",
              "    }\n",
              "\n",
              "    [theme=dark] .colab-df-convert:hover {\n",
              "      background-color: #434B5C;\n",
              "      box-shadow: 0px 1px 3px 1px rgba(0, 0, 0, 0.15);\n",
              "      filter: drop-shadow(0px 1px 2px rgba(0, 0, 0, 0.3));\n",
              "      fill: #FFFFFF;\n",
              "    }\n",
              "  </style>\n",
              "\n",
              "    <script>\n",
              "      const buttonEl =\n",
              "        document.querySelector('#df-0c0485ef-7cc9-40e6-be56-397acda38187 button.colab-df-convert');\n",
              "      buttonEl.style.display =\n",
              "        google.colab.kernel.accessAllowed ? 'block' : 'none';\n",
              "\n",
              "      async function convertToInteractive(key) {\n",
              "        const element = document.querySelector('#df-0c0485ef-7cc9-40e6-be56-397acda38187');\n",
              "        const dataTable =\n",
              "          await google.colab.kernel.invokeFunction('convertToInteractive',\n",
              "                                                    [key], {});\n",
              "        if (!dataTable) return;\n",
              "\n",
              "        const docLinkHtml = 'Like what you see? Visit the ' +\n",
              "          '<a target=\"_blank\" href=https://colab.research.google.com/notebooks/data_table.ipynb>data table notebook</a>'\n",
              "          + ' to learn more about interactive tables.';\n",
              "        element.innerHTML = '';\n",
              "        dataTable['output_type'] = 'display_data';\n",
              "        await google.colab.output.renderOutput(dataTable, element);\n",
              "        const docLink = document.createElement('div');\n",
              "        docLink.innerHTML = docLinkHtml;\n",
              "        element.appendChild(docLink);\n",
              "      }\n",
              "    </script>\n",
              "  </div>\n",
              "\n",
              "\n",
              "<div id=\"df-9728076a-a0fb-42b2-b068-8420efceea1d\">\n",
              "  <button class=\"colab-df-quickchart\" onclick=\"quickchart('df-9728076a-a0fb-42b2-b068-8420efceea1d')\"\n",
              "            title=\"Suggest charts\"\n",
              "            style=\"display:none;\">\n",
              "\n",
              "<svg xmlns=\"http://www.w3.org/2000/svg\" height=\"24px\"viewBox=\"0 0 24 24\"\n",
              "     width=\"24px\">\n",
              "    <g>\n",
              "        <path d=\"M19 3H5c-1.1 0-2 .9-2 2v14c0 1.1.9 2 2 2h14c1.1 0 2-.9 2-2V5c0-1.1-.9-2-2-2zM9 17H7v-7h2v7zm4 0h-2V7h2v10zm4 0h-2v-4h2v4z\"/>\n",
              "    </g>\n",
              "</svg>\n",
              "  </button>\n",
              "\n",
              "<style>\n",
              "  .colab-df-quickchart {\n",
              "      --bg-color: #E8F0FE;\n",
              "      --fill-color: #1967D2;\n",
              "      --hover-bg-color: #E2EBFA;\n",
              "      --hover-fill-color: #174EA6;\n",
              "      --disabled-fill-color: #AAA;\n",
              "      --disabled-bg-color: #DDD;\n",
              "  }\n",
              "\n",
              "  [theme=dark] .colab-df-quickchart {\n",
              "      --bg-color: #3B4455;\n",
              "      --fill-color: #D2E3FC;\n",
              "      --hover-bg-color: #434B5C;\n",
              "      --hover-fill-color: #FFFFFF;\n",
              "      --disabled-bg-color: #3B4455;\n",
              "      --disabled-fill-color: #666;\n",
              "  }\n",
              "\n",
              "  .colab-df-quickchart {\n",
              "    background-color: var(--bg-color);\n",
              "    border: none;\n",
              "    border-radius: 50%;\n",
              "    cursor: pointer;\n",
              "    display: none;\n",
              "    fill: var(--fill-color);\n",
              "    height: 32px;\n",
              "    padding: 0;\n",
              "    width: 32px;\n",
              "  }\n",
              "\n",
              "  .colab-df-quickchart:hover {\n",
              "    background-color: var(--hover-bg-color);\n",
              "    box-shadow: 0 1px 2px rgba(60, 64, 67, 0.3), 0 1px 3px 1px rgba(60, 64, 67, 0.15);\n",
              "    fill: var(--button-hover-fill-color);\n",
              "  }\n",
              "\n",
              "  .colab-df-quickchart-complete:disabled,\n",
              "  .colab-df-quickchart-complete:disabled:hover {\n",
              "    background-color: var(--disabled-bg-color);\n",
              "    fill: var(--disabled-fill-color);\n",
              "    box-shadow: none;\n",
              "  }\n",
              "\n",
              "  .colab-df-spinner {\n",
              "    border: 2px solid var(--fill-color);\n",
              "    border-color: transparent;\n",
              "    border-bottom-color: var(--fill-color);\n",
              "    animation:\n",
              "      spin 1s steps(1) infinite;\n",
              "  }\n",
              "\n",
              "  @keyframes spin {\n",
              "    0% {\n",
              "      border-color: transparent;\n",
              "      border-bottom-color: var(--fill-color);\n",
              "      border-left-color: var(--fill-color);\n",
              "    }\n",
              "    20% {\n",
              "      border-color: transparent;\n",
              "      border-left-color: var(--fill-color);\n",
              "      border-top-color: var(--fill-color);\n",
              "    }\n",
              "    30% {\n",
              "      border-color: transparent;\n",
              "      border-left-color: var(--fill-color);\n",
              "      border-top-color: var(--fill-color);\n",
              "      border-right-color: var(--fill-color);\n",
              "    }\n",
              "    40% {\n",
              "      border-color: transparent;\n",
              "      border-right-color: var(--fill-color);\n",
              "      border-top-color: var(--fill-color);\n",
              "    }\n",
              "    60% {\n",
              "      border-color: transparent;\n",
              "      border-right-color: var(--fill-color);\n",
              "    }\n",
              "    80% {\n",
              "      border-color: transparent;\n",
              "      border-right-color: var(--fill-color);\n",
              "      border-bottom-color: var(--fill-color);\n",
              "    }\n",
              "    90% {\n",
              "      border-color: transparent;\n",
              "      border-bottom-color: var(--fill-color);\n",
              "    }\n",
              "  }\n",
              "</style>\n",
              "\n",
              "  <script>\n",
              "    async function quickchart(key) {\n",
              "      const quickchartButtonEl =\n",
              "        document.querySelector('#' + key + ' button');\n",
              "      quickchartButtonEl.disabled = true;  // To prevent multiple clicks.\n",
              "      quickchartButtonEl.classList.add('colab-df-spinner');\n",
              "      try {\n",
              "        const charts = await google.colab.kernel.invokeFunction(\n",
              "            'suggestCharts', [key], {});\n",
              "      } catch (error) {\n",
              "        console.error('Error during call to suggestCharts:', error);\n",
              "      }\n",
              "      quickchartButtonEl.classList.remove('colab-df-spinner');\n",
              "      quickchartButtonEl.classList.add('colab-df-quickchart-complete');\n",
              "    }\n",
              "    (() => {\n",
              "      let quickchartButtonEl =\n",
              "        document.querySelector('#df-9728076a-a0fb-42b2-b068-8420efceea1d button');\n",
              "      quickchartButtonEl.style.display =\n",
              "        google.colab.kernel.accessAllowed ? 'block' : 'none';\n",
              "    })();\n",
              "  </script>\n",
              "</div>\n",
              "\n",
              "    </div>\n",
              "  </div>\n"
            ],
            "application/vnd.google.colaboratory.intrinsic+json": {
              "type": "dataframe"
            }
          },
          "metadata": {},
          "execution_count": 68
        }
      ],
      "source": [
        "encoder = DummyEncoder()\n",
        "train_x = encoder.fit_transform(train_x_cat)\n",
        "train_x.head()"
      ]
    },
    {
      "cell_type": "code",
      "execution_count": null,
      "metadata": {
        "id": "vlErL44KxXvP"
      },
      "outputs": [],
      "source": [
        "# convert only boolean columns to int data type\n",
        "for col in train_x.columns:\n",
        "    if train_x[col].dtype == 'bool':\n",
        "        train_x[col] = train_x[col].astype(int)"
      ]
    },
    {
      "cell_type": "code",
      "execution_count": null,
      "metadata": {
        "id": "IWxgoqFxq-TJ"
      },
      "outputs": [],
      "source": [
        "test_x = encoder.transform(test_x_cat)"
      ]
    },
    {
      "cell_type": "code",
      "execution_count": null,
      "metadata": {
        "id": "ERN_cwD4yFk2"
      },
      "outputs": [],
      "source": [
        "for col in test_x.columns:\n",
        "    if test_x[col].dtype == 'bool':\n",
        "        test_x[col] = test_x[col].astype(int)"
      ]
    },
    {
      "cell_type": "markdown",
      "metadata": {
        "id": "Ky1-NPiQ0-4u"
      },
      "source": [
        "## SMOTE"
      ]
    },
    {
      "cell_type": "code",
      "execution_count": null,
      "metadata": {
        "id": "18zm0Hlh1ByD"
      },
      "outputs": [],
      "source": [
        "from imblearn.over_sampling import SMOTE"
      ]
    },
    {
      "cell_type": "code",
      "execution_count": null,
      "metadata": {
        "id": "Fp8IjgRld1eb",
        "colab": {
          "base_uri": "https://localhost:8080/",
          "height": 210
        },
        "outputId": "b5ef562d-f9b8-46e4-fcff-08002b1796cd"
      },
      "outputs": [
        {
          "output_type": "execute_result",
          "data": {
            "text/plain": [
              "IncidentGrade\n",
              "BenignPositive    8210\n",
              "TruePositive      6604\n",
              "FalsePositive     4109\n",
              "Name: count, dtype: int64"
            ],
            "text/html": [
              "<div>\n",
              "<style scoped>\n",
              "    .dataframe tbody tr th:only-of-type {\n",
              "        vertical-align: middle;\n",
              "    }\n",
              "\n",
              "    .dataframe tbody tr th {\n",
              "        vertical-align: top;\n",
              "    }\n",
              "\n",
              "    .dataframe thead th {\n",
              "        text-align: right;\n",
              "    }\n",
              "</style>\n",
              "<table border=\"1\" class=\"dataframe\">\n",
              "  <thead>\n",
              "    <tr style=\"text-align: right;\">\n",
              "      <th></th>\n",
              "      <th>count</th>\n",
              "    </tr>\n",
              "    <tr>\n",
              "      <th>IncidentGrade</th>\n",
              "      <th></th>\n",
              "    </tr>\n",
              "  </thead>\n",
              "  <tbody>\n",
              "    <tr>\n",
              "      <th>BenignPositive</th>\n",
              "      <td>8210</td>\n",
              "    </tr>\n",
              "    <tr>\n",
              "      <th>TruePositive</th>\n",
              "      <td>6604</td>\n",
              "    </tr>\n",
              "    <tr>\n",
              "      <th>FalsePositive</th>\n",
              "      <td>4109</td>\n",
              "    </tr>\n",
              "  </tbody>\n",
              "</table>\n",
              "</div><br><label><b>dtype:</b> int64</label>"
            ]
          },
          "metadata": {},
          "execution_count": 33
        }
      ],
      "source": [
        "train_y.value_counts().compute()"
      ]
    },
    {
      "cell_type": "code",
      "execution_count": null,
      "metadata": {
        "id": "vymnWihaed8f"
      },
      "outputs": [],
      "source": [
        "combined_df = dd.concat([train_x, train_y], axis=1)"
      ]
    },
    {
      "cell_type": "code",
      "execution_count": null,
      "metadata": {
        "id": "kLrXDZ6TeqJU"
      },
      "outputs": [],
      "source": [
        "def apply_smote(chunk):\n",
        "    smote = SMOTE()\n",
        "    #Exclude datetime columns from X\n",
        "    X = chunk.select_dtypes(exclude=['datetime']).drop('IncidentGrade', axis=1)\n",
        "    y = chunk['IncidentGrade']\n",
        "    X_resampled, y_resampled = smote.fit_resample(X, y)\n",
        "    return pd.concat([X_resampled, y_resampled], axis=1)"
      ]
    },
    {
      "cell_type": "code",
      "execution_count": null,
      "metadata": {
        "id": "46OwC4R2gIS8"
      },
      "outputs": [],
      "source": [
        "# combined_df['IncidentGrade'].isnull().sum().compute()"
      ]
    },
    {
      "cell_type": "code",
      "execution_count": null,
      "metadata": {
        "id": "6q-a4jzcfBHi"
      },
      "outputs": [],
      "source": [
        "# Apply SMOTE on each chunk\n",
        "meta = pd.DataFrame(columns=[col for col in combined_df.columns if col != 'Timestamp'])\n",
        "resampled_chunks = combined_df.map_partitions(apply_smote, meta=meta)"
      ]
    },
    {
      "cell_type": "code",
      "execution_count": null,
      "metadata": {
        "id": "DdfjuiU8fN_1"
      },
      "outputs": [],
      "source": [
        "# Combine the resampled chunks\n",
        "resampled_df = dd.concat([resampled_chunks], axis=0)"
      ]
    },
    {
      "cell_type": "code",
      "execution_count": null,
      "metadata": {
        "id": "NZDiBEd94Wva"
      },
      "outputs": [],
      "source": [
        "test_x = test_x.drop('Timestamp', axis=1)"
      ]
    },
    {
      "cell_type": "markdown",
      "metadata": {
        "id": "gdjQHGWFyOlW"
      },
      "source": [
        "## split into 80-20 train and test for Evaluation"
      ]
    },
    {
      "cell_type": "code",
      "execution_count": null,
      "metadata": {
        "id": "m5faSRjZ-zHo"
      },
      "outputs": [],
      "source": [
        "# split resampled data into train_x and y\n",
        "train_x = resampled_df.drop('IncidentGrade', axis=1)\n",
        "train_y = resampled_df['IncidentGrade']"
      ]
    },
    {
      "cell_type": "code",
      "execution_count": null,
      "metadata": {
        "id": "WBjJ6Xbe9dnb"
      },
      "outputs": [],
      "source": [
        "# let's impute the categorical target variable into integer data type by imputation\n",
        "mapping = {'FalsePositive': 0, 'TruePositive': 1, 'BenignPositive': 2}\n",
        "train_y = train_y.map(mapping)"
      ]
    },
    {
      "cell_type": "code",
      "execution_count": null,
      "metadata": {
        "id": "QnNhiI4398JW"
      },
      "outputs": [],
      "source": [
        "test_y = test_y.map(mapping)"
      ]
    },
    {
      "cell_type": "code",
      "execution_count": null,
      "metadata": {
        "id": "PsBgGIZMy719"
      },
      "outputs": [],
      "source": [
        "# repart_train_x = train_x.repartition(partition_size='100MB')\n",
        "# repart_train_y = train_y.repartition(partition_size='100MB')"
      ]
    },
    {
      "cell_type": "code",
      "execution_count": null,
      "metadata": {
        "id": "t0-NjGJ6wmRF"
      },
      "outputs": [],
      "source": [
        "# constant_columns = [col for col in train_x.columns if train_x[col].nunique().compute() == 1]\n",
        "# constant_columns"
      ]
    },
    {
      "cell_type": "code",
      "execution_count": null,
      "metadata": {
        "id": "_K_oJRPmzTA2"
      },
      "outputs": [],
      "source": [
        "# train_x_array = train_x.to_dask_array(lengths=True)\n",
        "# train_y_array = train_y.to_dask_array(lengths=True)"
      ]
    },
    {
      "cell_type": "code",
      "execution_count": null,
      "metadata": {
        "id": "IF1TYw_pTXWt"
      },
      "outputs": [],
      "source": [
        "# split x and y for train and test\n",
        "x_train, x_test, y_train, y_test = train_test_split(train_x, train_y, test_size=0.2, random_state=42)"
      ]
    },
    {
      "cell_type": "markdown",
      "metadata": {
        "id": "gvsyknYl_Gg7"
      },
      "source": [
        "## Model Evaluation"
      ]
    },
    {
      "cell_type": "code",
      "execution_count": null,
      "metadata": {
        "id": "fvA4Uc8rgwN6"
      },
      "outputs": [],
      "source": [
        "# from dask.distributed import Client"
      ]
    },
    {
      "cell_type": "code",
      "execution_count": null,
      "metadata": {
        "id": "aZWMXtijhJ4e"
      },
      "outputs": [],
      "source": [
        "# client = Client(n_workers = 8, memory_limit='2GB')"
      ]
    },
    {
      "cell_type": "code",
      "execution_count": null,
      "metadata": {
        "id": "AzU7w2nhRz1D"
      },
      "outputs": [],
      "source": [
        "models = {\n",
        "    'Logistic Regression': ParallelPostFit(estimator=LogisticRegression()),\n",
        "    'Random Forest': ParallelPostFit(estimator=RandomForestClassifier()),\n",
        "    'Decision Tree': ParallelPostFit(estimator=DecisionTreeClassifier()),\n",
        "    'XGBoost': ParallelPostFit(estimator=XGBClassifier(use_label_encoder=False, eval_metric='logloss'))\n",
        "}"
      ]
    },
    {
      "cell_type": "code",
      "execution_count": null,
      "metadata": {
        "id": "EvjWdt9wYGK0"
      },
      "outputs": [],
      "source": [
        "# wrapped_models = {name: ParallelPostFit(model) for name, model in models.items()}"
      ]
    },
    {
      "cell_type": "code",
      "execution_count": null,
      "metadata": {
        "id": "PAcYSpzgYTLr"
      },
      "outputs": [],
      "source": [
        "# skf = StratifiedKFold(n_splits=5, shuffle=True, random_state=42)"
      ]
    },
    {
      "cell_type": "code",
      "execution_count": null,
      "metadata": {
        "id": "Bt1pgfYLYsuE"
      },
      "outputs": [],
      "source": [
        "# for name, model in models.items():\n",
        "#     print(f\"Evaluating {name}...\")\n",
        "#     scores = []\n",
        "#     for train_index, test_index in skf.split(train_x, train_y):\n",
        "#         skf_x_train, skf_x_test = train_x.iloc[train_index], train_x.iloc[test_index]\n",
        "#         skf_y_train, skf_y_test = train_y.iloc[train_index], train_y.iloc[test_index]\n",
        "#         model.fit(skf_x_train, skf_y_train)\n",
        "#         y_pred = model.predict(skf_x_test)\n",
        "#         scores.append(accuracy_score(skf_y_test, y_pred))\n",
        "\n",
        "#     print(f\"{name} Accuracy score: {np.mean(scores):.4f}\")"
      ]
    },
    {
      "cell_type": "code",
      "execution_count": null,
      "metadata": {
        "id": "vT6DoJN_wjjr"
      },
      "outputs": [],
      "source": [
        "x_train = x_train.astype(np.float64)  # Convert x_train y_train to float64\n",
        "y_train = y_train.astype(np.float64)"
      ]
    },
    {
      "cell_type": "code",
      "execution_count": null,
      "metadata": {
        "id": "1SE7u_O87eCd"
      },
      "outputs": [],
      "source": [
        "y_test = y_test.astype(np.float64)\n",
        "x_test = x_test.astype(np.float64)"
      ]
    },
    {
      "cell_type": "code",
      "source": [
        "constant_columns = [col for col in x_train.columns if x_train[col].nunique().compute() == 1]\n",
        "constant_columns"
      ],
      "metadata": {
        "id": "IO1YDWyd8fN8"
      },
      "execution_count": null,
      "outputs": []
    },
    {
      "cell_type": "code",
      "source": [
        "# 'EntityType_Blob'\n",
        "x_train = x_train.drop(['EntityType_Blob'], axis=1)\n",
        "x_test = x_test.drop(['EntityType_Blob'], axis=1)"
      ],
      "metadata": {
        "id": "2wYOHVex7iPK"
      },
      "execution_count": null,
      "outputs": []
    },
    {
      "cell_type": "code",
      "source": [
        "x_train = x_train.to_dask_array(lengths=True)\n",
        "x_test = x_test.to_dask_array(lengths=True)"
      ],
      "metadata": {
        "id": "BKcRIqDq73GQ"
      },
      "execution_count": null,
      "outputs": []
    },
    {
      "cell_type": "code",
      "source": [
        "y_train = y_train.to_dask_array(lengths=True)\n",
        "y_test = y_test.to_dask_array(lengths=True)"
      ],
      "metadata": {
        "id": "3j8qb0sU8D4M"
      },
      "execution_count": null,
      "outputs": []
    },
    {
      "cell_type": "code",
      "execution_count": null,
      "metadata": {
        "colab": {
          "base_uri": "https://localhost:8080/"
        },
        "id": "d1R6Ix4lxS_5",
        "outputId": "fb7c0dfd-1dec-4797-cddf-a82890d66a31"
      },
      "outputs": [
        {
          "output_type": "stream",
          "name": "stdout",
          "text": [
            "Evaluating Logistic Regression...\n",
            "Logistic Regression Accuracy score: dask.array<mean_agg-aggregate, shape=(), dtype=float64, chunksize=(), chunktype=numpy.ndarray>\n",
            "Evaluating Random Forest...\n",
            "Random Forest Accuracy score: 0.8513486513486513\n",
            "Evaluating Decision Tree...\n",
            "Decision Tree Accuracy score: 0.8513486513486513\n",
            "Evaluating XGBoost...\n",
            "XGBoost Accuracy score: 0.881918081918082\n"
          ]
        }
      ],
      "source": [
        "for name, model in models.items():\n",
        "    print(f\"Evaluating {name}...\")\n",
        "    model.fit(x_train, y_train)\n",
        "    score = model.score(x_test, y_test)\n",
        "    print(f\"{name} Accuracy score: {score}\")\n",
        "\n",
        "# client.close()"
      ]
    },
    {
      "cell_type": "code",
      "source": [
        "lgmodel = ParallelPostFit(estimator=LogisticRegression())\n",
        "lgmodel.fit(x_train, y_train)\n",
        "acc = lgmodel.score(x_test, y_test)\n",
        "print(f\"Logistic Regression Accuracy score: {acc.compute()}\")"
      ],
      "metadata": {
        "id": "w5FHBRWRBvd8",
        "colab": {
          "base_uri": "https://localhost:8080/"
        },
        "outputId": "9c0a34e8-72e0-4128-f4ce-25b8b117a372"
      },
      "execution_count": null,
      "outputs": [
        {
          "output_type": "stream",
          "name": "stdout",
          "text": [
            "Logistic Regression Accuracy score: 0.38741258741258744\n"
          ]
        }
      ]
    },
    {
      "cell_type": "markdown",
      "source": [
        "## Hyper Parameter Tuning"
      ],
      "metadata": {
        "id": "Pd3z-zbhDDtA"
      }
    },
    {
      "cell_type": "code",
      "source": [
        "from scipy.stats import randint"
      ],
      "metadata": {
        "id": "scZ261VJEusI"
      },
      "execution_count": null,
      "outputs": []
    },
    {
      "cell_type": "code",
      "source": [
        "param_dist = {\n",
        "    \"max_depth\": [1, 2, 3, None],\n",
        "    \"n_estimators\": [100, 200, 300, 400, 500, 600],\n",
        "    \"learning_rate\": [0.01, 0.1, 0.2, 0.25, 0.3, 0.35, 0.4],\n",
        "}"
      ],
      "metadata": {
        "id": "rKnyvXZ0DO5V"
      },
      "execution_count": null,
      "outputs": []
    },
    {
      "cell_type": "code",
      "source": [
        "model = XGBClassifier(use_label_encoder=False, eval_metric='logloss')"
      ],
      "metadata": {
        "id": "C2z_jIQyGOGW"
      },
      "execution_count": null,
      "outputs": []
    },
    {
      "cell_type": "code",
      "source": [
        "Grid_search = GridSearchCV(estimator=model, param_grid=param_dist, cv=5, scoring='accuracy')\n",
        "\n",
        "Grid_search.fit(x_train, y_train)\n",
        "\n",
        "print(f\"Best parameters: {Grid_search.best_params_}\")\n",
        "print(f\"Best score: {Grid_search.best_score_}\")"
      ],
      "metadata": {
        "colab": {
          "base_uri": "https://localhost:8080/"
        },
        "id": "k4Af9_GuEzky",
        "outputId": "2040304d-2e73-4283-b37f-f6a2047f20aa"
      },
      "execution_count": null,
      "outputs": [
        {
          "output_type": "stream",
          "name": "stdout",
          "text": [
            "Best parameters: {'learning_rate': 0.35, 'max_depth': None, 'n_estimators': 500}\n",
            "Best score: 0.8720859207981269\n"
          ]
        }
      ]
    },
    {
      "cell_type": "code",
      "source": [
        "from keras.models import Sequential\n",
        "from keras.layers import Dense"
      ],
      "metadata": {
        "id": "NeNxk5xEm2qU"
      },
      "execution_count": null,
      "outputs": []
    },
    {
      "cell_type": "code",
      "source": [
        "nn_model = Sequential()\n",
        "nn_model.add(Dense(128, input_dim=x_train.shape[1], activation='relu'))\n",
        "nn_model.add(Dense(64, activation='relu'))\n",
        "nn_model.add(Dense(32, activation='relu'))\n",
        "nn_model.add(Dense(16, activation='relu'))\n",
        "nn_model.add(Dense(1, activation='sigmoid'))"
      ],
      "metadata": {
        "id": "eK_hqyoUoS1g"
      },
      "execution_count": null,
      "outputs": []
    },
    {
      "cell_type": "code",
      "source": [
        "nn_model.compile(loss='categorical_crossentropy', optimizer='adam', metrics=['accuracy'])"
      ],
      "metadata": {
        "id": "OZZ0Q3bPo1mT"
      },
      "execution_count": null,
      "outputs": []
    },
    {
      "cell_type": "code",
      "source": [
        "nn_model.summary()"
      ],
      "metadata": {
        "colab": {
          "base_uri": "https://localhost:8080/",
          "height": 306
        },
        "id": "yGLY1X5erUFP",
        "outputId": "dc1b2818-6fde-4e6a-efb2-677c995a20cd"
      },
      "execution_count": null,
      "outputs": [
        {
          "output_type": "display_data",
          "data": {
            "text/plain": [
              "\u001b[1mModel: \"sequential_1\"\u001b[0m\n"
            ],
            "text/html": [
              "<pre style=\"white-space:pre;overflow-x:auto;line-height:normal;font-family:Menlo,'DejaVu Sans Mono',consolas,'Courier New',monospace\"><span style=\"font-weight: bold\">Model: \"sequential_1\"</span>\n",
              "</pre>\n"
            ]
          },
          "metadata": {}
        },
        {
          "output_type": "display_data",
          "data": {
            "text/plain": [
              "┏━━━━━━━━━━━━━━━━━━━━━━━━━━━━━━━━━━━━━━┳━━━━━━━━━━━━━━━━━━━━━━━━━━━━━┳━━━━━━━━━━━━━━━━━┓\n",
              "┃\u001b[1m \u001b[0m\u001b[1mLayer (type)                        \u001b[0m\u001b[1m \u001b[0m┃\u001b[1m \u001b[0m\u001b[1mOutput Shape               \u001b[0m\u001b[1m \u001b[0m┃\u001b[1m \u001b[0m\u001b[1m        Param #\u001b[0m\u001b[1m \u001b[0m┃\n",
              "┡━━━━━━━━━━━━━━━━━━━━━━━━━━━━━━━━━━━━━━╇━━━━━━━━━━━━━━━━━━━━━━━━━━━━━╇━━━━━━━━━━━━━━━━━┩\n",
              "│ dense_3 (\u001b[38;5;33mDense\u001b[0m)                      │ (\u001b[38;5;45mNone\u001b[0m, \u001b[38;5;34m128\u001b[0m)                 │           \u001b[38;5;34m9,984\u001b[0m │\n",
              "├──────────────────────────────────────┼─────────────────────────────┼─────────────────┤\n",
              "│ dense_4 (\u001b[38;5;33mDense\u001b[0m)                      │ (\u001b[38;5;45mNone\u001b[0m, \u001b[38;5;34m64\u001b[0m)                  │           \u001b[38;5;34m8,256\u001b[0m │\n",
              "├──────────────────────────────────────┼─────────────────────────────┼─────────────────┤\n",
              "│ dense_5 (\u001b[38;5;33mDense\u001b[0m)                      │ (\u001b[38;5;45mNone\u001b[0m, \u001b[38;5;34m32\u001b[0m)                  │           \u001b[38;5;34m2,080\u001b[0m │\n",
              "├──────────────────────────────────────┼─────────────────────────────┼─────────────────┤\n",
              "│ dense_6 (\u001b[38;5;33mDense\u001b[0m)                      │ (\u001b[38;5;45mNone\u001b[0m, \u001b[38;5;34m16\u001b[0m)                  │             \u001b[38;5;34m528\u001b[0m │\n",
              "├──────────────────────────────────────┼─────────────────────────────┼─────────────────┤\n",
              "│ dense_7 (\u001b[38;5;33mDense\u001b[0m)                      │ (\u001b[38;5;45mNone\u001b[0m, \u001b[38;5;34m1\u001b[0m)                   │              \u001b[38;5;34m17\u001b[0m │\n",
              "└──────────────────────────────────────┴─────────────────────────────┴─────────────────┘\n"
            ],
            "text/html": [
              "<pre style=\"white-space:pre;overflow-x:auto;line-height:normal;font-family:Menlo,'DejaVu Sans Mono',consolas,'Courier New',monospace\">┏━━━━━━━━━━━━━━━━━━━━━━━━━━━━━━━━━━━━━━┳━━━━━━━━━━━━━━━━━━━━━━━━━━━━━┳━━━━━━━━━━━━━━━━━┓\n",
              "┃<span style=\"font-weight: bold\"> Layer (type)                         </span>┃<span style=\"font-weight: bold\"> Output Shape                </span>┃<span style=\"font-weight: bold\">         Param # </span>┃\n",
              "┡━━━━━━━━━━━━━━━━━━━━━━━━━━━━━━━━━━━━━━╇━━━━━━━━━━━━━━━━━━━━━━━━━━━━━╇━━━━━━━━━━━━━━━━━┩\n",
              "│ dense_3 (<span style=\"color: #0087ff; text-decoration-color: #0087ff\">Dense</span>)                      │ (<span style=\"color: #00d7ff; text-decoration-color: #00d7ff\">None</span>, <span style=\"color: #00af00; text-decoration-color: #00af00\">128</span>)                 │           <span style=\"color: #00af00; text-decoration-color: #00af00\">9,984</span> │\n",
              "├──────────────────────────────────────┼─────────────────────────────┼─────────────────┤\n",
              "│ dense_4 (<span style=\"color: #0087ff; text-decoration-color: #0087ff\">Dense</span>)                      │ (<span style=\"color: #00d7ff; text-decoration-color: #00d7ff\">None</span>, <span style=\"color: #00af00; text-decoration-color: #00af00\">64</span>)                  │           <span style=\"color: #00af00; text-decoration-color: #00af00\">8,256</span> │\n",
              "├──────────────────────────────────────┼─────────────────────────────┼─────────────────┤\n",
              "│ dense_5 (<span style=\"color: #0087ff; text-decoration-color: #0087ff\">Dense</span>)                      │ (<span style=\"color: #00d7ff; text-decoration-color: #00d7ff\">None</span>, <span style=\"color: #00af00; text-decoration-color: #00af00\">32</span>)                  │           <span style=\"color: #00af00; text-decoration-color: #00af00\">2,080</span> │\n",
              "├──────────────────────────────────────┼─────────────────────────────┼─────────────────┤\n",
              "│ dense_6 (<span style=\"color: #0087ff; text-decoration-color: #0087ff\">Dense</span>)                      │ (<span style=\"color: #00d7ff; text-decoration-color: #00d7ff\">None</span>, <span style=\"color: #00af00; text-decoration-color: #00af00\">16</span>)                  │             <span style=\"color: #00af00; text-decoration-color: #00af00\">528</span> │\n",
              "├──────────────────────────────────────┼─────────────────────────────┼─────────────────┤\n",
              "│ dense_7 (<span style=\"color: #0087ff; text-decoration-color: #0087ff\">Dense</span>)                      │ (<span style=\"color: #00d7ff; text-decoration-color: #00d7ff\">None</span>, <span style=\"color: #00af00; text-decoration-color: #00af00\">1</span>)                   │              <span style=\"color: #00af00; text-decoration-color: #00af00\">17</span> │\n",
              "└──────────────────────────────────────┴─────────────────────────────┴─────────────────┘\n",
              "</pre>\n"
            ]
          },
          "metadata": {}
        },
        {
          "output_type": "display_data",
          "data": {
            "text/plain": [
              "\u001b[1m Total params: \u001b[0m\u001b[38;5;34m20,865\u001b[0m (81.50 KB)\n"
            ],
            "text/html": [
              "<pre style=\"white-space:pre;overflow-x:auto;line-height:normal;font-family:Menlo,'DejaVu Sans Mono',consolas,'Courier New',monospace\"><span style=\"font-weight: bold\"> Total params: </span><span style=\"color: #00af00; text-decoration-color: #00af00\">20,865</span> (81.50 KB)\n",
              "</pre>\n"
            ]
          },
          "metadata": {}
        },
        {
          "output_type": "display_data",
          "data": {
            "text/plain": [
              "\u001b[1m Trainable params: \u001b[0m\u001b[38;5;34m20,865\u001b[0m (81.50 KB)\n"
            ],
            "text/html": [
              "<pre style=\"white-space:pre;overflow-x:auto;line-height:normal;font-family:Menlo,'DejaVu Sans Mono',consolas,'Courier New',monospace\"><span style=\"font-weight: bold\"> Trainable params: </span><span style=\"color: #00af00; text-decoration-color: #00af00\">20,865</span> (81.50 KB)\n",
              "</pre>\n"
            ]
          },
          "metadata": {}
        },
        {
          "output_type": "display_data",
          "data": {
            "text/plain": [
              "\u001b[1m Non-trainable params: \u001b[0m\u001b[38;5;34m0\u001b[0m (0.00 B)\n"
            ],
            "text/html": [
              "<pre style=\"white-space:pre;overflow-x:auto;line-height:normal;font-family:Menlo,'DejaVu Sans Mono',consolas,'Courier New',monospace\"><span style=\"font-weight: bold\"> Non-trainable params: </span><span style=\"color: #00af00; text-decoration-color: #00af00\">0</span> (0.00 B)\n",
              "</pre>\n"
            ]
          },
          "metadata": {}
        }
      ]
    },
    {
      "cell_type": "code",
      "source": [
        "nn_model.fit(x_train, y_train, epochs=10, batch_size=32, validation_data=(x_test, y_test))"
      ],
      "metadata": {
        "colab": {
          "base_uri": "https://localhost:8080/"
        },
        "id": "dTyuZmGIrZja",
        "outputId": "51185fe8-a8ef-41f4-863b-2bce2962b0e8"
      },
      "execution_count": null,
      "outputs": [
        {
          "output_type": "stream",
          "name": "stdout",
          "text": [
            "Epoch 1/10\n",
            "\u001b[1m614/614\u001b[0m \u001b[32m━━━━━━━━━━━━━━━━━━━━\u001b[0m\u001b[37m\u001b[0m \u001b[1m144s\u001b[0m 233ms/step - accuracy: 0.3197 - loss: 0.0000e+00 - val_accuracy: 0.3451 - val_loss: 0.0000e+00\n",
            "Epoch 2/10\n",
            "\u001b[1m614/614\u001b[0m \u001b[32m━━━━━━━━━━━━━━━━━━━━\u001b[0m\u001b[37m\u001b[0m \u001b[1m2s\u001b[0m 3ms/step - accuracy: 0.3011 - loss: 0.0000e+00 - val_accuracy: 0.2921 - val_loss: 0.0000e+00\n",
            "Epoch 3/10\n",
            "\u001b[1m614/614\u001b[0m \u001b[32m━━━━━━━━━━━━━━━━━━━━\u001b[0m\u001b[37m\u001b[0m \u001b[1m2s\u001b[0m 3ms/step - accuracy: 0.2899 - loss: 0.0000e+00 - val_accuracy: 0.2939 - val_loss: 0.0000e+00\n",
            "Epoch 4/10\n",
            "\u001b[1m614/614\u001b[0m \u001b[32m━━━━━━━━━━━━━━━━━━━━\u001b[0m\u001b[37m\u001b[0m \u001b[1m3s\u001b[0m 3ms/step - accuracy: 0.2943 - loss: 0.0000e+00 - val_accuracy: 0.3057 - val_loss: 0.0000e+00\n",
            "Epoch 5/10\n",
            "\u001b[1m614/614\u001b[0m \u001b[32m━━━━━━━━━━━━━━━━━━━━\u001b[0m\u001b[37m\u001b[0m \u001b[1m3s\u001b[0m 4ms/step - accuracy: 0.2960 - loss: 0.0000e+00 - val_accuracy: 0.3007 - val_loss: 0.0000e+00\n",
            "Epoch 6/10\n",
            "\u001b[1m614/614\u001b[0m \u001b[32m━━━━━━━━━━━━━━━━━━━━\u001b[0m\u001b[37m\u001b[0m \u001b[1m4s\u001b[0m 3ms/step - accuracy: 0.2973 - loss: 0.0000e+00 - val_accuracy: 0.3035 - val_loss: 0.0000e+00\n",
            "Epoch 7/10\n",
            "\u001b[1m614/614\u001b[0m \u001b[32m━━━━━━━━━━━━━━━━━━━━\u001b[0m\u001b[37m\u001b[0m \u001b[1m2s\u001b[0m 3ms/step - accuracy: 0.2967 - loss: 0.0000e+00 - val_accuracy: 0.3109 - val_loss: 0.0000e+00\n",
            "Epoch 8/10\n",
            "\u001b[1m614/614\u001b[0m \u001b[32m━━━━━━━━━━━━━━━━━━━━\u001b[0m\u001b[37m\u001b[0m \u001b[1m2s\u001b[0m 3ms/step - accuracy: 0.3064 - loss: 0.0000e+00 - val_accuracy: 0.3109 - val_loss: 0.0000e+00\n",
            "Epoch 9/10\n",
            "\u001b[1m614/614\u001b[0m \u001b[32m━━━━━━━━━━━━━━━━━━━━\u001b[0m\u001b[37m\u001b[0m \u001b[1m2s\u001b[0m 3ms/step - accuracy: 0.3006 - loss: 0.0000e+00 - val_accuracy: 0.3129 - val_loss: 0.0000e+00\n",
            "Epoch 10/10\n",
            "\u001b[1m614/614\u001b[0m \u001b[32m━━━━━━━━━━━━━━━━━━━━\u001b[0m\u001b[37m\u001b[0m \u001b[1m2s\u001b[0m 3ms/step - accuracy: 0.3085 - loss: 0.0000e+00 - val_accuracy: 0.3107 - val_loss: 0.0000e+00\n"
          ]
        },
        {
          "output_type": "execute_result",
          "data": {
            "text/plain": [
              "<keras.src.callbacks.history.History at 0x7a47f8ccc0a0>"
            ]
          },
          "metadata": {},
          "execution_count": 87
        }
      ]
    }
  ],
  "metadata": {
    "colab": {
      "provenance": []
    },
    "kernelspec": {
      "display_name": "Python 3",
      "name": "python3"
    },
    "language_info": {
      "name": "python"
    }
  },
  "nbformat": 4,
  "nbformat_minor": 0
}