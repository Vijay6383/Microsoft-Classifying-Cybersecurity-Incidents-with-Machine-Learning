{
  "nbformat": 4,
  "nbformat_minor": 0,
  "metadata": {
    "colab": {
      "provenance": []
    },
    "kernelspec": {
      "name": "python3",
      "display_name": "Python 3"
    },
    "language_info": {
      "name": "python"
    }
  },
  "cells": [
    {
      "cell_type": "code",
      "source": [
        "pip install dask[dataframe]"
      ],
      "metadata": {
        "colab": {
          "base_uri": "https://localhost:8080/"
        },
        "id": "UkanuZhsn_4G",
        "outputId": "3e2868f8-d339-49bd-8a5d-f79cbd5bc9c1"
      },
      "execution_count": 1,
      "outputs": [
        {
          "output_type": "stream",
          "name": "stdout",
          "text": [
            "Requirement already satisfied: dask[dataframe] in /usr/local/lib/python3.10/dist-packages (2024.7.1)\n",
            "Requirement already satisfied: click>=8.1 in /usr/local/lib/python3.10/dist-packages (from dask[dataframe]) (8.1.7)\n",
            "Requirement already satisfied: cloudpickle>=1.5.0 in /usr/local/lib/python3.10/dist-packages (from dask[dataframe]) (2.2.1)\n",
            "Requirement already satisfied: fsspec>=2021.09.0 in /usr/local/lib/python3.10/dist-packages (from dask[dataframe]) (2024.6.1)\n",
            "Requirement already satisfied: packaging>=20.0 in /usr/local/lib/python3.10/dist-packages (from dask[dataframe]) (24.1)\n",
            "Requirement already satisfied: partd>=1.4.0 in /usr/local/lib/python3.10/dist-packages (from dask[dataframe]) (1.4.2)\n",
            "Requirement already satisfied: pyyaml>=5.3.1 in /usr/local/lib/python3.10/dist-packages (from dask[dataframe]) (6.0.2)\n",
            "Requirement already satisfied: toolz>=0.10.0 in /usr/local/lib/python3.10/dist-packages (from dask[dataframe]) (0.12.1)\n",
            "Requirement already satisfied: importlib-metadata>=4.13.0 in /usr/local/lib/python3.10/dist-packages (from dask[dataframe]) (8.4.0)\n",
            "Requirement already satisfied: pandas>=2.0 in /usr/local/lib/python3.10/dist-packages (from dask[dataframe]) (2.1.4)\n",
            "Collecting dask-expr<1.2,>=1.1 (from dask[dataframe])\n",
            "  Downloading dask_expr-1.1.13-py3-none-any.whl.metadata (2.5 kB)\n",
            "INFO: pip is looking at multiple versions of dask-expr to determine which version is compatible with other requirements. This could take a while.\n",
            "  Downloading dask_expr-1.1.12-py3-none-any.whl.metadata (2.5 kB)\n",
            "  Downloading dask_expr-1.1.11-py3-none-any.whl.metadata (2.5 kB)\n",
            "  Downloading dask_expr-1.1.10-py3-none-any.whl.metadata (2.5 kB)\n",
            "  Downloading dask_expr-1.1.9-py3-none-any.whl.metadata (2.5 kB)\n",
            "Requirement already satisfied: pyarrow>=7.0.0 in /usr/local/lib/python3.10/dist-packages (from dask-expr<1.2,>=1.1->dask[dataframe]) (14.0.2)\n",
            "Requirement already satisfied: zipp>=0.5 in /usr/local/lib/python3.10/dist-packages (from importlib-metadata>=4.13.0->dask[dataframe]) (3.20.1)\n",
            "Requirement already satisfied: numpy<2,>=1.22.4 in /usr/local/lib/python3.10/dist-packages (from pandas>=2.0->dask[dataframe]) (1.26.4)\n",
            "Requirement already satisfied: python-dateutil>=2.8.2 in /usr/local/lib/python3.10/dist-packages (from pandas>=2.0->dask[dataframe]) (2.8.2)\n",
            "Requirement already satisfied: pytz>=2020.1 in /usr/local/lib/python3.10/dist-packages (from pandas>=2.0->dask[dataframe]) (2024.1)\n",
            "Requirement already satisfied: tzdata>=2022.1 in /usr/local/lib/python3.10/dist-packages (from pandas>=2.0->dask[dataframe]) (2024.1)\n",
            "Requirement already satisfied: locket in /usr/local/lib/python3.10/dist-packages (from partd>=1.4.0->dask[dataframe]) (1.0.0)\n",
            "Requirement already satisfied: six>=1.5 in /usr/local/lib/python3.10/dist-packages (from python-dateutil>=2.8.2->pandas>=2.0->dask[dataframe]) (1.16.0)\n",
            "Downloading dask_expr-1.1.9-py3-none-any.whl (241 kB)\n",
            "\u001b[2K   \u001b[90m━━━━━━━━━━━━━━━━━━━━━━━━━━━━━━━━━━━━━━━━\u001b[0m \u001b[32m241.9/241.9 kB\u001b[0m \u001b[31m10.8 MB/s\u001b[0m eta \u001b[36m0:00:00\u001b[0m\n",
            "\u001b[?25hInstalling collected packages: dask-expr\n",
            "Successfully installed dask-expr-1.1.9\n"
          ]
        }
      ]
    },
    {
      "cell_type": "code",
      "execution_count": 2,
      "metadata": {
        "id": "YhQhYKdZKs6C"
      },
      "outputs": [],
      "source": [
        "import dask.dataframe as dd\n",
        "import pandas as pd\n",
        "import numpy as np\n",
        "import matplotlib.pyplot as plt\n",
        "import seaborn as sns\n",
        "import warnings\n",
        "warnings.filterwarnings('ignore')\n",
        "\n",
        "from sklearn.preprocessing import StandardScaler, LabelEncoder, OneHotEncoder\n",
        "from sklearn.model_selection import train_test_split\n",
        "from sklearn.linear_model import LogisticRegression\n",
        "from sklearn.metrics import confusion_matrix, accuracy_score, classification_report"
      ]
    },
    {
      "cell_type": "code",
      "source": [
        "import dask.array as da"
      ],
      "metadata": {
        "id": "SpsyzprIvQOe"
      },
      "execution_count": 3,
      "outputs": []
    },
    {
      "cell_type": "code",
      "source": [
        "from scipy.stats import chi2_contingency"
      ],
      "metadata": {
        "id": "f2l9Ja1kpSei"
      },
      "execution_count": 34,
      "outputs": []
    },
    {
      "cell_type": "code",
      "source": [
        "from google.colab import drive\n",
        "drive.mount('/content/drive')"
      ],
      "metadata": {
        "colab": {
          "base_uri": "https://localhost:8080/"
        },
        "id": "UJrPKI4tMHMY",
        "outputId": "a9de2007-4126-44f4-a41a-451a34e380fa"
      },
      "execution_count": 4,
      "outputs": [
        {
          "output_type": "stream",
          "name": "stdout",
          "text": [
            "Mounted at /content/drive\n"
          ]
        }
      ]
    },
    {
      "cell_type": "code",
      "source": [
        "df_sample = dd.read_csv('/content/drive/MyDrive/microsoft_projData/new_train_sample.csv', dtype={'ActionGranular': 'object',\n",
        "       'ActionGrouped': 'object',\n",
        "       'AntispamDirection': 'object',\n",
        "       'ResourceType': 'object',\n",
        "       'Roles': 'object',\n",
        "       'ThreatFamily': 'object'})"
      ],
      "metadata": {
        "id": "JzmB6-tPMSig"
      },
      "execution_count": 5,
      "outputs": []
    },
    {
      "cell_type": "code",
      "source": [
        "# df_sample = df_sample.compute()"
      ],
      "metadata": {
        "id": "q-grKTltMsSY"
      },
      "execution_count": 5,
      "outputs": []
    },
    {
      "cell_type": "code",
      "source": [
        "df_sample.head()"
      ],
      "metadata": {
        "colab": {
          "base_uri": "https://localhost:8080/",
          "height": 360
        },
        "id": "HYztIR21NHQI",
        "outputId": "b480a09c-7a19-4d95-a467-332b2e86f030"
      },
      "execution_count": 6,
      "outputs": [
        {
          "output_type": "execute_result",
          "data": {
            "text/plain": [
              "   Unnamed: 0             Id  OrgId  IncidentId  AlertId  \\\n",
              "0     5172780  1709396985476     26       18583   687462   \n",
              "1     8470561   927712939180     33        5065     3990   \n",
              "2     5897583  1090921697002    201      150787   807590   \n",
              "3     3288552  1434519079555    204      108287    28575   \n",
              "4     4060961  1005022347708     54      528202  1458226   \n",
              "\n",
              "                  Timestamp  DetectorId  AlertTitle            Category  \\\n",
              "0  2024-06-06T05:56:47.000Z          31         813             Malware   \n",
              "1  2024-06-03T10:45:09.000Z          38          25              Impact   \n",
              "2  2024-06-13T03:36:40.000Z         419         444           Execution   \n",
              "3  2024-06-08T16:54:57.000Z          44        1233  SuspiciousActivity   \n",
              "4  2024-06-09T02:48:01.000Z         102       58829        Exfiltration   \n",
              "\n",
              "                                     MitreTechniques  ... ResourceType  \\\n",
              "0                                                NaN  ...          NaN   \n",
              "1                                                NaN  ...          NaN   \n",
              "2  T1047;T1059;T1053;T1569;T1059.001;T1053.002;T1...  ...          NaN   \n",
              "3                                                NaN  ...          NaN   \n",
              "4                                                NaN  ...          NaN   \n",
              "\n",
              "         Roles OSFamily OSVersion AntispamDirection  SuspicionLevel  \\\n",
              "0          NaN        5        66               NaN      Suspicious   \n",
              "1          NaN        5        66               NaN             NaN   \n",
              "2  Destination        5        66               NaN             NaN   \n",
              "3          NaN        5        66               NaN      Suspicious   \n",
              "4          NaN        5        66               NaN             NaN   \n",
              "\n",
              "   LastVerdict  CountryCode  State   City  \n",
              "0    Malicious          242   1445  10630  \n",
              "1          NaN          242   1445  10630  \n",
              "2          NaN          242   1445  10630  \n",
              "3   Suspicious          242   1445  10630  \n",
              "4          NaN          242   1445  10630  \n",
              "\n",
              "[5 rows x 46 columns]"
            ],
            "text/html": [
              "\n",
              "  <div id=\"df-3f6d035b-a5b9-4a2b-bdc9-ea38b8890516\" class=\"colab-df-container\">\n",
              "    <div>\n",
              "<style scoped>\n",
              "    .dataframe tbody tr th:only-of-type {\n",
              "        vertical-align: middle;\n",
              "    }\n",
              "\n",
              "    .dataframe tbody tr th {\n",
              "        vertical-align: top;\n",
              "    }\n",
              "\n",
              "    .dataframe thead th {\n",
              "        text-align: right;\n",
              "    }\n",
              "</style>\n",
              "<table border=\"1\" class=\"dataframe\">\n",
              "  <thead>\n",
              "    <tr style=\"text-align: right;\">\n",
              "      <th></th>\n",
              "      <th>Unnamed: 0</th>\n",
              "      <th>Id</th>\n",
              "      <th>OrgId</th>\n",
              "      <th>IncidentId</th>\n",
              "      <th>AlertId</th>\n",
              "      <th>Timestamp</th>\n",
              "      <th>DetectorId</th>\n",
              "      <th>AlertTitle</th>\n",
              "      <th>Category</th>\n",
              "      <th>MitreTechniques</th>\n",
              "      <th>...</th>\n",
              "      <th>ResourceType</th>\n",
              "      <th>Roles</th>\n",
              "      <th>OSFamily</th>\n",
              "      <th>OSVersion</th>\n",
              "      <th>AntispamDirection</th>\n",
              "      <th>SuspicionLevel</th>\n",
              "      <th>LastVerdict</th>\n",
              "      <th>CountryCode</th>\n",
              "      <th>State</th>\n",
              "      <th>City</th>\n",
              "    </tr>\n",
              "  </thead>\n",
              "  <tbody>\n",
              "    <tr>\n",
              "      <th>0</th>\n",
              "      <td>5172780</td>\n",
              "      <td>1709396985476</td>\n",
              "      <td>26</td>\n",
              "      <td>18583</td>\n",
              "      <td>687462</td>\n",
              "      <td>2024-06-06T05:56:47.000Z</td>\n",
              "      <td>31</td>\n",
              "      <td>813</td>\n",
              "      <td>Malware</td>\n",
              "      <td>NaN</td>\n",
              "      <td>...</td>\n",
              "      <td>NaN</td>\n",
              "      <td>NaN</td>\n",
              "      <td>5</td>\n",
              "      <td>66</td>\n",
              "      <td>NaN</td>\n",
              "      <td>Suspicious</td>\n",
              "      <td>Malicious</td>\n",
              "      <td>242</td>\n",
              "      <td>1445</td>\n",
              "      <td>10630</td>\n",
              "    </tr>\n",
              "    <tr>\n",
              "      <th>1</th>\n",
              "      <td>8470561</td>\n",
              "      <td>927712939180</td>\n",
              "      <td>33</td>\n",
              "      <td>5065</td>\n",
              "      <td>3990</td>\n",
              "      <td>2024-06-03T10:45:09.000Z</td>\n",
              "      <td>38</td>\n",
              "      <td>25</td>\n",
              "      <td>Impact</td>\n",
              "      <td>NaN</td>\n",
              "      <td>...</td>\n",
              "      <td>NaN</td>\n",
              "      <td>NaN</td>\n",
              "      <td>5</td>\n",
              "      <td>66</td>\n",
              "      <td>NaN</td>\n",
              "      <td>NaN</td>\n",
              "      <td>NaN</td>\n",
              "      <td>242</td>\n",
              "      <td>1445</td>\n",
              "      <td>10630</td>\n",
              "    </tr>\n",
              "    <tr>\n",
              "      <th>2</th>\n",
              "      <td>5897583</td>\n",
              "      <td>1090921697002</td>\n",
              "      <td>201</td>\n",
              "      <td>150787</td>\n",
              "      <td>807590</td>\n",
              "      <td>2024-06-13T03:36:40.000Z</td>\n",
              "      <td>419</td>\n",
              "      <td>444</td>\n",
              "      <td>Execution</td>\n",
              "      <td>T1047;T1059;T1053;T1569;T1059.001;T1053.002;T1...</td>\n",
              "      <td>...</td>\n",
              "      <td>NaN</td>\n",
              "      <td>Destination</td>\n",
              "      <td>5</td>\n",
              "      <td>66</td>\n",
              "      <td>NaN</td>\n",
              "      <td>NaN</td>\n",
              "      <td>NaN</td>\n",
              "      <td>242</td>\n",
              "      <td>1445</td>\n",
              "      <td>10630</td>\n",
              "    </tr>\n",
              "    <tr>\n",
              "      <th>3</th>\n",
              "      <td>3288552</td>\n",
              "      <td>1434519079555</td>\n",
              "      <td>204</td>\n",
              "      <td>108287</td>\n",
              "      <td>28575</td>\n",
              "      <td>2024-06-08T16:54:57.000Z</td>\n",
              "      <td>44</td>\n",
              "      <td>1233</td>\n",
              "      <td>SuspiciousActivity</td>\n",
              "      <td>NaN</td>\n",
              "      <td>...</td>\n",
              "      <td>NaN</td>\n",
              "      <td>NaN</td>\n",
              "      <td>5</td>\n",
              "      <td>66</td>\n",
              "      <td>NaN</td>\n",
              "      <td>Suspicious</td>\n",
              "      <td>Suspicious</td>\n",
              "      <td>242</td>\n",
              "      <td>1445</td>\n",
              "      <td>10630</td>\n",
              "    </tr>\n",
              "    <tr>\n",
              "      <th>4</th>\n",
              "      <td>4060961</td>\n",
              "      <td>1005022347708</td>\n",
              "      <td>54</td>\n",
              "      <td>528202</td>\n",
              "      <td>1458226</td>\n",
              "      <td>2024-06-09T02:48:01.000Z</td>\n",
              "      <td>102</td>\n",
              "      <td>58829</td>\n",
              "      <td>Exfiltration</td>\n",
              "      <td>NaN</td>\n",
              "      <td>...</td>\n",
              "      <td>NaN</td>\n",
              "      <td>NaN</td>\n",
              "      <td>5</td>\n",
              "      <td>66</td>\n",
              "      <td>NaN</td>\n",
              "      <td>NaN</td>\n",
              "      <td>NaN</td>\n",
              "      <td>242</td>\n",
              "      <td>1445</td>\n",
              "      <td>10630</td>\n",
              "    </tr>\n",
              "  </tbody>\n",
              "</table>\n",
              "<p>5 rows × 46 columns</p>\n",
              "</div>\n",
              "    <div class=\"colab-df-buttons\">\n",
              "\n",
              "  <div class=\"colab-df-container\">\n",
              "    <button class=\"colab-df-convert\" onclick=\"convertToInteractive('df-3f6d035b-a5b9-4a2b-bdc9-ea38b8890516')\"\n",
              "            title=\"Convert this dataframe to an interactive table.\"\n",
              "            style=\"display:none;\">\n",
              "\n",
              "  <svg xmlns=\"http://www.w3.org/2000/svg\" height=\"24px\" viewBox=\"0 -960 960 960\">\n",
              "    <path d=\"M120-120v-720h720v720H120Zm60-500h600v-160H180v160Zm220 220h160v-160H400v160Zm0 220h160v-160H400v160ZM180-400h160v-160H180v160Zm440 0h160v-160H620v160ZM180-180h160v-160H180v160Zm440 0h160v-160H620v160Z\"/>\n",
              "  </svg>\n",
              "    </button>\n",
              "\n",
              "  <style>\n",
              "    .colab-df-container {\n",
              "      display:flex;\n",
              "      gap: 12px;\n",
              "    }\n",
              "\n",
              "    .colab-df-convert {\n",
              "      background-color: #E8F0FE;\n",
              "      border: none;\n",
              "      border-radius: 50%;\n",
              "      cursor: pointer;\n",
              "      display: none;\n",
              "      fill: #1967D2;\n",
              "      height: 32px;\n",
              "      padding: 0 0 0 0;\n",
              "      width: 32px;\n",
              "    }\n",
              "\n",
              "    .colab-df-convert:hover {\n",
              "      background-color: #E2EBFA;\n",
              "      box-shadow: 0px 1px 2px rgba(60, 64, 67, 0.3), 0px 1px 3px 1px rgba(60, 64, 67, 0.15);\n",
              "      fill: #174EA6;\n",
              "    }\n",
              "\n",
              "    .colab-df-buttons div {\n",
              "      margin-bottom: 4px;\n",
              "    }\n",
              "\n",
              "    [theme=dark] .colab-df-convert {\n",
              "      background-color: #3B4455;\n",
              "      fill: #D2E3FC;\n",
              "    }\n",
              "\n",
              "    [theme=dark] .colab-df-convert:hover {\n",
              "      background-color: #434B5C;\n",
              "      box-shadow: 0px 1px 3px 1px rgba(0, 0, 0, 0.15);\n",
              "      filter: drop-shadow(0px 1px 2px rgba(0, 0, 0, 0.3));\n",
              "      fill: #FFFFFF;\n",
              "    }\n",
              "  </style>\n",
              "\n",
              "    <script>\n",
              "      const buttonEl =\n",
              "        document.querySelector('#df-3f6d035b-a5b9-4a2b-bdc9-ea38b8890516 button.colab-df-convert');\n",
              "      buttonEl.style.display =\n",
              "        google.colab.kernel.accessAllowed ? 'block' : 'none';\n",
              "\n",
              "      async function convertToInteractive(key) {\n",
              "        const element = document.querySelector('#df-3f6d035b-a5b9-4a2b-bdc9-ea38b8890516');\n",
              "        const dataTable =\n",
              "          await google.colab.kernel.invokeFunction('convertToInteractive',\n",
              "                                                    [key], {});\n",
              "        if (!dataTable) return;\n",
              "\n",
              "        const docLinkHtml = 'Like what you see? Visit the ' +\n",
              "          '<a target=\"_blank\" href=https://colab.research.google.com/notebooks/data_table.ipynb>data table notebook</a>'\n",
              "          + ' to learn more about interactive tables.';\n",
              "        element.innerHTML = '';\n",
              "        dataTable['output_type'] = 'display_data';\n",
              "        await google.colab.output.renderOutput(dataTable, element);\n",
              "        const docLink = document.createElement('div');\n",
              "        docLink.innerHTML = docLinkHtml;\n",
              "        element.appendChild(docLink);\n",
              "      }\n",
              "    </script>\n",
              "  </div>\n",
              "\n",
              "\n",
              "<div id=\"df-c06d7cc6-2c83-46c0-bd8b-6181facbb10f\">\n",
              "  <button class=\"colab-df-quickchart\" onclick=\"quickchart('df-c06d7cc6-2c83-46c0-bd8b-6181facbb10f')\"\n",
              "            title=\"Suggest charts\"\n",
              "            style=\"display:none;\">\n",
              "\n",
              "<svg xmlns=\"http://www.w3.org/2000/svg\" height=\"24px\"viewBox=\"0 0 24 24\"\n",
              "     width=\"24px\">\n",
              "    <g>\n",
              "        <path d=\"M19 3H5c-1.1 0-2 .9-2 2v14c0 1.1.9 2 2 2h14c1.1 0 2-.9 2-2V5c0-1.1-.9-2-2-2zM9 17H7v-7h2v7zm4 0h-2V7h2v10zm4 0h-2v-4h2v4z\"/>\n",
              "    </g>\n",
              "</svg>\n",
              "  </button>\n",
              "\n",
              "<style>\n",
              "  .colab-df-quickchart {\n",
              "      --bg-color: #E8F0FE;\n",
              "      --fill-color: #1967D2;\n",
              "      --hover-bg-color: #E2EBFA;\n",
              "      --hover-fill-color: #174EA6;\n",
              "      --disabled-fill-color: #AAA;\n",
              "      --disabled-bg-color: #DDD;\n",
              "  }\n",
              "\n",
              "  [theme=dark] .colab-df-quickchart {\n",
              "      --bg-color: #3B4455;\n",
              "      --fill-color: #D2E3FC;\n",
              "      --hover-bg-color: #434B5C;\n",
              "      --hover-fill-color: #FFFFFF;\n",
              "      --disabled-bg-color: #3B4455;\n",
              "      --disabled-fill-color: #666;\n",
              "  }\n",
              "\n",
              "  .colab-df-quickchart {\n",
              "    background-color: var(--bg-color);\n",
              "    border: none;\n",
              "    border-radius: 50%;\n",
              "    cursor: pointer;\n",
              "    display: none;\n",
              "    fill: var(--fill-color);\n",
              "    height: 32px;\n",
              "    padding: 0;\n",
              "    width: 32px;\n",
              "  }\n",
              "\n",
              "  .colab-df-quickchart:hover {\n",
              "    background-color: var(--hover-bg-color);\n",
              "    box-shadow: 0 1px 2px rgba(60, 64, 67, 0.3), 0 1px 3px 1px rgba(60, 64, 67, 0.15);\n",
              "    fill: var(--button-hover-fill-color);\n",
              "  }\n",
              "\n",
              "  .colab-df-quickchart-complete:disabled,\n",
              "  .colab-df-quickchart-complete:disabled:hover {\n",
              "    background-color: var(--disabled-bg-color);\n",
              "    fill: var(--disabled-fill-color);\n",
              "    box-shadow: none;\n",
              "  }\n",
              "\n",
              "  .colab-df-spinner {\n",
              "    border: 2px solid var(--fill-color);\n",
              "    border-color: transparent;\n",
              "    border-bottom-color: var(--fill-color);\n",
              "    animation:\n",
              "      spin 1s steps(1) infinite;\n",
              "  }\n",
              "\n",
              "  @keyframes spin {\n",
              "    0% {\n",
              "      border-color: transparent;\n",
              "      border-bottom-color: var(--fill-color);\n",
              "      border-left-color: var(--fill-color);\n",
              "    }\n",
              "    20% {\n",
              "      border-color: transparent;\n",
              "      border-left-color: var(--fill-color);\n",
              "      border-top-color: var(--fill-color);\n",
              "    }\n",
              "    30% {\n",
              "      border-color: transparent;\n",
              "      border-left-color: var(--fill-color);\n",
              "      border-top-color: var(--fill-color);\n",
              "      border-right-color: var(--fill-color);\n",
              "    }\n",
              "    40% {\n",
              "      border-color: transparent;\n",
              "      border-right-color: var(--fill-color);\n",
              "      border-top-color: var(--fill-color);\n",
              "    }\n",
              "    60% {\n",
              "      border-color: transparent;\n",
              "      border-right-color: var(--fill-color);\n",
              "    }\n",
              "    80% {\n",
              "      border-color: transparent;\n",
              "      border-right-color: var(--fill-color);\n",
              "      border-bottom-color: var(--fill-color);\n",
              "    }\n",
              "    90% {\n",
              "      border-color: transparent;\n",
              "      border-bottom-color: var(--fill-color);\n",
              "    }\n",
              "  }\n",
              "</style>\n",
              "\n",
              "  <script>\n",
              "    async function quickchart(key) {\n",
              "      const quickchartButtonEl =\n",
              "        document.querySelector('#' + key + ' button');\n",
              "      quickchartButtonEl.disabled = true;  // To prevent multiple clicks.\n",
              "      quickchartButtonEl.classList.add('colab-df-spinner');\n",
              "      try {\n",
              "        const charts = await google.colab.kernel.invokeFunction(\n",
              "            'suggestCharts', [key], {});\n",
              "      } catch (error) {\n",
              "        console.error('Error during call to suggestCharts:', error);\n",
              "      }\n",
              "      quickchartButtonEl.classList.remove('colab-df-spinner');\n",
              "      quickchartButtonEl.classList.add('colab-df-quickchart-complete');\n",
              "    }\n",
              "    (() => {\n",
              "      let quickchartButtonEl =\n",
              "        document.querySelector('#df-c06d7cc6-2c83-46c0-bd8b-6181facbb10f button');\n",
              "      quickchartButtonEl.style.display =\n",
              "        google.colab.kernel.accessAllowed ? 'block' : 'none';\n",
              "    })();\n",
              "  </script>\n",
              "</div>\n",
              "\n",
              "    </div>\n",
              "  </div>\n"
            ],
            "application/vnd.google.colaboratory.intrinsic+json": {
              "type": "dataframe"
            }
          },
          "metadata": {},
          "execution_count": 6
        }
      ]
    },
    {
      "cell_type": "code",
      "source": [
        "# shape of the data\n",
        "df_sample.shape[0].compute(), df_sample.shape[1]\n"
      ],
      "metadata": {
        "colab": {
          "base_uri": "https://localhost:8080/"
        },
        "id": "PjHYAL8drD-o",
        "outputId": "8d827435-0244-43cd-9b06-4b8cc8ae51e7"
      },
      "execution_count": 17,
      "outputs": [
        {
          "output_type": "execute_result",
          "data": {
            "text/plain": [
              "(4758418, 46)"
            ]
          },
          "metadata": {},
          "execution_count": 17
        }
      ]
    },
    {
      "cell_type": "code",
      "source": [
        "df_sample.columns"
      ],
      "metadata": {
        "colab": {
          "base_uri": "https://localhost:8080/"
        },
        "id": "qG-j0M6Er4om",
        "outputId": "b9b0a649-49b5-46b8-87ce-2a2ec731a8da"
      },
      "execution_count": 7,
      "outputs": [
        {
          "output_type": "execute_result",
          "data": {
            "text/plain": [
              "Index(['Unnamed: 0', 'Id', 'OrgId', 'IncidentId', 'AlertId', 'Timestamp',\n",
              "       'DetectorId', 'AlertTitle', 'Category', 'MitreTechniques',\n",
              "       'IncidentGrade', 'ActionGrouped', 'ActionGranular', 'EntityType',\n",
              "       'EvidenceRole', 'DeviceId', 'Sha256', 'IpAddress', 'Url', 'AccountSid',\n",
              "       'AccountUpn', 'AccountObjectId', 'AccountName', 'DeviceName',\n",
              "       'NetworkMessageId', 'EmailClusterId', 'RegistryKey',\n",
              "       'RegistryValueName', 'RegistryValueData', 'ApplicationId',\n",
              "       'ApplicationName', 'OAuthApplicationId', 'ThreatFamily', 'FileName',\n",
              "       'FolderPath', 'ResourceIdName', 'ResourceType', 'Roles', 'OSFamily',\n",
              "       'OSVersion', 'AntispamDirection', 'SuspicionLevel', 'LastVerdict',\n",
              "       'CountryCode', 'State', 'City'],\n",
              "      dtype='object')"
            ]
          },
          "metadata": {},
          "execution_count": 7
        }
      ]
    },
    {
      "cell_type": "code",
      "source": [
        "df_sample = df_sample.drop(['Unnamed: 0'], axis=1 )"
      ],
      "metadata": {
        "id": "6kOlruxGsDba"
      },
      "execution_count": 19,
      "outputs": []
    },
    {
      "cell_type": "code",
      "source": [
        "df_sample.shape[1]"
      ],
      "metadata": {
        "colab": {
          "base_uri": "https://localhost:8080/"
        },
        "id": "ZtJhD2SJsDaH",
        "outputId": "139c9c60-7342-49c8-d84c-e88f9df3c1ad"
      },
      "execution_count": 20,
      "outputs": [
        {
          "output_type": "execute_result",
          "data": {
            "text/plain": [
              "45"
            ]
          },
          "metadata": {},
          "execution_count": 20
        }
      ]
    },
    {
      "cell_type": "code",
      "source": [
        "df_sample.info()"
      ],
      "metadata": {
        "colab": {
          "base_uri": "https://localhost:8080/"
        },
        "id": "7y7qH7MEsfm2",
        "outputId": "03624031-7cbc-483a-b4b3-8866a0297674"
      },
      "execution_count": 21,
      "outputs": [
        {
          "output_type": "stream",
          "name": "stdout",
          "text": [
            "<class 'dask_expr.DataFrame'>\n",
            "Columns: 45 entries, Id to City\n",
            "dtypes: float64(1), int64(30), string(14)"
          ]
        }
      ]
    },
    {
      "cell_type": "code",
      "source": [
        "df_sample.describe().compute()"
      ],
      "metadata": {
        "colab": {
          "base_uri": "https://localhost:8080/",
          "height": 350
        },
        "id": "gIF5mbj5snn1",
        "outputId": "fbdfcb6a-590b-401a-bf16-1c3886134217"
      },
      "execution_count": 23,
      "outputs": [
        {
          "output_type": "execute_result",
          "data": {
            "text/plain": [
              "                 Id         OrgId    IncidentId       AlertId    DetectorId  \\\n",
              "count  4.758418e+06  4.758418e+06  4.758418e+06  4.758418e+06  4.758418e+06   \n",
              "mean   8.425237e+11  1.815396e+02  7.066577e+04  4.062607e+05  1.105717e+02   \n",
              "std    4.962194e+11  3.868571e+02  1.208436e+05  4.590474e+05  4.345897e+02   \n",
              "min    0.000000e+00  0.000000e+00  0.000000e+00  0.000000e+00  0.000000e+00   \n",
              "25%    4.209068e+11  1.000000e+01  5.100000e+02  2.371000e+04  2.000000e+00   \n",
              "50%    8.418136e+11  4.500000e+01  1.047300e+04  2.178915e+05  9.000000e+00   \n",
              "75%    1.271310e+12  1.720000e+02  8.490225e+04  6.736865e+05  4.600000e+01   \n",
              "max    1.709397e+12  6.147000e+03  5.997030e+05  1.721456e+06  9.522000e+03   \n",
              "\n",
              "         AlertTitle      DeviceId        Sha256     IpAddress           Url  \\\n",
              "count  4.758418e+06  4.758418e+06  4.758418e+06  4.758418e+06  4.758418e+06   \n",
              "mean   2.945133e+03  9.566974e+04  1.287152e+05  2.857508e+05  1.503435e+05   \n",
              "std    1.145625e+04  1.633971e+04  3.399745e+04  1.412268e+05  3.748440e+04   \n",
              "min    0.000000e+00  0.000000e+00  0.000000e+00  0.000000e+00  0.000000e+00   \n",
              "25%    2.000000e+00  9.879900e+04  1.382680e+05  3.606060e+05  1.603960e+05   \n",
              "50%    1.100000e+01  9.879900e+04  1.382680e+05  3.606060e+05  1.603960e+05   \n",
              "75%    1.830000e+02  9.879900e+04  1.382680e+05  3.606060e+05  1.603960e+05   \n",
              "max    1.131730e+05  9.879900e+04  1.382680e+05  3.606060e+05  1.603960e+05   \n",
              "\n",
              "       ...  ApplicationName  OAuthApplicationId      FileName    FolderPath  \\\n",
              "count  ...     4.758418e+06        4.758418e+06  4.758418e+06  4.758418e+06   \n",
              "mean   ...     3.342850e+03        8.807987e+02  2.622379e+05  1.076177e+05   \n",
              "std    ...     5.101700e+02        1.282564e+01  8.155180e+04  3.220588e+04   \n",
              "min    ...     0.000000e+00        0.000000e+00  0.000000e+00  0.000000e+00   \n",
              "25%    ...     3.421000e+03        8.810000e+02  2.895730e+05  1.176680e+05   \n",
              "50%    ...     3.421000e+03        8.810000e+02  2.895730e+05  1.176680e+05   \n",
              "75%    ...     3.421000e+03        8.810000e+02  2.895730e+05  1.176680e+05   \n",
              "max    ...     3.421000e+03        8.810000e+02  2.895730e+05  1.176680e+05   \n",
              "\n",
              "       ResourceIdName      OSFamily     OSVersion   CountryCode         State  \\\n",
              "count    4.758418e+06  4.758418e+06  4.758418e+06  4.758418e+06  4.758418e+06   \n",
              "mean     3.583441e+03  4.898634e+00  6.465691e+01  2.236922e+02  1.351550e+03   \n",
              "std      9.093033e+01  7.031900e-01  9.310489e+00  6.276881e+01  3.508813e+02   \n",
              "min      0.000000e+00  0.000000e+00  0.000000e+00  0.000000e+00  0.000000e+00   \n",
              "25%      3.586000e+03  5.000000e+00  6.600000e+01  2.420000e+02  1.445000e+03   \n",
              "50%      3.586000e+03  5.000000e+00  6.600000e+01  2.420000e+02  1.445000e+03   \n",
              "75%      3.586000e+03  5.000000e+00  6.600000e+01  2.420000e+02  1.445000e+03   \n",
              "max      3.586000e+03  5.000000e+00  6.600000e+01  2.420000e+02  1.445000e+03   \n",
              "\n",
              "               City  \n",
              "count  4.758418e+06  \n",
              "mean   9.936695e+03  \n",
              "std    2.605943e+03  \n",
              "min    0.000000e+00  \n",
              "25%    1.063000e+04  \n",
              "50%    1.063000e+04  \n",
              "75%    1.063000e+04  \n",
              "max    1.063000e+04  \n",
              "\n",
              "[8 rows x 31 columns]"
            ],
            "text/html": [
              "\n",
              "  <div id=\"df-9ecce2a5-377c-45fe-8df0-e31de7e232af\" class=\"colab-df-container\">\n",
              "    <div>\n",
              "<style scoped>\n",
              "    .dataframe tbody tr th:only-of-type {\n",
              "        vertical-align: middle;\n",
              "    }\n",
              "\n",
              "    .dataframe tbody tr th {\n",
              "        vertical-align: top;\n",
              "    }\n",
              "\n",
              "    .dataframe thead th {\n",
              "        text-align: right;\n",
              "    }\n",
              "</style>\n",
              "<table border=\"1\" class=\"dataframe\">\n",
              "  <thead>\n",
              "    <tr style=\"text-align: right;\">\n",
              "      <th></th>\n",
              "      <th>Id</th>\n",
              "      <th>OrgId</th>\n",
              "      <th>IncidentId</th>\n",
              "      <th>AlertId</th>\n",
              "      <th>DetectorId</th>\n",
              "      <th>AlertTitle</th>\n",
              "      <th>DeviceId</th>\n",
              "      <th>Sha256</th>\n",
              "      <th>IpAddress</th>\n",
              "      <th>Url</th>\n",
              "      <th>...</th>\n",
              "      <th>ApplicationName</th>\n",
              "      <th>OAuthApplicationId</th>\n",
              "      <th>FileName</th>\n",
              "      <th>FolderPath</th>\n",
              "      <th>ResourceIdName</th>\n",
              "      <th>OSFamily</th>\n",
              "      <th>OSVersion</th>\n",
              "      <th>CountryCode</th>\n",
              "      <th>State</th>\n",
              "      <th>City</th>\n",
              "    </tr>\n",
              "  </thead>\n",
              "  <tbody>\n",
              "    <tr>\n",
              "      <th>count</th>\n",
              "      <td>4.758418e+06</td>\n",
              "      <td>4.758418e+06</td>\n",
              "      <td>4.758418e+06</td>\n",
              "      <td>4.758418e+06</td>\n",
              "      <td>4.758418e+06</td>\n",
              "      <td>4.758418e+06</td>\n",
              "      <td>4.758418e+06</td>\n",
              "      <td>4.758418e+06</td>\n",
              "      <td>4.758418e+06</td>\n",
              "      <td>4.758418e+06</td>\n",
              "      <td>...</td>\n",
              "      <td>4.758418e+06</td>\n",
              "      <td>4.758418e+06</td>\n",
              "      <td>4.758418e+06</td>\n",
              "      <td>4.758418e+06</td>\n",
              "      <td>4.758418e+06</td>\n",
              "      <td>4.758418e+06</td>\n",
              "      <td>4.758418e+06</td>\n",
              "      <td>4.758418e+06</td>\n",
              "      <td>4.758418e+06</td>\n",
              "      <td>4.758418e+06</td>\n",
              "    </tr>\n",
              "    <tr>\n",
              "      <th>mean</th>\n",
              "      <td>8.425237e+11</td>\n",
              "      <td>1.815396e+02</td>\n",
              "      <td>7.066577e+04</td>\n",
              "      <td>4.062607e+05</td>\n",
              "      <td>1.105717e+02</td>\n",
              "      <td>2.945133e+03</td>\n",
              "      <td>9.566974e+04</td>\n",
              "      <td>1.287152e+05</td>\n",
              "      <td>2.857508e+05</td>\n",
              "      <td>1.503435e+05</td>\n",
              "      <td>...</td>\n",
              "      <td>3.342850e+03</td>\n",
              "      <td>8.807987e+02</td>\n",
              "      <td>2.622379e+05</td>\n",
              "      <td>1.076177e+05</td>\n",
              "      <td>3.583441e+03</td>\n",
              "      <td>4.898634e+00</td>\n",
              "      <td>6.465691e+01</td>\n",
              "      <td>2.236922e+02</td>\n",
              "      <td>1.351550e+03</td>\n",
              "      <td>9.936695e+03</td>\n",
              "    </tr>\n",
              "    <tr>\n",
              "      <th>std</th>\n",
              "      <td>4.962194e+11</td>\n",
              "      <td>3.868571e+02</td>\n",
              "      <td>1.208436e+05</td>\n",
              "      <td>4.590474e+05</td>\n",
              "      <td>4.345897e+02</td>\n",
              "      <td>1.145625e+04</td>\n",
              "      <td>1.633971e+04</td>\n",
              "      <td>3.399745e+04</td>\n",
              "      <td>1.412268e+05</td>\n",
              "      <td>3.748440e+04</td>\n",
              "      <td>...</td>\n",
              "      <td>5.101700e+02</td>\n",
              "      <td>1.282564e+01</td>\n",
              "      <td>8.155180e+04</td>\n",
              "      <td>3.220588e+04</td>\n",
              "      <td>9.093033e+01</td>\n",
              "      <td>7.031900e-01</td>\n",
              "      <td>9.310489e+00</td>\n",
              "      <td>6.276881e+01</td>\n",
              "      <td>3.508813e+02</td>\n",
              "      <td>2.605943e+03</td>\n",
              "    </tr>\n",
              "    <tr>\n",
              "      <th>min</th>\n",
              "      <td>0.000000e+00</td>\n",
              "      <td>0.000000e+00</td>\n",
              "      <td>0.000000e+00</td>\n",
              "      <td>0.000000e+00</td>\n",
              "      <td>0.000000e+00</td>\n",
              "      <td>0.000000e+00</td>\n",
              "      <td>0.000000e+00</td>\n",
              "      <td>0.000000e+00</td>\n",
              "      <td>0.000000e+00</td>\n",
              "      <td>0.000000e+00</td>\n",
              "      <td>...</td>\n",
              "      <td>0.000000e+00</td>\n",
              "      <td>0.000000e+00</td>\n",
              "      <td>0.000000e+00</td>\n",
              "      <td>0.000000e+00</td>\n",
              "      <td>0.000000e+00</td>\n",
              "      <td>0.000000e+00</td>\n",
              "      <td>0.000000e+00</td>\n",
              "      <td>0.000000e+00</td>\n",
              "      <td>0.000000e+00</td>\n",
              "      <td>0.000000e+00</td>\n",
              "    </tr>\n",
              "    <tr>\n",
              "      <th>25%</th>\n",
              "      <td>4.209068e+11</td>\n",
              "      <td>1.000000e+01</td>\n",
              "      <td>5.100000e+02</td>\n",
              "      <td>2.371000e+04</td>\n",
              "      <td>2.000000e+00</td>\n",
              "      <td>2.000000e+00</td>\n",
              "      <td>9.879900e+04</td>\n",
              "      <td>1.382680e+05</td>\n",
              "      <td>3.606060e+05</td>\n",
              "      <td>1.603960e+05</td>\n",
              "      <td>...</td>\n",
              "      <td>3.421000e+03</td>\n",
              "      <td>8.810000e+02</td>\n",
              "      <td>2.895730e+05</td>\n",
              "      <td>1.176680e+05</td>\n",
              "      <td>3.586000e+03</td>\n",
              "      <td>5.000000e+00</td>\n",
              "      <td>6.600000e+01</td>\n",
              "      <td>2.420000e+02</td>\n",
              "      <td>1.445000e+03</td>\n",
              "      <td>1.063000e+04</td>\n",
              "    </tr>\n",
              "    <tr>\n",
              "      <th>50%</th>\n",
              "      <td>8.418136e+11</td>\n",
              "      <td>4.500000e+01</td>\n",
              "      <td>1.047300e+04</td>\n",
              "      <td>2.178915e+05</td>\n",
              "      <td>9.000000e+00</td>\n",
              "      <td>1.100000e+01</td>\n",
              "      <td>9.879900e+04</td>\n",
              "      <td>1.382680e+05</td>\n",
              "      <td>3.606060e+05</td>\n",
              "      <td>1.603960e+05</td>\n",
              "      <td>...</td>\n",
              "      <td>3.421000e+03</td>\n",
              "      <td>8.810000e+02</td>\n",
              "      <td>2.895730e+05</td>\n",
              "      <td>1.176680e+05</td>\n",
              "      <td>3.586000e+03</td>\n",
              "      <td>5.000000e+00</td>\n",
              "      <td>6.600000e+01</td>\n",
              "      <td>2.420000e+02</td>\n",
              "      <td>1.445000e+03</td>\n",
              "      <td>1.063000e+04</td>\n",
              "    </tr>\n",
              "    <tr>\n",
              "      <th>75%</th>\n",
              "      <td>1.271310e+12</td>\n",
              "      <td>1.720000e+02</td>\n",
              "      <td>8.490225e+04</td>\n",
              "      <td>6.736865e+05</td>\n",
              "      <td>4.600000e+01</td>\n",
              "      <td>1.830000e+02</td>\n",
              "      <td>9.879900e+04</td>\n",
              "      <td>1.382680e+05</td>\n",
              "      <td>3.606060e+05</td>\n",
              "      <td>1.603960e+05</td>\n",
              "      <td>...</td>\n",
              "      <td>3.421000e+03</td>\n",
              "      <td>8.810000e+02</td>\n",
              "      <td>2.895730e+05</td>\n",
              "      <td>1.176680e+05</td>\n",
              "      <td>3.586000e+03</td>\n",
              "      <td>5.000000e+00</td>\n",
              "      <td>6.600000e+01</td>\n",
              "      <td>2.420000e+02</td>\n",
              "      <td>1.445000e+03</td>\n",
              "      <td>1.063000e+04</td>\n",
              "    </tr>\n",
              "    <tr>\n",
              "      <th>max</th>\n",
              "      <td>1.709397e+12</td>\n",
              "      <td>6.147000e+03</td>\n",
              "      <td>5.997030e+05</td>\n",
              "      <td>1.721456e+06</td>\n",
              "      <td>9.522000e+03</td>\n",
              "      <td>1.131730e+05</td>\n",
              "      <td>9.879900e+04</td>\n",
              "      <td>1.382680e+05</td>\n",
              "      <td>3.606060e+05</td>\n",
              "      <td>1.603960e+05</td>\n",
              "      <td>...</td>\n",
              "      <td>3.421000e+03</td>\n",
              "      <td>8.810000e+02</td>\n",
              "      <td>2.895730e+05</td>\n",
              "      <td>1.176680e+05</td>\n",
              "      <td>3.586000e+03</td>\n",
              "      <td>5.000000e+00</td>\n",
              "      <td>6.600000e+01</td>\n",
              "      <td>2.420000e+02</td>\n",
              "      <td>1.445000e+03</td>\n",
              "      <td>1.063000e+04</td>\n",
              "    </tr>\n",
              "  </tbody>\n",
              "</table>\n",
              "<p>8 rows × 31 columns</p>\n",
              "</div>\n",
              "    <div class=\"colab-df-buttons\">\n",
              "\n",
              "  <div class=\"colab-df-container\">\n",
              "    <button class=\"colab-df-convert\" onclick=\"convertToInteractive('df-9ecce2a5-377c-45fe-8df0-e31de7e232af')\"\n",
              "            title=\"Convert this dataframe to an interactive table.\"\n",
              "            style=\"display:none;\">\n",
              "\n",
              "  <svg xmlns=\"http://www.w3.org/2000/svg\" height=\"24px\" viewBox=\"0 -960 960 960\">\n",
              "    <path d=\"M120-120v-720h720v720H120Zm60-500h600v-160H180v160Zm220 220h160v-160H400v160Zm0 220h160v-160H400v160ZM180-400h160v-160H180v160Zm440 0h160v-160H620v160ZM180-180h160v-160H180v160Zm440 0h160v-160H620v160Z\"/>\n",
              "  </svg>\n",
              "    </button>\n",
              "\n",
              "  <style>\n",
              "    .colab-df-container {\n",
              "      display:flex;\n",
              "      gap: 12px;\n",
              "    }\n",
              "\n",
              "    .colab-df-convert {\n",
              "      background-color: #E8F0FE;\n",
              "      border: none;\n",
              "      border-radius: 50%;\n",
              "      cursor: pointer;\n",
              "      display: none;\n",
              "      fill: #1967D2;\n",
              "      height: 32px;\n",
              "      padding: 0 0 0 0;\n",
              "      width: 32px;\n",
              "    }\n",
              "\n",
              "    .colab-df-convert:hover {\n",
              "      background-color: #E2EBFA;\n",
              "      box-shadow: 0px 1px 2px rgba(60, 64, 67, 0.3), 0px 1px 3px 1px rgba(60, 64, 67, 0.15);\n",
              "      fill: #174EA6;\n",
              "    }\n",
              "\n",
              "    .colab-df-buttons div {\n",
              "      margin-bottom: 4px;\n",
              "    }\n",
              "\n",
              "    [theme=dark] .colab-df-convert {\n",
              "      background-color: #3B4455;\n",
              "      fill: #D2E3FC;\n",
              "    }\n",
              "\n",
              "    [theme=dark] .colab-df-convert:hover {\n",
              "      background-color: #434B5C;\n",
              "      box-shadow: 0px 1px 3px 1px rgba(0, 0, 0, 0.15);\n",
              "      filter: drop-shadow(0px 1px 2px rgba(0, 0, 0, 0.3));\n",
              "      fill: #FFFFFF;\n",
              "    }\n",
              "  </style>\n",
              "\n",
              "    <script>\n",
              "      const buttonEl =\n",
              "        document.querySelector('#df-9ecce2a5-377c-45fe-8df0-e31de7e232af button.colab-df-convert');\n",
              "      buttonEl.style.display =\n",
              "        google.colab.kernel.accessAllowed ? 'block' : 'none';\n",
              "\n",
              "      async function convertToInteractive(key) {\n",
              "        const element = document.querySelector('#df-9ecce2a5-377c-45fe-8df0-e31de7e232af');\n",
              "        const dataTable =\n",
              "          await google.colab.kernel.invokeFunction('convertToInteractive',\n",
              "                                                    [key], {});\n",
              "        if (!dataTable) return;\n",
              "\n",
              "        const docLinkHtml = 'Like what you see? Visit the ' +\n",
              "          '<a target=\"_blank\" href=https://colab.research.google.com/notebooks/data_table.ipynb>data table notebook</a>'\n",
              "          + ' to learn more about interactive tables.';\n",
              "        element.innerHTML = '';\n",
              "        dataTable['output_type'] = 'display_data';\n",
              "        await google.colab.output.renderOutput(dataTable, element);\n",
              "        const docLink = document.createElement('div');\n",
              "        docLink.innerHTML = docLinkHtml;\n",
              "        element.appendChild(docLink);\n",
              "      }\n",
              "    </script>\n",
              "  </div>\n",
              "\n",
              "\n",
              "<div id=\"df-22f2cbe4-2460-4efb-a778-b09686cac38f\">\n",
              "  <button class=\"colab-df-quickchart\" onclick=\"quickchart('df-22f2cbe4-2460-4efb-a778-b09686cac38f')\"\n",
              "            title=\"Suggest charts\"\n",
              "            style=\"display:none;\">\n",
              "\n",
              "<svg xmlns=\"http://www.w3.org/2000/svg\" height=\"24px\"viewBox=\"0 0 24 24\"\n",
              "     width=\"24px\">\n",
              "    <g>\n",
              "        <path d=\"M19 3H5c-1.1 0-2 .9-2 2v14c0 1.1.9 2 2 2h14c1.1 0 2-.9 2-2V5c0-1.1-.9-2-2-2zM9 17H7v-7h2v7zm4 0h-2V7h2v10zm4 0h-2v-4h2v4z\"/>\n",
              "    </g>\n",
              "</svg>\n",
              "  </button>\n",
              "\n",
              "<style>\n",
              "  .colab-df-quickchart {\n",
              "      --bg-color: #E8F0FE;\n",
              "      --fill-color: #1967D2;\n",
              "      --hover-bg-color: #E2EBFA;\n",
              "      --hover-fill-color: #174EA6;\n",
              "      --disabled-fill-color: #AAA;\n",
              "      --disabled-bg-color: #DDD;\n",
              "  }\n",
              "\n",
              "  [theme=dark] .colab-df-quickchart {\n",
              "      --bg-color: #3B4455;\n",
              "      --fill-color: #D2E3FC;\n",
              "      --hover-bg-color: #434B5C;\n",
              "      --hover-fill-color: #FFFFFF;\n",
              "      --disabled-bg-color: #3B4455;\n",
              "      --disabled-fill-color: #666;\n",
              "  }\n",
              "\n",
              "  .colab-df-quickchart {\n",
              "    background-color: var(--bg-color);\n",
              "    border: none;\n",
              "    border-radius: 50%;\n",
              "    cursor: pointer;\n",
              "    display: none;\n",
              "    fill: var(--fill-color);\n",
              "    height: 32px;\n",
              "    padding: 0;\n",
              "    width: 32px;\n",
              "  }\n",
              "\n",
              "  .colab-df-quickchart:hover {\n",
              "    background-color: var(--hover-bg-color);\n",
              "    box-shadow: 0 1px 2px rgba(60, 64, 67, 0.3), 0 1px 3px 1px rgba(60, 64, 67, 0.15);\n",
              "    fill: var(--button-hover-fill-color);\n",
              "  }\n",
              "\n",
              "  .colab-df-quickchart-complete:disabled,\n",
              "  .colab-df-quickchart-complete:disabled:hover {\n",
              "    background-color: var(--disabled-bg-color);\n",
              "    fill: var(--disabled-fill-color);\n",
              "    box-shadow: none;\n",
              "  }\n",
              "\n",
              "  .colab-df-spinner {\n",
              "    border: 2px solid var(--fill-color);\n",
              "    border-color: transparent;\n",
              "    border-bottom-color: var(--fill-color);\n",
              "    animation:\n",
              "      spin 1s steps(1) infinite;\n",
              "  }\n",
              "\n",
              "  @keyframes spin {\n",
              "    0% {\n",
              "      border-color: transparent;\n",
              "      border-bottom-color: var(--fill-color);\n",
              "      border-left-color: var(--fill-color);\n",
              "    }\n",
              "    20% {\n",
              "      border-color: transparent;\n",
              "      border-left-color: var(--fill-color);\n",
              "      border-top-color: var(--fill-color);\n",
              "    }\n",
              "    30% {\n",
              "      border-color: transparent;\n",
              "      border-left-color: var(--fill-color);\n",
              "      border-top-color: var(--fill-color);\n",
              "      border-right-color: var(--fill-color);\n",
              "    }\n",
              "    40% {\n",
              "      border-color: transparent;\n",
              "      border-right-color: var(--fill-color);\n",
              "      border-top-color: var(--fill-color);\n",
              "    }\n",
              "    60% {\n",
              "      border-color: transparent;\n",
              "      border-right-color: var(--fill-color);\n",
              "    }\n",
              "    80% {\n",
              "      border-color: transparent;\n",
              "      border-right-color: var(--fill-color);\n",
              "      border-bottom-color: var(--fill-color);\n",
              "    }\n",
              "    90% {\n",
              "      border-color: transparent;\n",
              "      border-bottom-color: var(--fill-color);\n",
              "    }\n",
              "  }\n",
              "</style>\n",
              "\n",
              "  <script>\n",
              "    async function quickchart(key) {\n",
              "      const quickchartButtonEl =\n",
              "        document.querySelector('#' + key + ' button');\n",
              "      quickchartButtonEl.disabled = true;  // To prevent multiple clicks.\n",
              "      quickchartButtonEl.classList.add('colab-df-spinner');\n",
              "      try {\n",
              "        const charts = await google.colab.kernel.invokeFunction(\n",
              "            'suggestCharts', [key], {});\n",
              "      } catch (error) {\n",
              "        console.error('Error during call to suggestCharts:', error);\n",
              "      }\n",
              "      quickchartButtonEl.classList.remove('colab-df-spinner');\n",
              "      quickchartButtonEl.classList.add('colab-df-quickchart-complete');\n",
              "    }\n",
              "    (() => {\n",
              "      let quickchartButtonEl =\n",
              "        document.querySelector('#df-22f2cbe4-2460-4efb-a778-b09686cac38f button');\n",
              "      quickchartButtonEl.style.display =\n",
              "        google.colab.kernel.accessAllowed ? 'block' : 'none';\n",
              "    })();\n",
              "  </script>\n",
              "</div>\n",
              "\n",
              "    </div>\n",
              "  </div>\n"
            ],
            "application/vnd.google.colaboratory.intrinsic+json": {
              "type": "dataframe"
            }
          },
          "metadata": {},
          "execution_count": 23
        }
      ]
    },
    {
      "cell_type": "code",
      "source": [
        "df_sample.isnull().sum().compute()"
      ],
      "metadata": {
        "colab": {
          "base_uri": "https://localhost:8080/",
          "height": 1000
        },
        "id": "0cIqIloQswRe",
        "outputId": "5c806622-2f67-4549-b9a5-16036f8017ed"
      },
      "execution_count": 25,
      "outputs": [
        {
          "output_type": "execute_result",
          "data": {
            "text/plain": [
              "Id                          0\n",
              "OrgId                       0\n",
              "IncidentId                  0\n",
              "AlertId                     0\n",
              "Timestamp                   0\n",
              "DetectorId                  0\n",
              "AlertTitle                  0\n",
              "Category                    0\n",
              "MitreTechniques       2733136\n",
              "IncidentGrade           25775\n",
              "ActionGrouped         4730205\n",
              "ActionGranular        4730205\n",
              "EntityType                  0\n",
              "EvidenceRole                0\n",
              "DeviceId                    0\n",
              "Sha256                      0\n",
              "IpAddress                   0\n",
              "Url                         0\n",
              "AccountSid                  0\n",
              "AccountUpn                  0\n",
              "AccountObjectId             0\n",
              "AccountName                 0\n",
              "DeviceName                  0\n",
              "NetworkMessageId            0\n",
              "EmailClusterId        4710241\n",
              "RegistryKey                 0\n",
              "RegistryValueName           0\n",
              "RegistryValueData           0\n",
              "ApplicationId               0\n",
              "ApplicationName             0\n",
              "OAuthApplicationId          0\n",
              "ThreatFamily          4721038\n",
              "FileName                    0\n",
              "FolderPath                  0\n",
              "ResourceIdName              0\n",
              "ResourceType          4754863\n",
              "Roles                 4649117\n",
              "OSFamily                    0\n",
              "OSVersion                   0\n",
              "AntispamDirection     4669846\n",
              "SuspicionLevel        4037145\n",
              "LastVerdict           3642221\n",
              "CountryCode                 0\n",
              "State                       0\n",
              "City                        0\n",
              "dtype: int64"
            ],
            "text/html": [
              "<div>\n",
              "<style scoped>\n",
              "    .dataframe tbody tr th:only-of-type {\n",
              "        vertical-align: middle;\n",
              "    }\n",
              "\n",
              "    .dataframe tbody tr th {\n",
              "        vertical-align: top;\n",
              "    }\n",
              "\n",
              "    .dataframe thead th {\n",
              "        text-align: right;\n",
              "    }\n",
              "</style>\n",
              "<table border=\"1\" class=\"dataframe\">\n",
              "  <thead>\n",
              "    <tr style=\"text-align: right;\">\n",
              "      <th></th>\n",
              "      <th>0</th>\n",
              "    </tr>\n",
              "  </thead>\n",
              "  <tbody>\n",
              "    <tr>\n",
              "      <th>Id</th>\n",
              "      <td>0</td>\n",
              "    </tr>\n",
              "    <tr>\n",
              "      <th>OrgId</th>\n",
              "      <td>0</td>\n",
              "    </tr>\n",
              "    <tr>\n",
              "      <th>IncidentId</th>\n",
              "      <td>0</td>\n",
              "    </tr>\n",
              "    <tr>\n",
              "      <th>AlertId</th>\n",
              "      <td>0</td>\n",
              "    </tr>\n",
              "    <tr>\n",
              "      <th>Timestamp</th>\n",
              "      <td>0</td>\n",
              "    </tr>\n",
              "    <tr>\n",
              "      <th>DetectorId</th>\n",
              "      <td>0</td>\n",
              "    </tr>\n",
              "    <tr>\n",
              "      <th>AlertTitle</th>\n",
              "      <td>0</td>\n",
              "    </tr>\n",
              "    <tr>\n",
              "      <th>Category</th>\n",
              "      <td>0</td>\n",
              "    </tr>\n",
              "    <tr>\n",
              "      <th>MitreTechniques</th>\n",
              "      <td>2733136</td>\n",
              "    </tr>\n",
              "    <tr>\n",
              "      <th>IncidentGrade</th>\n",
              "      <td>25775</td>\n",
              "    </tr>\n",
              "    <tr>\n",
              "      <th>ActionGrouped</th>\n",
              "      <td>4730205</td>\n",
              "    </tr>\n",
              "    <tr>\n",
              "      <th>ActionGranular</th>\n",
              "      <td>4730205</td>\n",
              "    </tr>\n",
              "    <tr>\n",
              "      <th>EntityType</th>\n",
              "      <td>0</td>\n",
              "    </tr>\n",
              "    <tr>\n",
              "      <th>EvidenceRole</th>\n",
              "      <td>0</td>\n",
              "    </tr>\n",
              "    <tr>\n",
              "      <th>DeviceId</th>\n",
              "      <td>0</td>\n",
              "    </tr>\n",
              "    <tr>\n",
              "      <th>Sha256</th>\n",
              "      <td>0</td>\n",
              "    </tr>\n",
              "    <tr>\n",
              "      <th>IpAddress</th>\n",
              "      <td>0</td>\n",
              "    </tr>\n",
              "    <tr>\n",
              "      <th>Url</th>\n",
              "      <td>0</td>\n",
              "    </tr>\n",
              "    <tr>\n",
              "      <th>AccountSid</th>\n",
              "      <td>0</td>\n",
              "    </tr>\n",
              "    <tr>\n",
              "      <th>AccountUpn</th>\n",
              "      <td>0</td>\n",
              "    </tr>\n",
              "    <tr>\n",
              "      <th>AccountObjectId</th>\n",
              "      <td>0</td>\n",
              "    </tr>\n",
              "    <tr>\n",
              "      <th>AccountName</th>\n",
              "      <td>0</td>\n",
              "    </tr>\n",
              "    <tr>\n",
              "      <th>DeviceName</th>\n",
              "      <td>0</td>\n",
              "    </tr>\n",
              "    <tr>\n",
              "      <th>NetworkMessageId</th>\n",
              "      <td>0</td>\n",
              "    </tr>\n",
              "    <tr>\n",
              "      <th>EmailClusterId</th>\n",
              "      <td>4710241</td>\n",
              "    </tr>\n",
              "    <tr>\n",
              "      <th>RegistryKey</th>\n",
              "      <td>0</td>\n",
              "    </tr>\n",
              "    <tr>\n",
              "      <th>RegistryValueName</th>\n",
              "      <td>0</td>\n",
              "    </tr>\n",
              "    <tr>\n",
              "      <th>RegistryValueData</th>\n",
              "      <td>0</td>\n",
              "    </tr>\n",
              "    <tr>\n",
              "      <th>ApplicationId</th>\n",
              "      <td>0</td>\n",
              "    </tr>\n",
              "    <tr>\n",
              "      <th>ApplicationName</th>\n",
              "      <td>0</td>\n",
              "    </tr>\n",
              "    <tr>\n",
              "      <th>OAuthApplicationId</th>\n",
              "      <td>0</td>\n",
              "    </tr>\n",
              "    <tr>\n",
              "      <th>ThreatFamily</th>\n",
              "      <td>4721038</td>\n",
              "    </tr>\n",
              "    <tr>\n",
              "      <th>FileName</th>\n",
              "      <td>0</td>\n",
              "    </tr>\n",
              "    <tr>\n",
              "      <th>FolderPath</th>\n",
              "      <td>0</td>\n",
              "    </tr>\n",
              "    <tr>\n",
              "      <th>ResourceIdName</th>\n",
              "      <td>0</td>\n",
              "    </tr>\n",
              "    <tr>\n",
              "      <th>ResourceType</th>\n",
              "      <td>4754863</td>\n",
              "    </tr>\n",
              "    <tr>\n",
              "      <th>Roles</th>\n",
              "      <td>4649117</td>\n",
              "    </tr>\n",
              "    <tr>\n",
              "      <th>OSFamily</th>\n",
              "      <td>0</td>\n",
              "    </tr>\n",
              "    <tr>\n",
              "      <th>OSVersion</th>\n",
              "      <td>0</td>\n",
              "    </tr>\n",
              "    <tr>\n",
              "      <th>AntispamDirection</th>\n",
              "      <td>4669846</td>\n",
              "    </tr>\n",
              "    <tr>\n",
              "      <th>SuspicionLevel</th>\n",
              "      <td>4037145</td>\n",
              "    </tr>\n",
              "    <tr>\n",
              "      <th>LastVerdict</th>\n",
              "      <td>3642221</td>\n",
              "    </tr>\n",
              "    <tr>\n",
              "      <th>CountryCode</th>\n",
              "      <td>0</td>\n",
              "    </tr>\n",
              "    <tr>\n",
              "      <th>State</th>\n",
              "      <td>0</td>\n",
              "    </tr>\n",
              "    <tr>\n",
              "      <th>City</th>\n",
              "      <td>0</td>\n",
              "    </tr>\n",
              "  </tbody>\n",
              "</table>\n",
              "</div><br><label><b>dtype:</b> int64</label>"
            ]
          },
          "metadata": {},
          "execution_count": 25
        }
      ]
    },
    {
      "cell_type": "code",
      "source": [
        "df_sample = df_sample.drop(['MitreTechniques','ActionGrouped', 'ActionGranular', 'EmailClusterId', 'ThreatFamily', 'ResourceType','Roles','AntispamDirection','SuspicionLevel','LastVerdict'], axis=1)"
      ],
      "metadata": {
        "id": "gZ-OPfj7ug3W"
      },
      "execution_count": 7,
      "outputs": []
    },
    {
      "cell_type": "code",
      "source": [
        "df_sample = df_sample.drop(['Id'], axis=1)"
      ],
      "metadata": {
        "id": "3BrzKzEDbwh9"
      },
      "execution_count": 33,
      "outputs": []
    },
    {
      "cell_type": "code",
      "source": [
        "df_sample = df_sample.dropna(subset=['IncidentGrade'])"
      ],
      "metadata": {
        "id": "nQbYBk5xutvW"
      },
      "execution_count": 8,
      "outputs": []
    },
    {
      "cell_type": "code",
      "source": [
        "df_sample.isnull().sum().compute()"
      ],
      "metadata": {
        "colab": {
          "base_uri": "https://localhost:8080/",
          "height": 1000
        },
        "id": "g5Ja5aWcu50m",
        "outputId": "034416e5-31bf-4077-93c0-ad6b62328442"
      },
      "execution_count": 29,
      "outputs": [
        {
          "output_type": "execute_result",
          "data": {
            "text/plain": [
              "Id                    0\n",
              "OrgId                 0\n",
              "IncidentId            0\n",
              "AlertId               0\n",
              "Timestamp             0\n",
              "DetectorId            0\n",
              "AlertTitle            0\n",
              "Category              0\n",
              "IncidentGrade         0\n",
              "EntityType            0\n",
              "EvidenceRole          0\n",
              "DeviceId              0\n",
              "Sha256                0\n",
              "IpAddress             0\n",
              "Url                   0\n",
              "AccountSid            0\n",
              "AccountUpn            0\n",
              "AccountObjectId       0\n",
              "AccountName           0\n",
              "DeviceName            0\n",
              "NetworkMessageId      0\n",
              "RegistryKey           0\n",
              "RegistryValueName     0\n",
              "RegistryValueData     0\n",
              "ApplicationId         0\n",
              "ApplicationName       0\n",
              "OAuthApplicationId    0\n",
              "FileName              0\n",
              "FolderPath            0\n",
              "ResourceIdName        0\n",
              "OSFamily              0\n",
              "OSVersion             0\n",
              "CountryCode           0\n",
              "State                 0\n",
              "City                  0\n",
              "dtype: int64"
            ],
            "text/html": [
              "<div>\n",
              "<style scoped>\n",
              "    .dataframe tbody tr th:only-of-type {\n",
              "        vertical-align: middle;\n",
              "    }\n",
              "\n",
              "    .dataframe tbody tr th {\n",
              "        vertical-align: top;\n",
              "    }\n",
              "\n",
              "    .dataframe thead th {\n",
              "        text-align: right;\n",
              "    }\n",
              "</style>\n",
              "<table border=\"1\" class=\"dataframe\">\n",
              "  <thead>\n",
              "    <tr style=\"text-align: right;\">\n",
              "      <th></th>\n",
              "      <th>0</th>\n",
              "    </tr>\n",
              "  </thead>\n",
              "  <tbody>\n",
              "    <tr>\n",
              "      <th>Id</th>\n",
              "      <td>0</td>\n",
              "    </tr>\n",
              "    <tr>\n",
              "      <th>OrgId</th>\n",
              "      <td>0</td>\n",
              "    </tr>\n",
              "    <tr>\n",
              "      <th>IncidentId</th>\n",
              "      <td>0</td>\n",
              "    </tr>\n",
              "    <tr>\n",
              "      <th>AlertId</th>\n",
              "      <td>0</td>\n",
              "    </tr>\n",
              "    <tr>\n",
              "      <th>Timestamp</th>\n",
              "      <td>0</td>\n",
              "    </tr>\n",
              "    <tr>\n",
              "      <th>DetectorId</th>\n",
              "      <td>0</td>\n",
              "    </tr>\n",
              "    <tr>\n",
              "      <th>AlertTitle</th>\n",
              "      <td>0</td>\n",
              "    </tr>\n",
              "    <tr>\n",
              "      <th>Category</th>\n",
              "      <td>0</td>\n",
              "    </tr>\n",
              "    <tr>\n",
              "      <th>IncidentGrade</th>\n",
              "      <td>0</td>\n",
              "    </tr>\n",
              "    <tr>\n",
              "      <th>EntityType</th>\n",
              "      <td>0</td>\n",
              "    </tr>\n",
              "    <tr>\n",
              "      <th>EvidenceRole</th>\n",
              "      <td>0</td>\n",
              "    </tr>\n",
              "    <tr>\n",
              "      <th>DeviceId</th>\n",
              "      <td>0</td>\n",
              "    </tr>\n",
              "    <tr>\n",
              "      <th>Sha256</th>\n",
              "      <td>0</td>\n",
              "    </tr>\n",
              "    <tr>\n",
              "      <th>IpAddress</th>\n",
              "      <td>0</td>\n",
              "    </tr>\n",
              "    <tr>\n",
              "      <th>Url</th>\n",
              "      <td>0</td>\n",
              "    </tr>\n",
              "    <tr>\n",
              "      <th>AccountSid</th>\n",
              "      <td>0</td>\n",
              "    </tr>\n",
              "    <tr>\n",
              "      <th>AccountUpn</th>\n",
              "      <td>0</td>\n",
              "    </tr>\n",
              "    <tr>\n",
              "      <th>AccountObjectId</th>\n",
              "      <td>0</td>\n",
              "    </tr>\n",
              "    <tr>\n",
              "      <th>AccountName</th>\n",
              "      <td>0</td>\n",
              "    </tr>\n",
              "    <tr>\n",
              "      <th>DeviceName</th>\n",
              "      <td>0</td>\n",
              "    </tr>\n",
              "    <tr>\n",
              "      <th>NetworkMessageId</th>\n",
              "      <td>0</td>\n",
              "    </tr>\n",
              "    <tr>\n",
              "      <th>RegistryKey</th>\n",
              "      <td>0</td>\n",
              "    </tr>\n",
              "    <tr>\n",
              "      <th>RegistryValueName</th>\n",
              "      <td>0</td>\n",
              "    </tr>\n",
              "    <tr>\n",
              "      <th>RegistryValueData</th>\n",
              "      <td>0</td>\n",
              "    </tr>\n",
              "    <tr>\n",
              "      <th>ApplicationId</th>\n",
              "      <td>0</td>\n",
              "    </tr>\n",
              "    <tr>\n",
              "      <th>ApplicationName</th>\n",
              "      <td>0</td>\n",
              "    </tr>\n",
              "    <tr>\n",
              "      <th>OAuthApplicationId</th>\n",
              "      <td>0</td>\n",
              "    </tr>\n",
              "    <tr>\n",
              "      <th>FileName</th>\n",
              "      <td>0</td>\n",
              "    </tr>\n",
              "    <tr>\n",
              "      <th>FolderPath</th>\n",
              "      <td>0</td>\n",
              "    </tr>\n",
              "    <tr>\n",
              "      <th>ResourceIdName</th>\n",
              "      <td>0</td>\n",
              "    </tr>\n",
              "    <tr>\n",
              "      <th>OSFamily</th>\n",
              "      <td>0</td>\n",
              "    </tr>\n",
              "    <tr>\n",
              "      <th>OSVersion</th>\n",
              "      <td>0</td>\n",
              "    </tr>\n",
              "    <tr>\n",
              "      <th>CountryCode</th>\n",
              "      <td>0</td>\n",
              "    </tr>\n",
              "    <tr>\n",
              "      <th>State</th>\n",
              "      <td>0</td>\n",
              "    </tr>\n",
              "    <tr>\n",
              "      <th>City</th>\n",
              "      <td>0</td>\n",
              "    </tr>\n",
              "  </tbody>\n",
              "</table>\n",
              "</div><br><label><b>dtype:</b> int64</label>"
            ]
          },
          "metadata": {},
          "execution_count": 29
        }
      ]
    },
    {
      "cell_type": "code",
      "source": [
        "df_sample.columns"
      ],
      "metadata": {
        "colab": {
          "base_uri": "https://localhost:8080/"
        },
        "id": "8-o3rxBasoHK",
        "outputId": "80538fbf-36db-4321-bf85-87ba95784d9e"
      },
      "execution_count": 30,
      "outputs": [
        {
          "output_type": "execute_result",
          "data": {
            "text/plain": [
              "Index(['Id', 'OrgId', 'IncidentId', 'AlertId', 'Timestamp', 'DetectorId',\n",
              "       'AlertTitle', 'Category', 'IncidentGrade', 'EntityType', 'EvidenceRole',\n",
              "       'DeviceId', 'Sha256', 'IpAddress', 'Url', 'AccountSid', 'AccountUpn',\n",
              "       'AccountObjectId', 'AccountName', 'DeviceName', 'NetworkMessageId',\n",
              "       'RegistryKey', 'RegistryValueName', 'RegistryValueData',\n",
              "       'ApplicationId', 'ApplicationName', 'OAuthApplicationId', 'FileName',\n",
              "       'FolderPath', 'ResourceIdName', 'OSFamily', 'OSVersion', 'CountryCode',\n",
              "       'State', 'City'],\n",
              "      dtype='object')"
            ]
          },
          "metadata": {},
          "execution_count": 30
        }
      ]
    },
    {
      "cell_type": "code",
      "source": [
        "column_to_move = 'IncidentGrade'\n",
        "new_order = [col for col in df_sample.columns if col != column_to_move] + [column_to_move]\n",
        "df_sample = df_sample[new_order]"
      ],
      "metadata": {
        "id": "xJv4f-xZyqPX"
      },
      "execution_count": 9,
      "outputs": []
    },
    {
      "cell_type": "code",
      "source": [
        "df_sample.head()"
      ],
      "metadata": {
        "colab": {
          "base_uri": "https://localhost:8080/",
          "height": 342
        },
        "id": "_wVxlIfVzph2",
        "outputId": "631a68f1-a97b-4671-96d1-428568846fce"
      },
      "execution_count": 32,
      "outputs": [
        {
          "output_type": "execute_result",
          "data": {
            "text/plain": [
              "              Id  OrgId  IncidentId  AlertId                 Timestamp  \\\n",
              "0  1709396985476     26       18583   687462  2024-06-06T05:56:47.000Z   \n",
              "1   927712939180     33        5065     3990  2024-06-03T10:45:09.000Z   \n",
              "2  1090921697002    201      150787   807590  2024-06-13T03:36:40.000Z   \n",
              "3  1434519079555    204      108287    28575  2024-06-08T16:54:57.000Z   \n",
              "4  1005022347708     54      528202  1458226  2024-06-09T02:48:01.000Z   \n",
              "\n",
              "   DetectorId  AlertTitle            Category EntityType EvidenceRole  ...  \\\n",
              "0          31         813             Malware       File      Related  ...   \n",
              "1          38          25              Impact    Machine     Impacted  ...   \n",
              "2         419         444           Execution    Machine     Impacted  ...   \n",
              "3          44        1233  SuspiciousActivity       File      Related  ...   \n",
              "4         102       58829        Exfiltration       File     Impacted  ...   \n",
              "\n",
              "   OAuthApplicationId  FileName  FolderPath  ResourceIdName  OSFamily  \\\n",
              "0                 881      4132        4227            3586         5   \n",
              "1                 881    289573      117668            3586         5   \n",
              "2                 881    289573      117668            3586         5   \n",
              "3                 881     97007        9177            3586         5   \n",
              "4                 881     39978      114449            3586         5   \n",
              "\n",
              "   OSVersion  CountryCode  State   City   IncidentGrade  \n",
              "0         66          242   1445  10630  BenignPositive  \n",
              "1         66          242   1445  10630  BenignPositive  \n",
              "2         66          242   1445  10630  BenignPositive  \n",
              "3         66          242   1445  10630    TruePositive  \n",
              "4         66          242   1445  10630  BenignPositive  \n",
              "\n",
              "[5 rows x 35 columns]"
            ],
            "text/html": [
              "\n",
              "  <div id=\"df-136fa709-9756-4383-9dcb-fd8d5d549a6a\" class=\"colab-df-container\">\n",
              "    <div>\n",
              "<style scoped>\n",
              "    .dataframe tbody tr th:only-of-type {\n",
              "        vertical-align: middle;\n",
              "    }\n",
              "\n",
              "    .dataframe tbody tr th {\n",
              "        vertical-align: top;\n",
              "    }\n",
              "\n",
              "    .dataframe thead th {\n",
              "        text-align: right;\n",
              "    }\n",
              "</style>\n",
              "<table border=\"1\" class=\"dataframe\">\n",
              "  <thead>\n",
              "    <tr style=\"text-align: right;\">\n",
              "      <th></th>\n",
              "      <th>Id</th>\n",
              "      <th>OrgId</th>\n",
              "      <th>IncidentId</th>\n",
              "      <th>AlertId</th>\n",
              "      <th>Timestamp</th>\n",
              "      <th>DetectorId</th>\n",
              "      <th>AlertTitle</th>\n",
              "      <th>Category</th>\n",
              "      <th>EntityType</th>\n",
              "      <th>EvidenceRole</th>\n",
              "      <th>...</th>\n",
              "      <th>OAuthApplicationId</th>\n",
              "      <th>FileName</th>\n",
              "      <th>FolderPath</th>\n",
              "      <th>ResourceIdName</th>\n",
              "      <th>OSFamily</th>\n",
              "      <th>OSVersion</th>\n",
              "      <th>CountryCode</th>\n",
              "      <th>State</th>\n",
              "      <th>City</th>\n",
              "      <th>IncidentGrade</th>\n",
              "    </tr>\n",
              "  </thead>\n",
              "  <tbody>\n",
              "    <tr>\n",
              "      <th>0</th>\n",
              "      <td>1709396985476</td>\n",
              "      <td>26</td>\n",
              "      <td>18583</td>\n",
              "      <td>687462</td>\n",
              "      <td>2024-06-06T05:56:47.000Z</td>\n",
              "      <td>31</td>\n",
              "      <td>813</td>\n",
              "      <td>Malware</td>\n",
              "      <td>File</td>\n",
              "      <td>Related</td>\n",
              "      <td>...</td>\n",
              "      <td>881</td>\n",
              "      <td>4132</td>\n",
              "      <td>4227</td>\n",
              "      <td>3586</td>\n",
              "      <td>5</td>\n",
              "      <td>66</td>\n",
              "      <td>242</td>\n",
              "      <td>1445</td>\n",
              "      <td>10630</td>\n",
              "      <td>BenignPositive</td>\n",
              "    </tr>\n",
              "    <tr>\n",
              "      <th>1</th>\n",
              "      <td>927712939180</td>\n",
              "      <td>33</td>\n",
              "      <td>5065</td>\n",
              "      <td>3990</td>\n",
              "      <td>2024-06-03T10:45:09.000Z</td>\n",
              "      <td>38</td>\n",
              "      <td>25</td>\n",
              "      <td>Impact</td>\n",
              "      <td>Machine</td>\n",
              "      <td>Impacted</td>\n",
              "      <td>...</td>\n",
              "      <td>881</td>\n",
              "      <td>289573</td>\n",
              "      <td>117668</td>\n",
              "      <td>3586</td>\n",
              "      <td>5</td>\n",
              "      <td>66</td>\n",
              "      <td>242</td>\n",
              "      <td>1445</td>\n",
              "      <td>10630</td>\n",
              "      <td>BenignPositive</td>\n",
              "    </tr>\n",
              "    <tr>\n",
              "      <th>2</th>\n",
              "      <td>1090921697002</td>\n",
              "      <td>201</td>\n",
              "      <td>150787</td>\n",
              "      <td>807590</td>\n",
              "      <td>2024-06-13T03:36:40.000Z</td>\n",
              "      <td>419</td>\n",
              "      <td>444</td>\n",
              "      <td>Execution</td>\n",
              "      <td>Machine</td>\n",
              "      <td>Impacted</td>\n",
              "      <td>...</td>\n",
              "      <td>881</td>\n",
              "      <td>289573</td>\n",
              "      <td>117668</td>\n",
              "      <td>3586</td>\n",
              "      <td>5</td>\n",
              "      <td>66</td>\n",
              "      <td>242</td>\n",
              "      <td>1445</td>\n",
              "      <td>10630</td>\n",
              "      <td>BenignPositive</td>\n",
              "    </tr>\n",
              "    <tr>\n",
              "      <th>3</th>\n",
              "      <td>1434519079555</td>\n",
              "      <td>204</td>\n",
              "      <td>108287</td>\n",
              "      <td>28575</td>\n",
              "      <td>2024-06-08T16:54:57.000Z</td>\n",
              "      <td>44</td>\n",
              "      <td>1233</td>\n",
              "      <td>SuspiciousActivity</td>\n",
              "      <td>File</td>\n",
              "      <td>Related</td>\n",
              "      <td>...</td>\n",
              "      <td>881</td>\n",
              "      <td>97007</td>\n",
              "      <td>9177</td>\n",
              "      <td>3586</td>\n",
              "      <td>5</td>\n",
              "      <td>66</td>\n",
              "      <td>242</td>\n",
              "      <td>1445</td>\n",
              "      <td>10630</td>\n",
              "      <td>TruePositive</td>\n",
              "    </tr>\n",
              "    <tr>\n",
              "      <th>4</th>\n",
              "      <td>1005022347708</td>\n",
              "      <td>54</td>\n",
              "      <td>528202</td>\n",
              "      <td>1458226</td>\n",
              "      <td>2024-06-09T02:48:01.000Z</td>\n",
              "      <td>102</td>\n",
              "      <td>58829</td>\n",
              "      <td>Exfiltration</td>\n",
              "      <td>File</td>\n",
              "      <td>Impacted</td>\n",
              "      <td>...</td>\n",
              "      <td>881</td>\n",
              "      <td>39978</td>\n",
              "      <td>114449</td>\n",
              "      <td>3586</td>\n",
              "      <td>5</td>\n",
              "      <td>66</td>\n",
              "      <td>242</td>\n",
              "      <td>1445</td>\n",
              "      <td>10630</td>\n",
              "      <td>BenignPositive</td>\n",
              "    </tr>\n",
              "  </tbody>\n",
              "</table>\n",
              "<p>5 rows × 35 columns</p>\n",
              "</div>\n",
              "    <div class=\"colab-df-buttons\">\n",
              "\n",
              "  <div class=\"colab-df-container\">\n",
              "    <button class=\"colab-df-convert\" onclick=\"convertToInteractive('df-136fa709-9756-4383-9dcb-fd8d5d549a6a')\"\n",
              "            title=\"Convert this dataframe to an interactive table.\"\n",
              "            style=\"display:none;\">\n",
              "\n",
              "  <svg xmlns=\"http://www.w3.org/2000/svg\" height=\"24px\" viewBox=\"0 -960 960 960\">\n",
              "    <path d=\"M120-120v-720h720v720H120Zm60-500h600v-160H180v160Zm220 220h160v-160H400v160Zm0 220h160v-160H400v160ZM180-400h160v-160H180v160Zm440 0h160v-160H620v160ZM180-180h160v-160H180v160Zm440 0h160v-160H620v160Z\"/>\n",
              "  </svg>\n",
              "    </button>\n",
              "\n",
              "  <style>\n",
              "    .colab-df-container {\n",
              "      display:flex;\n",
              "      gap: 12px;\n",
              "    }\n",
              "\n",
              "    .colab-df-convert {\n",
              "      background-color: #E8F0FE;\n",
              "      border: none;\n",
              "      border-radius: 50%;\n",
              "      cursor: pointer;\n",
              "      display: none;\n",
              "      fill: #1967D2;\n",
              "      height: 32px;\n",
              "      padding: 0 0 0 0;\n",
              "      width: 32px;\n",
              "    }\n",
              "\n",
              "    .colab-df-convert:hover {\n",
              "      background-color: #E2EBFA;\n",
              "      box-shadow: 0px 1px 2px rgba(60, 64, 67, 0.3), 0px 1px 3px 1px rgba(60, 64, 67, 0.15);\n",
              "      fill: #174EA6;\n",
              "    }\n",
              "\n",
              "    .colab-df-buttons div {\n",
              "      margin-bottom: 4px;\n",
              "    }\n",
              "\n",
              "    [theme=dark] .colab-df-convert {\n",
              "      background-color: #3B4455;\n",
              "      fill: #D2E3FC;\n",
              "    }\n",
              "\n",
              "    [theme=dark] .colab-df-convert:hover {\n",
              "      background-color: #434B5C;\n",
              "      box-shadow: 0px 1px 3px 1px rgba(0, 0, 0, 0.15);\n",
              "      filter: drop-shadow(0px 1px 2px rgba(0, 0, 0, 0.3));\n",
              "      fill: #FFFFFF;\n",
              "    }\n",
              "  </style>\n",
              "\n",
              "    <script>\n",
              "      const buttonEl =\n",
              "        document.querySelector('#df-136fa709-9756-4383-9dcb-fd8d5d549a6a button.colab-df-convert');\n",
              "      buttonEl.style.display =\n",
              "        google.colab.kernel.accessAllowed ? 'block' : 'none';\n",
              "\n",
              "      async function convertToInteractive(key) {\n",
              "        const element = document.querySelector('#df-136fa709-9756-4383-9dcb-fd8d5d549a6a');\n",
              "        const dataTable =\n",
              "          await google.colab.kernel.invokeFunction('convertToInteractive',\n",
              "                                                    [key], {});\n",
              "        if (!dataTable) return;\n",
              "\n",
              "        const docLinkHtml = 'Like what you see? Visit the ' +\n",
              "          '<a target=\"_blank\" href=https://colab.research.google.com/notebooks/data_table.ipynb>data table notebook</a>'\n",
              "          + ' to learn more about interactive tables.';\n",
              "        element.innerHTML = '';\n",
              "        dataTable['output_type'] = 'display_data';\n",
              "        await google.colab.output.renderOutput(dataTable, element);\n",
              "        const docLink = document.createElement('div');\n",
              "        docLink.innerHTML = docLinkHtml;\n",
              "        element.appendChild(docLink);\n",
              "      }\n",
              "    </script>\n",
              "  </div>\n",
              "\n",
              "\n",
              "<div id=\"df-ac1f9a90-6b1d-4f71-b810-d80a55f2d314\">\n",
              "  <button class=\"colab-df-quickchart\" onclick=\"quickchart('df-ac1f9a90-6b1d-4f71-b810-d80a55f2d314')\"\n",
              "            title=\"Suggest charts\"\n",
              "            style=\"display:none;\">\n",
              "\n",
              "<svg xmlns=\"http://www.w3.org/2000/svg\" height=\"24px\"viewBox=\"0 0 24 24\"\n",
              "     width=\"24px\">\n",
              "    <g>\n",
              "        <path d=\"M19 3H5c-1.1 0-2 .9-2 2v14c0 1.1.9 2 2 2h14c1.1 0 2-.9 2-2V5c0-1.1-.9-2-2-2zM9 17H7v-7h2v7zm4 0h-2V7h2v10zm4 0h-2v-4h2v4z\"/>\n",
              "    </g>\n",
              "</svg>\n",
              "  </button>\n",
              "\n",
              "<style>\n",
              "  .colab-df-quickchart {\n",
              "      --bg-color: #E8F0FE;\n",
              "      --fill-color: #1967D2;\n",
              "      --hover-bg-color: #E2EBFA;\n",
              "      --hover-fill-color: #174EA6;\n",
              "      --disabled-fill-color: #AAA;\n",
              "      --disabled-bg-color: #DDD;\n",
              "  }\n",
              "\n",
              "  [theme=dark] .colab-df-quickchart {\n",
              "      --bg-color: #3B4455;\n",
              "      --fill-color: #D2E3FC;\n",
              "      --hover-bg-color: #434B5C;\n",
              "      --hover-fill-color: #FFFFFF;\n",
              "      --disabled-bg-color: #3B4455;\n",
              "      --disabled-fill-color: #666;\n",
              "  }\n",
              "\n",
              "  .colab-df-quickchart {\n",
              "    background-color: var(--bg-color);\n",
              "    border: none;\n",
              "    border-radius: 50%;\n",
              "    cursor: pointer;\n",
              "    display: none;\n",
              "    fill: var(--fill-color);\n",
              "    height: 32px;\n",
              "    padding: 0;\n",
              "    width: 32px;\n",
              "  }\n",
              "\n",
              "  .colab-df-quickchart:hover {\n",
              "    background-color: var(--hover-bg-color);\n",
              "    box-shadow: 0 1px 2px rgba(60, 64, 67, 0.3), 0 1px 3px 1px rgba(60, 64, 67, 0.15);\n",
              "    fill: var(--button-hover-fill-color);\n",
              "  }\n",
              "\n",
              "  .colab-df-quickchart-complete:disabled,\n",
              "  .colab-df-quickchart-complete:disabled:hover {\n",
              "    background-color: var(--disabled-bg-color);\n",
              "    fill: var(--disabled-fill-color);\n",
              "    box-shadow: none;\n",
              "  }\n",
              "\n",
              "  .colab-df-spinner {\n",
              "    border: 2px solid var(--fill-color);\n",
              "    border-color: transparent;\n",
              "    border-bottom-color: var(--fill-color);\n",
              "    animation:\n",
              "      spin 1s steps(1) infinite;\n",
              "  }\n",
              "\n",
              "  @keyframes spin {\n",
              "    0% {\n",
              "      border-color: transparent;\n",
              "      border-bottom-color: var(--fill-color);\n",
              "      border-left-color: var(--fill-color);\n",
              "    }\n",
              "    20% {\n",
              "      border-color: transparent;\n",
              "      border-left-color: var(--fill-color);\n",
              "      border-top-color: var(--fill-color);\n",
              "    }\n",
              "    30% {\n",
              "      border-color: transparent;\n",
              "      border-left-color: var(--fill-color);\n",
              "      border-top-color: var(--fill-color);\n",
              "      border-right-color: var(--fill-color);\n",
              "    }\n",
              "    40% {\n",
              "      border-color: transparent;\n",
              "      border-right-color: var(--fill-color);\n",
              "      border-top-color: var(--fill-color);\n",
              "    }\n",
              "    60% {\n",
              "      border-color: transparent;\n",
              "      border-right-color: var(--fill-color);\n",
              "    }\n",
              "    80% {\n",
              "      border-color: transparent;\n",
              "      border-right-color: var(--fill-color);\n",
              "      border-bottom-color: var(--fill-color);\n",
              "    }\n",
              "    90% {\n",
              "      border-color: transparent;\n",
              "      border-bottom-color: var(--fill-color);\n",
              "    }\n",
              "  }\n",
              "</style>\n",
              "\n",
              "  <script>\n",
              "    async function quickchart(key) {\n",
              "      const quickchartButtonEl =\n",
              "        document.querySelector('#' + key + ' button');\n",
              "      quickchartButtonEl.disabled = true;  // To prevent multiple clicks.\n",
              "      quickchartButtonEl.classList.add('colab-df-spinner');\n",
              "      try {\n",
              "        const charts = await google.colab.kernel.invokeFunction(\n",
              "            'suggestCharts', [key], {});\n",
              "      } catch (error) {\n",
              "        console.error('Error during call to suggestCharts:', error);\n",
              "      }\n",
              "      quickchartButtonEl.classList.remove('colab-df-spinner');\n",
              "      quickchartButtonEl.classList.add('colab-df-quickchart-complete');\n",
              "    }\n",
              "    (() => {\n",
              "      let quickchartButtonEl =\n",
              "        document.querySelector('#df-ac1f9a90-6b1d-4f71-b810-d80a55f2d314 button');\n",
              "      quickchartButtonEl.style.display =\n",
              "        google.colab.kernel.accessAllowed ? 'block' : 'none';\n",
              "    })();\n",
              "  </script>\n",
              "</div>\n",
              "\n",
              "    </div>\n",
              "  </div>\n"
            ],
            "application/vnd.google.colaboratory.intrinsic+json": {
              "type": "dataframe"
            }
          },
          "metadata": {},
          "execution_count": 32
        }
      ]
    },
    {
      "cell_type": "markdown",
      "source": [
        "## EDA"
      ],
      "metadata": {
        "id": "7qpfyH2vsZRJ"
      }
    },
    {
      "cell_type": "code",
      "source": [
        "df_sample.info()"
      ],
      "metadata": {
        "colab": {
          "base_uri": "https://localhost:8080/"
        },
        "id": "ztB23uHKTBL3",
        "outputId": "6a0d2524-1263-415c-cf44-e0d92cabaa5c"
      },
      "execution_count": 11,
      "outputs": [
        {
          "output_type": "stream",
          "name": "stdout",
          "text": [
            "<class 'dask_expr.DataFrame'>\n",
            "Columns: 36 entries, Unnamed: 0 to IncidentGrade\n",
            "dtypes: int64(31), string(5)"
          ]
        }
      ]
    },
    {
      "cell_type": "code",
      "source": [
        "cate_cols = df_sample.select_dtypes(include=['string']).columns\n",
        "cate_cols"
      ],
      "metadata": {
        "colab": {
          "base_uri": "https://localhost:8080/"
        },
        "id": "fJbJNF8Z1GLo",
        "outputId": "66205f31-b6e9-42e3-9b93-612611b2384a"
      },
      "execution_count": 12,
      "outputs": [
        {
          "output_type": "execute_result",
          "data": {
            "text/plain": [
              "Index(['Timestamp', 'Category', 'EntityType', 'EvidenceRole', 'IncidentGrade'], dtype='object')"
            ]
          },
          "metadata": {},
          "execution_count": 12
        }
      ]
    },
    {
      "cell_type": "code",
      "source": [
        "cat_col_counts = df_sample['Category'].value_counts().compute()"
      ],
      "metadata": {
        "id": "rTF7xyB0Fijg"
      },
      "execution_count": 15,
      "outputs": []
    },
    {
      "cell_type": "code",
      "source": [
        "# fig, axes = plt.subplots(nrows=len(cate_cols), ncols=1, figsize=(8, len(cate_cols) * 4))\n",
        "\n",
        "fig, ax = plt.subplots(figsize=(8, 6))\n",
        "\n",
        "cat_col_counts.plot(kind='bar',title='Category')\n",
        "ax.set_ylabel('Count')\n",
        "\n",
        "plt.show()"
      ],
      "metadata": {
        "colab": {
          "base_uri": "https://localhost:8080/",
          "height": 699
        },
        "id": "r6mwpGpV1-_f",
        "outputId": "6c54d17b-cf5d-4f78-8c2d-8f350a3058b7"
      },
      "execution_count": 16,
      "outputs": [
        {
          "output_type": "display_data",
          "data": {
            "text/plain": [
              "<Figure size 800x600 with 1 Axes>"
            ],
            "image/png": "[encoded data removed]"
          },
          "metadata": {}
        }
      ]
    },
    {
      "cell_type": "code",
      "source": [
        "df_sample['Timestamp'].head(1)[0]"
      ],
      "metadata": {
        "colab": {
          "base_uri": "https://localhost:8080/",
          "height": 35
        },
        "id": "1dx2hb7gGsjq",
        "outputId": "b83c7bb3-5c34-4fad-f5d8-00d4940aba16"
      },
      "execution_count": 21,
      "outputs": [
        {
          "output_type": "execute_result",
          "data": {
            "text/plain": [
              "'2024-06-06T05:56:47.000Z'"
            ],
            "application/vnd.google.colaboratory.intrinsic+json": {
              "type": "string"
            }
          },
          "metadata": {},
          "execution_count": 21
        }
      ]
    },
    {
      "cell_type": "code",
      "source": [
        "df_sample['Timestamp'] = df_sample['Timestamp'].str.extract(r'(\\d{4}-\\d{2}-\\d{2})', expand=False)"
      ],
      "metadata": {
        "id": "R_FpXRtdT5rX"
      },
      "execution_count": 23,
      "outputs": []
    },
    {
      "cell_type": "code",
      "source": [
        "df_sample['Timestamp'] = dd.to_datetime(df_sample['Timestamp'], format='%Y-%m-%d')"
      ],
      "metadata": {
        "id": "xbKKO-uDUwip"
      },
      "execution_count": 25,
      "outputs": []
    },
    {
      "cell_type": "code",
      "source": [
        "df_sample.info()"
      ],
      "metadata": {
        "colab": {
          "base_uri": "https://localhost:8080/"
        },
        "id": "f5r_qmmfVp6C",
        "outputId": "fa79dc8c-1f53-44b3-d84a-bd766fa59afa"
      },
      "execution_count": 26,
      "outputs": [
        {
          "output_type": "stream",
          "name": "stdout",
          "text": [
            "<class 'dask_expr.DataFrame'>\n",
            "Columns: 36 entries, Unnamed: 0 to IncidentGrade\n",
            "dtypes: datetime64[ns](1), int64(31), string(4)"
          ]
        }
      ]
    },
    {
      "cell_type": "code",
      "source": [
        "EntityType_counts = df_sample['EntityType'].value_counts().compute()"
      ],
      "metadata": {
        "id": "ARr9PCg5V7ez"
      },
      "execution_count": 27,
      "outputs": []
    },
    {
      "cell_type": "code",
      "source": [
        "fig, ax = plt.subplots(figsize=(8, 6))\n",
        "\n",
        "EntityType_counts.plot(kind='bar',title='EntityType')\n",
        "ax.set_ylabel('Count')\n",
        "\n",
        "plt.show()"
      ],
      "metadata": {
        "colab": {
          "base_uri": "https://localhost:8080/",
          "height": 711
        },
        "id": "2D1EPEEAWZtg",
        "outputId": "dcf0d552-dcf0-4844-8815-b4227b259742"
      },
      "execution_count": 28,
      "outputs": [
        {
          "output_type": "display_data",
          "data": {
            "text/plain": [
              "<Figure size 800x600 with 1 Axes>"
            ],
            "image/png": "[encoded data removed]"
          },
          "metadata": {}
        }
      ]
    },
    {
      "cell_type": "code",
      "source": [
        "EvidenceRole_counts = df_sample['EvidenceRole'].value_counts().compute()"
      ],
      "metadata": {
        "id": "U-QCyqWmW9Rg"
      },
      "execution_count": 29,
      "outputs": []
    },
    {
      "cell_type": "code",
      "source": [
        "fig, ax = plt.subplots(figsize=(8, 6))\n",
        "\n",
        "EvidenceRole_counts.plot(kind='bar',title='EvidenceRole')\n",
        "ax.set_ylabel('Count')\n",
        "\n",
        "plt.show()"
      ],
      "metadata": {
        "colab": {
          "base_uri": "https://localhost:8080/",
          "height": 616
        },
        "id": "a41A_dSGXuBp",
        "outputId": "e77afc11-7ad1-4505-b46f-09ffd1e61b74"
      },
      "execution_count": 30,
      "outputs": [
        {
          "output_type": "display_data",
          "data": {
            "text/plain": [
              "<Figure size 800x600 with 1 Axes>"
            ],
            "image/png": "[encoded data removed]"
          },
          "metadata": {}
        }
      ]
    },
    {
      "cell_type": "code",
      "source": [
        "IncidentGradev_counts = df_sample['IncidentGrade'].value_counts().compute()"
      ],
      "metadata": {
        "id": "9ggJahTUYl7J"
      },
      "execution_count": 31,
      "outputs": []
    },
    {
      "cell_type": "code",
      "source": [
        "fig, ax = plt.subplots(figsize=(8, 6))\n",
        "\n",
        "IncidentGradev_counts.plot(kind='bar',title='IncidentGrade')\n",
        "ax.set_ylabel('Count')\n",
        "\n",
        "plt.show()"
      ],
      "metadata": {
        "colab": {
          "base_uri": "https://localhost:8080/",
          "height": 652
        },
        "id": "Qfj-V54FYvOl",
        "outputId": "b2f5bdbc-d334-4001-b65f-c9093ab78be2"
      },
      "execution_count": 32,
      "outputs": [
        {
          "output_type": "display_data",
          "data": {
            "text/plain": [
              "<Figure size 800x600 with 1 Axes>"
            ],
            "image/png": "[encoded data removed]"
          },
          "metadata": {}
        }
      ]
    },
    {
      "cell_type": "code",
      "source": [
        "cat_grouped = df_sample.groupby(['Category', 'IncidentGrade']).size().compute().values\n",
        "\n",
        "total_len = len(df_sample)\n",
        "print(total_len)"
      ],
      "metadata": {
        "colab": {
          "base_uri": "https://localhost:8080/"
        },
        "id": "1PYhy6lz5O8b",
        "outputId": "f024d856-bb09-49fd-8d8a-4ed9081d2158"
      },
      "execution_count": 46,
      "outputs": [
        {
          "output_type": "stream",
          "name": "stdout",
          "text": [
            "4732643\n"
          ]
        }
      ]
    },
    {
      "cell_type": "code",
      "source": [
        "from dask.array.stats import chisquare"
      ],
      "metadata": {
        "id": "Oq-Jxdl_7dZV"
      },
      "execution_count": 47,
      "outputs": []
    },
    {
      "cell_type": "code",
      "source": [
        "expected = [total_len / len(cat_grouped)] * len(cat_grouped)\n",
        "\n",
        "# perform chi-square test\n",
        "chi2_stat, p_value = chisquare(da.from_array(cat_grouped), f_exp=da.from_array(expected))\n",
        "\n",
        "print(f\"Chi-square statistic: {chi2_stat.compute():.6f}\")\n",
        "print(f\"P-value: {p_value.compute():.6f}\")"
      ],
      "metadata": {
        "colab": {
          "base_uri": "https://localhost:8080/"
        },
        "id": "FOeMK6E7ZErS",
        "outputId": "d97ad025-3c77-47e6-c9b7-33d7eb3507b4"
      },
      "execution_count": 49,
      "outputs": [
        {
          "output_type": "stream",
          "name": "stdout",
          "text": [
            "Chi-square statistic: 23977532.833118\n",
            "P-value: 0.000000\n"
          ]
        }
      ]
    },
    {
      "cell_type": "markdown",
      "source": [
        "## - so it is evident that the p-value is less than 0.05, which means there is a significant correlation between the two variables"
      ],
      "metadata": {
        "id": "3lytE1B--WPl"
      }
    },
    {
      "cell_type": "code",
      "source": [
        "entity_grouped = df_sample.groupby(['EntityType', 'IncidentGrade']).size().compute().values"
      ],
      "metadata": {
        "id": "0X5KNr5I-6UM"
      },
      "execution_count": 50,
      "outputs": []
    },
    {
      "cell_type": "code",
      "source": [
        "expected = [total_len / len(entity_grouped)] * len(entity_grouped)\n",
        "\n",
        "# perform chi-square test\n",
        "chi2_stat, p_value = chisquare(da.from_array(entity_grouped), f_exp=da.from_array(expected))\n",
        "\n",
        "print(f\"Chi-square statistic: {chi2_stat.compute():.6f}\")\n",
        "print(f\"P-value: {p_value.compute():.6f}\")"
      ],
      "metadata": {
        "colab": {
          "base_uri": "https://localhost:8080/"
        },
        "id": "c817P9M6Jyw_",
        "outputId": "2cc70ddb-6b55-4270-a9d1-3874d74a41a2"
      },
      "execution_count": 51,
      "outputs": [
        {
          "output_type": "stream",
          "name": "stdout",
          "text": [
            "Chi-square statistic: 14803971.864897\n",
            "P-value: 0.000000\n"
          ]
        }
      ]
    },
    {
      "cell_type": "markdown",
      "source": [
        "there is a significant correlation between the two variables\n",
        "\n"
      ],
      "metadata": {
        "id": "H9AYmPrFMnly"
      }
    },
    {
      "cell_type": "code",
      "source": [
        "Evidence_grouped = df_sample.groupby(['EvidenceRole', 'IncidentGrade']).size().compute().values"
      ],
      "metadata": {
        "id": "WXaDHORoM03c"
      },
      "execution_count": 52,
      "outputs": []
    },
    {
      "cell_type": "code",
      "source": [
        "expected = [total_len / len(Evidence_grouped)] * len(Evidence_grouped)\n",
        "\n",
        "# perform chi-square test\n",
        "chi2_stat, p_value = chisquare(da.from_array(Evidence_grouped), f_exp=da.from_array(expected))\n",
        "\n",
        "print(f\"Chi-square statistic: {chi2_stat.compute():.6f}\")\n",
        "print(f\"P-value: {p_value.compute():.6f}\")"
      ],
      "metadata": {
        "colab": {
          "base_uri": "https://localhost:8080/"
        },
        "id": "SxVxHYCHNPFG",
        "outputId": "149d4111-ad7c-427b-93ca-c3285b93ceac"
      },
      "execution_count": 53,
      "outputs": [
        {
          "output_type": "stream",
          "name": "stdout",
          "text": [
            "Chi-square statistic: 526271.262938\n",
            "P-value: 0.000000\n"
          ]
        }
      ]
    },
    {
      "cell_type": "markdown",
      "source": [
        "there is a significant correlation between the two variables"
      ],
      "metadata": {
        "id": "7BEMmAaXNdmu"
      }
    },
    {
      "cell_type": "code",
      "source": [
        "df_sample.select_dtypes(include=['int64']).columns"
      ],
      "metadata": {
        "colab": {
          "base_uri": "https://localhost:8080/"
        },
        "id": "hWDv6JapQ06c",
        "outputId": "05fd0c29-da4b-44b0-deac-c655e5a5394d"
      },
      "execution_count": 56,
      "outputs": [
        {
          "output_type": "execute_result",
          "data": {
            "text/plain": [
              "Index(['OrgId', 'IncidentId', 'AlertId', 'DetectorId', 'AlertTitle',\n",
              "       'DeviceId', 'Sha256', 'IpAddress', 'Url', 'AccountSid', 'AccountUpn',\n",
              "       'AccountObjectId', 'AccountName', 'DeviceName', 'NetworkMessageId',\n",
              "       'RegistryKey', 'RegistryValueName', 'RegistryValueData',\n",
              "       'ApplicationId', 'ApplicationName', 'OAuthApplicationId', 'FileName',\n",
              "       'FolderPath', 'ResourceIdName', 'OSFamily', 'OSVersion', 'CountryCode',\n",
              "       'State', 'City'],\n",
              "      dtype='object')"
            ]
          },
          "metadata": {},
          "execution_count": 56
        }
      ]
    },
    {
      "cell_type": "code",
      "source": [
        "df_sample = df_sample.drop(['Unnamed: 0'], axis=1)"
      ],
      "metadata": {
        "id": "hf09TItNQ6kY"
      },
      "execution_count": 55,
      "outputs": []
    },
    {
      "cell_type": "code",
      "source": [
        "rangev = [df_sample['State'].min().compute(), df_sample['State'].max().compute()]"
      ],
      "metadata": {
        "id": "sJdDHewMSWNX"
      },
      "execution_count": 59,
      "outputs": []
    },
    {
      "cell_type": "code",
      "source": [
        "# Compute the histogram\n",
        "hist, bin_edges = da.histogram(df_sample['State'].values, bins=10, range=rangev)\n",
        "\n",
        "# Compute the histogram values\n",
        "hist_values = hist.compute()\n",
        "\n",
        "# Plot the histogram\n",
        "plt.figure()\n",
        "plt.hist(bin_edges[:-1], bin_edges, weights=hist_values)\n",
        "plt.title(f'Histogram for State')\n",
        "plt.xlabel('State')\n",
        "plt.ylabel('Frequency')\n",
        "plt.show()"
      ],
      "metadata": {
        "colab": {
          "base_uri": "https://localhost:8080/",
          "height": 472
        },
        "id": "Xz5LaMWfROxg",
        "outputId": "e36ee1d6-5249-4276-e51f-917ec277696f"
      },
      "execution_count": 60,
      "outputs": [
        {
          "output_type": "display_data",
          "data": {
            "text/plain": [
              "<Figure size 640x480 with 1 Axes>"
            ],
            "image/png": "[encoded data removed]"
          },
          "metadata": {}
        }
      ]
    },
    {
      "cell_type": "code",
      "source": [
        "rangev = [df_sample['NetworkMessageId'].min().compute(), df_sample['NetworkMessageId'].max().compute()]"
      ],
      "metadata": {
        "id": "2BQ--IebTTD2"
      },
      "execution_count": 61,
      "outputs": []
    },
    {
      "cell_type": "code",
      "source": [
        "hist, bin_edges = da.histogram(df_sample['NetworkMessageId'].values, bins=10, range=rangev)\n",
        "\n",
        "# Compute the histogram values\n",
        "hist_values = hist.compute()\n",
        "\n",
        "plt.figure()\n",
        "plt.hist(bin_edges[:-1], bin_edges, weights=hist_values)\n",
        "plt.title(f'Histogram for NetworkMessageId')\n",
        "plt.xlabel('NetworkMessageId')\n",
        "plt.ylabel('Frequency')\n",
        "plt.show()"
      ],
      "metadata": {
        "colab": {
          "base_uri": "https://localhost:8080/",
          "height": 472
        },
        "id": "CP5T3AwMTc8v",
        "outputId": "c6f38303-fbc5-4914-b2dd-2ba3a6470330"
      },
      "execution_count": 62,
      "outputs": [
        {
          "output_type": "display_data",
          "data": {
            "text/plain": [
              "<Figure size 640x480 with 1 Axes>"
            ],
            "image/png": "[encoded data removed]"
          },
          "metadata": {}
        }
      ]
    },
    {
      "cell_type": "code",
      "source": [
        "rangev = [df_sample['CountryCode'].min().compute(), df_sample['CountryCode'].max().compute()]"
      ],
      "metadata": {
        "id": "x1lzyVlaT-rW"
      },
      "execution_count": 63,
      "outputs": []
    },
    {
      "cell_type": "code",
      "source": [
        "hist, bin_edges = da.histogram(df_sample['CountryCode'].values, bins=10, range=rangev)\n",
        "\n",
        "# Compute the histogram values\n",
        "hist_values = hist.compute()\n",
        "\n",
        "plt.figure()\n",
        "plt.hist(bin_edges[:-1], bin_edges, weights=hist_values)\n",
        "plt.title(f'Histogram for CountryCode')\n",
        "plt.xlabel('CountryCode')\n",
        "plt.ylabel('Frequency')\n",
        "plt.show()"
      ],
      "metadata": {
        "colab": {
          "base_uri": "https://localhost:8080/",
          "height": 472
        },
        "id": "Q81mp4fAUDPu",
        "outputId": "b3cf8471-6924-47be-c823-55d45e8f5713"
      },
      "execution_count": 64,
      "outputs": [
        {
          "output_type": "display_data",
          "data": {
            "text/plain": [
              "<Figure size 640x480 with 1 Axes>"
            ],
            "image/png": "[encoded data removed]"
          },
          "metadata": {}
        }
      ]
    },
    {
      "cell_type": "code",
      "source": [
        "rangev = [df_sample['AlertTitle'].min().compute(), df_sample['AlertTitle'].max().compute()]"
      ],
      "metadata": {
        "id": "6xpZo7DmXaH_"
      },
      "execution_count": 65,
      "outputs": []
    },
    {
      "cell_type": "code",
      "source": [
        "hist, bin_edges = da.histogram(df_sample['AlertTitle'].values, bins=10, range=rangev)\n",
        "\n",
        "# Compute the histogram values\n",
        "hist_values = hist.compute()\n",
        "\n",
        "plt.figure()\n",
        "plt.hist(bin_edges[:-1], bin_edges, weights=hist_values)\n",
        "plt.title(f'Histogram for AlertTitle')\n",
        "plt.xlabel('AlertTitle')\n",
        "plt.ylabel('Frequency')\n",
        "plt.show()"
      ],
      "metadata": {
        "colab": {
          "base_uri": "https://localhost:8080/",
          "height": 472
        },
        "id": "yi9II9GXXfJH",
        "outputId": "ddc53346-2e77-43da-d2b9-f0eaf609e8c8"
      },
      "execution_count": 66,
      "outputs": [
        {
          "output_type": "display_data",
          "data": {
            "text/plain": [
              "<Figure size 640x480 with 1 Axes>"
            ],
            "image/png": "[encoded data removed]"
          },
          "metadata": {}
        }
      ]
    },
    {
      "cell_type": "code",
      "source": [
        "# for column in df_sample.select_dtypes(include=['int64']).columns:\n",
        "#     # Compute the histogram\n",
        "#     hist, bin_edges = da.histogram(df_sample[column].values, bins=10)\n",
        "\n",
        "#     # Compute the histogram values\n",
        "#     hist_values = hist.compute()\n",
        "\n",
        "#     # Plot the histogram\n",
        "#     plt.figure()\n",
        "#     plt.hist(bin_edges[:-1], bin_edges, weights=hist_values)\n",
        "#     plt.title(f'Histogram for {column}')\n",
        "#     plt.xlabel(column)\n",
        "#     plt.ylabel('Frequency')\n",
        "#     plt.show()\n",
        "\n"
      ],
      "metadata": {
        "id": "f6LFv29SNfHr"
      },
      "execution_count": null,
      "outputs": []
    }
  ]
}