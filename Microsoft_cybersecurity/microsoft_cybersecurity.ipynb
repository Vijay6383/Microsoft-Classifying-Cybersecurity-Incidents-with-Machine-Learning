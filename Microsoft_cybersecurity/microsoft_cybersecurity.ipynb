{
  "cells": [
    {
      "cell_type": "code",
      "execution_count": 1,
      "metadata": {
        "colab": {
          "base_uri": "https://localhost:8080/"
        },
        "id": "EW4OtbZ_1HBB",
        "outputId": "26f935fa-71fc-453e-9d51-34054d0b9f68"
      },
      "outputs": [
        {
          "output_type": "stream",
          "name": "stdout",
          "text": [
            "Requirement already satisfied: dask[dataframe] in /usr/local/lib/python3.10/dist-packages (2024.7.1)\n",
            "Requirement already satisfied: click>=8.1 in /usr/local/lib/python3.10/dist-packages (from dask[dataframe]) (8.1.7)\n",
            "Requirement already satisfied: cloudpickle>=1.5.0 in /usr/local/lib/python3.10/dist-packages (from dask[dataframe]) (2.2.1)\n",
            "Requirement already satisfied: fsspec>=2021.09.0 in /usr/local/lib/python3.10/dist-packages (from dask[dataframe]) (2024.6.1)\n",
            "Requirement already satisfied: packaging>=20.0 in /usr/local/lib/python3.10/dist-packages (from dask[dataframe]) (24.1)\n",
            "Requirement already satisfied: partd>=1.4.0 in /usr/local/lib/python3.10/dist-packages (from dask[dataframe]) (1.4.2)\n",
            "Requirement already satisfied: pyyaml>=5.3.1 in /usr/local/lib/python3.10/dist-packages (from dask[dataframe]) (6.0.2)\n",
            "Requirement already satisfied: toolz>=0.10.0 in /usr/local/lib/python3.10/dist-packages (from dask[dataframe]) (0.12.1)\n",
            "Requirement already satisfied: importlib-metadata>=4.13.0 in /usr/local/lib/python3.10/dist-packages (from dask[dataframe]) (8.4.0)\n",
            "Requirement already satisfied: pandas>=2.0 in /usr/local/lib/python3.10/dist-packages (from dask[dataframe]) (2.1.4)\n",
            "Requirement already satisfied: dask-expr<1.2,>=1.1 in /usr/local/lib/python3.10/dist-packages (from dask[dataframe]) (1.1.9)\n",
            "Requirement already satisfied: pyarrow>=7.0.0 in /usr/local/lib/python3.10/dist-packages (from dask-expr<1.2,>=1.1->dask[dataframe]) (14.0.2)\n",
            "Requirement already satisfied: zipp>=0.5 in /usr/local/lib/python3.10/dist-packages (from importlib-metadata>=4.13.0->dask[dataframe]) (3.20.1)\n",
            "Requirement already satisfied: numpy<2,>=1.22.4 in /usr/local/lib/python3.10/dist-packages (from pandas>=2.0->dask[dataframe]) (1.26.4)\n",
            "Requirement already satisfied: python-dateutil>=2.8.2 in /usr/local/lib/python3.10/dist-packages (from pandas>=2.0->dask[dataframe]) (2.8.2)\n",
            "Requirement already satisfied: pytz>=2020.1 in /usr/local/lib/python3.10/dist-packages (from pandas>=2.0->dask[dataframe]) (2024.1)\n",
            "Requirement already satisfied: tzdata>=2022.1 in /usr/local/lib/python3.10/dist-packages (from pandas>=2.0->dask[dataframe]) (2024.1)\n",
            "Requirement already satisfied: locket in /usr/local/lib/python3.10/dist-packages (from partd>=1.4.0->dask[dataframe]) (1.0.0)\n",
            "Requirement already satisfied: six>=1.5 in /usr/local/lib/python3.10/dist-packages (from python-dateutil>=2.8.2->pandas>=2.0->dask[dataframe]) (1.16.0)\n"
          ]
        }
      ],
      "source": [
        "pip install dask[dataframe]"
      ]
    },
    {
      "cell_type": "code",
      "execution_count": 2,
      "metadata": {
        "colab": {
          "base_uri": "https://localhost:8080/"
        },
        "id": "rycb6vF3jv5Z",
        "outputId": "7708fc6c-b0b4-4c34-802b-ba2c448122ed"
      },
      "outputs": [
        {
          "output_type": "stream",
          "name": "stdout",
          "text": [
            "Requirement already satisfied: dask-ml in /usr/local/lib/python3.10/dist-packages (2024.4.4)\n",
            "Requirement already satisfied: dask-glm>=0.2.0 in /usr/local/lib/python3.10/dist-packages (from dask-ml) (0.3.2)\n",
            "Requirement already satisfied: dask>=2.4.0 in /usr/local/lib/python3.10/dist-packages (from dask[array,dataframe]>=2.4.0->dask-ml) (2024.7.1)\n",
            "Requirement already satisfied: distributed>=2.4.0 in /usr/local/lib/python3.10/dist-packages (from dask-ml) (2024.7.1)\n",
            "Requirement already satisfied: multipledispatch>=0.4.9 in /usr/local/lib/python3.10/dist-packages (from dask-ml) (1.0.0)\n",
            "Requirement already satisfied: numba>=0.51.0 in /usr/local/lib/python3.10/dist-packages (from dask-ml) (0.60.0)\n",
            "Requirement already satisfied: numpy>=1.20.0 in /usr/local/lib/python3.10/dist-packages (from dask-ml) (1.26.4)\n",
            "Requirement already satisfied: packaging in /usr/local/lib/python3.10/dist-packages (from dask-ml) (24.1)\n",
            "Requirement already satisfied: pandas>=0.24.2 in /usr/local/lib/python3.10/dist-packages (from dask-ml) (2.1.4)\n",
            "Requirement already satisfied: scikit-learn>=1.2.0 in /usr/local/lib/python3.10/dist-packages (from dask-ml) (1.3.2)\n",
            "Requirement already satisfied: scipy in /usr/local/lib/python3.10/dist-packages (from dask-ml) (1.13.1)\n",
            "Requirement already satisfied: click>=8.1 in /usr/local/lib/python3.10/dist-packages (from dask>=2.4.0->dask[array,dataframe]>=2.4.0->dask-ml) (8.1.7)\n",
            "Requirement already satisfied: cloudpickle>=1.5.0 in /usr/local/lib/python3.10/dist-packages (from dask>=2.4.0->dask[array,dataframe]>=2.4.0->dask-ml) (2.2.1)\n",
            "Requirement already satisfied: fsspec>=2021.09.0 in /usr/local/lib/python3.10/dist-packages (from dask>=2.4.0->dask[array,dataframe]>=2.4.0->dask-ml) (2024.6.1)\n",
            "Requirement already satisfied: partd>=1.4.0 in /usr/local/lib/python3.10/dist-packages (from dask>=2.4.0->dask[array,dataframe]>=2.4.0->dask-ml) (1.4.2)\n",
            "Requirement already satisfied: pyyaml>=5.3.1 in /usr/local/lib/python3.10/dist-packages (from dask>=2.4.0->dask[array,dataframe]>=2.4.0->dask-ml) (6.0.2)\n",
            "Requirement already satisfied: toolz>=0.10.0 in /usr/local/lib/python3.10/dist-packages (from dask>=2.4.0->dask[array,dataframe]>=2.4.0->dask-ml) (0.12.1)\n",
            "Requirement already satisfied: importlib-metadata>=4.13.0 in /usr/local/lib/python3.10/dist-packages (from dask>=2.4.0->dask[array,dataframe]>=2.4.0->dask-ml) (8.4.0)\n",
            "Requirement already satisfied: sparse>=0.7.0 in /usr/local/lib/python3.10/dist-packages (from dask-glm>=0.2.0->dask-ml) (0.15.4)\n",
            "Requirement already satisfied: dask-expr<1.2,>=1.1 in /usr/local/lib/python3.10/dist-packages (from dask[array,dataframe]>=2.4.0->dask-ml) (1.1.9)\n",
            "Requirement already satisfied: jinja2>=2.10.3 in /usr/local/lib/python3.10/dist-packages (from distributed>=2.4.0->dask-ml) (3.1.4)\n",
            "Requirement already satisfied: locket>=1.0.0 in /usr/local/lib/python3.10/dist-packages (from distributed>=2.4.0->dask-ml) (1.0.0)\n",
            "Requirement already satisfied: msgpack>=1.0.0 in /usr/local/lib/python3.10/dist-packages (from distributed>=2.4.0->dask-ml) (1.0.8)\n",
            "Requirement already satisfied: psutil>=5.7.2 in /usr/local/lib/python3.10/dist-packages (from distributed>=2.4.0->dask-ml) (5.9.5)\n",
            "Requirement already satisfied: sortedcontainers>=2.0.5 in /usr/local/lib/python3.10/dist-packages (from distributed>=2.4.0->dask-ml) (2.4.0)\n",
            "Requirement already satisfied: tblib>=1.6.0 in /usr/local/lib/python3.10/dist-packages (from distributed>=2.4.0->dask-ml) (3.0.0)\n",
            "Requirement already satisfied: tornado>=6.0.4 in /usr/local/lib/python3.10/dist-packages (from distributed>=2.4.0->dask-ml) (6.3.3)\n",
            "Requirement already satisfied: urllib3>=1.24.3 in /usr/local/lib/python3.10/dist-packages (from distributed>=2.4.0->dask-ml) (2.0.7)\n",
            "Requirement already satisfied: zict>=3.0.0 in /usr/local/lib/python3.10/dist-packages (from distributed>=2.4.0->dask-ml) (3.0.0)\n",
            "Requirement already satisfied: llvmlite<0.44,>=0.43.0dev0 in /usr/local/lib/python3.10/dist-packages (from numba>=0.51.0->dask-ml) (0.43.0)\n",
            "Requirement already satisfied: python-dateutil>=2.8.2 in /usr/local/lib/python3.10/dist-packages (from pandas>=0.24.2->dask-ml) (2.8.2)\n",
            "Requirement already satisfied: pytz>=2020.1 in /usr/local/lib/python3.10/dist-packages (from pandas>=0.24.2->dask-ml) (2024.1)\n",
            "Requirement already satisfied: tzdata>=2022.1 in /usr/local/lib/python3.10/dist-packages (from pandas>=0.24.2->dask-ml) (2024.1)\n",
            "Requirement already satisfied: joblib>=1.1.1 in /usr/local/lib/python3.10/dist-packages (from scikit-learn>=1.2.0->dask-ml) (1.4.2)\n",
            "Requirement already satisfied: threadpoolctl>=2.0.0 in /usr/local/lib/python3.10/dist-packages (from scikit-learn>=1.2.0->dask-ml) (3.5.0)\n",
            "Requirement already satisfied: pyarrow>=7.0.0 in /usr/local/lib/python3.10/dist-packages (from dask-expr<1.2,>=1.1->dask[array,dataframe]>=2.4.0->dask-ml) (14.0.2)\n",
            "Requirement already satisfied: zipp>=0.5 in /usr/local/lib/python3.10/dist-packages (from importlib-metadata>=4.13.0->dask>=2.4.0->dask[array,dataframe]>=2.4.0->dask-ml) (3.20.1)\n",
            "Requirement already satisfied: MarkupSafe>=2.0 in /usr/local/lib/python3.10/dist-packages (from jinja2>=2.10.3->distributed>=2.4.0->dask-ml) (2.1.5)\n",
            "Requirement already satisfied: six>=1.5 in /usr/local/lib/python3.10/dist-packages (from python-dateutil>=2.8.2->pandas>=0.24.2->dask-ml) (1.16.0)\n"
          ]
        }
      ],
      "source": [
        "pip install dask-ml"
      ]
    },
    {
      "cell_type": "code",
      "execution_count": 3,
      "metadata": {
        "id": "4mJ1z-phGTLo"
      },
      "outputs": [],
      "source": [
        "import dask.dataframe as dd\n",
        "import dask.array as da\n",
        "import pandas as pd\n",
        "import numpy as np\n",
        "import matplotlib.pyplot as plt\n",
        "import seaborn as sns\n",
        "import warnings\n",
        "warnings.filterwarnings('ignore')\n",
        "\n",
        "from scipy.stats import chi2_contingency\n",
        "from dask_ml.model_selection import train_test_split\n",
        "\n"
      ]
    },
    {
      "cell_type": "code",
      "execution_count": 4,
      "metadata": {
        "id": "5bpbS_DXVW1F"
      },
      "outputs": [],
      "source": [
        "from sklearn.model_selection import cross_val_score, StratifiedKFold\n",
        "from sklearn.tree import DecisionTreeClassifier\n",
        "from sklearn.ensemble import RandomForestClassifier\n",
        "from xgboost import XGBClassifier\n",
        "from dask_ml.wrappers import ParallelPostFit\n",
        "from dask_ml.model_selection import GridSearchCV, RandomizedSearchCV\n",
        "from sklearn.metrics import accuracy_score, classification_report, confusion_matrix"
      ]
    },
    {
      "cell_type": "code",
      "execution_count": 5,
      "metadata": {
        "id": "TY4WRxfwg2vf"
      },
      "outputs": [],
      "source": [
        "from dask_ml.linear_model import LogisticRegression"
      ]
    },
    {
      "cell_type": "code",
      "execution_count": 6,
      "metadata": {
        "id": "ZXMwILvwjjAR"
      },
      "outputs": [],
      "source": [
        "from dask_ml.preprocessing import DummyEncoder\n"
      ]
    },
    {
      "cell_type": "code",
      "execution_count": 7,
      "metadata": {
        "colab": {
          "base_uri": "https://localhost:8080/"
        },
        "id": "z2jkG729SHn0",
        "outputId": "5610a228-d8e3-4a5a-9ff8-5d5673056d7a"
      },
      "outputs": [
        {
          "output_type": "stream",
          "name": "stdout",
          "text": [
            "Drive already mounted at /content/drive; to attempt to forcibly remount, call drive.mount(\"/content/drive\", force_remount=True).\n"
          ]
        }
      ],
      "source": [
        "from google.colab import drive\n",
        "drive.mount('/content/drive')"
      ]
    },
    {
      "cell_type": "code",
      "execution_count": 22,
      "metadata": {
        "id": "44TJtncECFgg"
      },
      "outputs": [],
      "source": [
        "\n",
        "# Read the CSV files using Dask and specify dtypes\n",
        "train_df = dd.read_csv('/content/drive/MyDrive/microsoft_projData/GUIDE_Train.csv', dtype={'ActionGranular': 'object',\n",
        "       'ActionGrouped': 'object',\n",
        "       'AntispamDirection': 'object',\n",
        "       'ResourceType': 'object',\n",
        "       'Roles': 'object',\n",
        "       'ThreatFamily': 'object'})\n",
        "test_df = dd.read_csv('/content/drive/MyDrive/microsoft_projData/GUIDE_Test.csv', dtype={'ActionGranular': 'object',\n",
        "       'ActionGrouped': 'object',\n",
        "       'AntispamDirection': 'object',\n",
        "       'ResourceType': 'object',\n",
        "       'Roles': 'object',\n",
        "       'ThreatFamily': 'object'})\n",
        "\n"
      ]
    },
    {
      "cell_type": "code",
      "source": [
        "len(train_df), len(test_df)"
      ],
      "metadata": {
        "colab": {
          "base_uri": "https://localhost:8080/"
        },
        "id": "oYFk4hxVopoe",
        "outputId": "b9274b87-a77c-4ab2-be6d-130bbba9d93a"
      },
      "execution_count": 23,
      "outputs": [
        {
          "output_type": "execute_result",
          "data": {
            "text/plain": [
              "(9516837, 4147992)"
            ]
          },
          "metadata": {},
          "execution_count": 23
        }
      ]
    },
    {
      "cell_type": "code",
      "source": [
        "frac1 = 50000 / len(train_df)"
      ],
      "metadata": {
        "colab": {
          "base_uri": "https://localhost:8080/"
        },
        "id": "a5AfAzjgl0W8",
        "outputId": "d0a9bb8c-faf7-4315-e472-b7585cfd1ad8"
      },
      "execution_count": 9,
      "outputs": [
        {
          "output_type": "execute_result",
          "data": {
            "text/plain": [
              "0.005253846419771611"
            ]
          },
          "metadata": {},
          "execution_count": 9
        }
      ]
    },
    {
      "cell_type": "code",
      "source": [
        "frac2 = 8000 / len(test_df)\n",
        "frac2"
      ],
      "metadata": {
        "colab": {
          "base_uri": "https://localhost:8080/"
        },
        "id": "Y86Nne5PnF59",
        "outputId": "1de39a1a-34a9-4281-9a1f-6bcca5ef1ffe"
      },
      "execution_count": 24,
      "outputs": [
        {
          "output_type": "execute_result",
          "data": {
            "text/plain": [
              "0.0019286440282430632"
            ]
          },
          "metadata": {},
          "execution_count": 24
        }
      ]
    },
    {
      "cell_type": "code",
      "execution_count": 25,
      "metadata": {
        "id": "kj6CWsfGoGNW"
      },
      "outputs": [],
      "source": [
        "train_df = train_df.sample(frac=0.005, random_state=42)\n",
        "test_df = test_df.sample(frac=0.002, random_state=42)"
      ]
    },
    {
      "cell_type": "code",
      "execution_count": 26,
      "metadata": {
        "colab": {
          "base_uri": "https://localhost:8080/"
        },
        "id": "m75Gq4NLO_Ws",
        "outputId": "1e65f953-f994-4c44-9b4d-8531a51d7618"
      },
      "outputs": [
        {
          "output_type": "execute_result",
          "data": {
            "text/plain": [
              "(47582, 45)"
            ]
          },
          "metadata": {},
          "execution_count": 26
        }
      ],
      "source": [
        "\n",
        "train_df.shape[0].compute(), train_df.shape[1]"
      ]
    },
    {
      "cell_type": "code",
      "execution_count": 27,
      "metadata": {
        "colab": {
          "base_uri": "https://localhost:8080/"
        },
        "id": "yxNdlM6ISyQw",
        "outputId": "210645ca-3cfc-45e8-f04b-e5cfbcd2dfb1"
      },
      "outputs": [
        {
          "output_type": "execute_result",
          "data": {
            "text/plain": [
              "(8297, 46)"
            ]
          },
          "metadata": {},
          "execution_count": 27
        }
      ],
      "source": [
        "test_df.shape[0].compute(), test_df.shape[1]"
      ]
    },
    {
      "cell_type": "code",
      "execution_count": 28,
      "metadata": {
        "colab": {
          "base_uri": "https://localhost:8080/"
        },
        "id": "65ylXdSVTGy5",
        "outputId": "1916f67a-b70f-4550-e537-7883efe0c672"
      },
      "outputs": [
        {
          "output_type": "execute_result",
          "data": {
            "text/plain": [
              "Index(['Id', 'OrgId', 'IncidentId', 'AlertId', 'Timestamp', 'DetectorId',\n",
              "       'AlertTitle', 'Category', 'MitreTechniques', 'IncidentGrade',\n",
              "       'ActionGrouped', 'ActionGranular', 'EntityType', 'EvidenceRole',\n",
              "       'DeviceId', 'Sha256', 'IpAddress', 'Url', 'AccountSid', 'AccountUpn',\n",
              "       'AccountObjectId', 'AccountName', 'DeviceName', 'NetworkMessageId',\n",
              "       'EmailClusterId', 'RegistryKey', 'RegistryValueName',\n",
              "       'RegistryValueData', 'ApplicationId', 'ApplicationName',\n",
              "       'OAuthApplicationId', 'ThreatFamily', 'FileName', 'FolderPath',\n",
              "       'ResourceIdName', 'ResourceType', 'Roles', 'OSFamily', 'OSVersion',\n",
              "       'AntispamDirection', 'SuspicionLevel', 'LastVerdict', 'CountryCode',\n",
              "       'State', 'City'],\n",
              "      dtype='object')"
            ]
          },
          "metadata": {},
          "execution_count": 28
        }
      ],
      "source": [
        "train_df.columns"
      ]
    },
    {
      "cell_type": "code",
      "execution_count": 29,
      "metadata": {
        "colab": {
          "base_uri": "https://localhost:8080/"
        },
        "id": "gBlKvNG9agpV",
        "outputId": "8bb98212-df71-4f38-debf-48e7fdf8da2c"
      },
      "outputs": [
        {
          "output_type": "execute_result",
          "data": {
            "text/plain": [
              "Index(['Id', 'OrgId', 'IncidentId', 'AlertId', 'Timestamp', 'DetectorId',\n",
              "       'AlertTitle', 'Category', 'MitreTechniques', 'IncidentGrade',\n",
              "       'ActionGrouped', 'ActionGranular', 'EntityType', 'EvidenceRole',\n",
              "       'DeviceId', 'Sha256', 'IpAddress', 'Url', 'AccountSid', 'AccountUpn',\n",
              "       'AccountObjectId', 'AccountName', 'DeviceName', 'NetworkMessageId',\n",
              "       'EmailClusterId', 'RegistryKey', 'RegistryValueName',\n",
              "       'RegistryValueData', 'ApplicationId', 'ApplicationName',\n",
              "       'OAuthApplicationId', 'ThreatFamily', 'FileName', 'FolderPath',\n",
              "       'ResourceIdName', 'ResourceType', 'Roles', 'OSFamily', 'OSVersion',\n",
              "       'AntispamDirection', 'SuspicionLevel', 'LastVerdict', 'CountryCode',\n",
              "       'State', 'City', 'Usage'],\n",
              "      dtype='object')"
            ]
          },
          "metadata": {},
          "execution_count": 29
        }
      ],
      "source": [
        "test_df.columns"
      ]
    },
    {
      "cell_type": "code",
      "execution_count": 30,
      "metadata": {
        "colab": {
          "base_uri": "https://localhost:8080/",
          "height": 241
        },
        "id": "TDThW3PhPP11",
        "outputId": "9890a91c-e282-4491-f0db-e266e3c42251"
      },
      "outputs": [
        {
          "output_type": "execute_result",
          "data": {
            "text/plain": [
              "244231     Public\n",
              "57535      Public\n",
              "43951      Public\n",
              "158655     Public\n",
              "63950     Private\n",
              "Name: Usage, dtype: object"
            ],
            "text/html": [
              "<div>\n",
              "<style scoped>\n",
              "    .dataframe tbody tr th:only-of-type {\n",
              "        vertical-align: middle;\n",
              "    }\n",
              "\n",
              "    .dataframe tbody tr th {\n",
              "        vertical-align: top;\n",
              "    }\n",
              "\n",
              "    .dataframe thead th {\n",
              "        text-align: right;\n",
              "    }\n",
              "</style>\n",
              "<table border=\"1\" class=\"dataframe\">\n",
              "  <thead>\n",
              "    <tr style=\"text-align: right;\">\n",
              "      <th></th>\n",
              "      <th>Usage</th>\n",
              "    </tr>\n",
              "  </thead>\n",
              "  <tbody>\n",
              "    <tr>\n",
              "      <th>244231</th>\n",
              "      <td>Public</td>\n",
              "    </tr>\n",
              "    <tr>\n",
              "      <th>57535</th>\n",
              "      <td>Public</td>\n",
              "    </tr>\n",
              "    <tr>\n",
              "      <th>43951</th>\n",
              "      <td>Public</td>\n",
              "    </tr>\n",
              "    <tr>\n",
              "      <th>158655</th>\n",
              "      <td>Public</td>\n",
              "    </tr>\n",
              "    <tr>\n",
              "      <th>63950</th>\n",
              "      <td>Private</td>\n",
              "    </tr>\n",
              "  </tbody>\n",
              "</table>\n",
              "</div><br><label><b>dtype:</b> object</label>"
            ]
          },
          "metadata": {},
          "execution_count": 30
        }
      ],
      "source": [
        "test_df['Usage'].head()"
      ]
    },
    {
      "cell_type": "code",
      "execution_count": 31,
      "metadata": {
        "id": "VIzJmZwm3sBV"
      },
      "outputs": [],
      "source": [
        "test_df = test_df.drop(['Usage'], axis=1)"
      ]
    },
    {
      "cell_type": "code",
      "execution_count": 32,
      "metadata": {
        "colab": {
          "base_uri": "https://localhost:8080/",
          "height": 1000
        },
        "id": "wHMlSQGGUwnC",
        "outputId": "ca057c14-e651-4d85-8dfc-8c5e1bce5d33"
      },
      "outputs": [
        {
          "output_type": "execute_result",
          "data": {
            "text/plain": [
              "Id                        0\n",
              "OrgId                     0\n",
              "IncidentId                0\n",
              "AlertId                   0\n",
              "Timestamp                 0\n",
              "DetectorId                0\n",
              "AlertTitle                0\n",
              "Category                  0\n",
              "MitreTechniques       27235\n",
              "IncidentGrade           230\n",
              "ActionGrouped         47328\n",
              "ActionGranular        47328\n",
              "EntityType                0\n",
              "EvidenceRole              0\n",
              "DeviceId                  0\n",
              "Sha256                    0\n",
              "IpAddress                 0\n",
              "Url                       0\n",
              "AccountSid                0\n",
              "AccountUpn                0\n",
              "AccountObjectId           0\n",
              "AccountName               0\n",
              "DeviceName                0\n",
              "NetworkMessageId          0\n",
              "EmailClusterId        47101\n",
              "RegistryKey               0\n",
              "RegistryValueName         0\n",
              "RegistryValueData         0\n",
              "ApplicationId             0\n",
              "ApplicationName           0\n",
              "OAuthApplicationId        0\n",
              "ThreatFamily          47193\n",
              "FileName                  0\n",
              "FolderPath                0\n",
              "ResourceIdName            0\n",
              "ResourceType          47544\n",
              "Roles                 46541\n",
              "OSFamily                  0\n",
              "OSVersion                 0\n",
              "AntispamDirection     46698\n",
              "SuspicionLevel        40436\n",
              "LastVerdict           36498\n",
              "CountryCode               0\n",
              "State                     0\n",
              "City                      0\n",
              "dtype: int64"
            ],
            "text/html": [
              "<div>\n",
              "<style scoped>\n",
              "    .dataframe tbody tr th:only-of-type {\n",
              "        vertical-align: middle;\n",
              "    }\n",
              "\n",
              "    .dataframe tbody tr th {\n",
              "        vertical-align: top;\n",
              "    }\n",
              "\n",
              "    .dataframe thead th {\n",
              "        text-align: right;\n",
              "    }\n",
              "</style>\n",
              "<table border=\"1\" class=\"dataframe\">\n",
              "  <thead>\n",
              "    <tr style=\"text-align: right;\">\n",
              "      <th></th>\n",
              "      <th>0</th>\n",
              "    </tr>\n",
              "  </thead>\n",
              "  <tbody>\n",
              "    <tr>\n",
              "      <th>Id</th>\n",
              "      <td>0</td>\n",
              "    </tr>\n",
              "    <tr>\n",
              "      <th>OrgId</th>\n",
              "      <td>0</td>\n",
              "    </tr>\n",
              "    <tr>\n",
              "      <th>IncidentId</th>\n",
              "      <td>0</td>\n",
              "    </tr>\n",
              "    <tr>\n",
              "      <th>AlertId</th>\n",
              "      <td>0</td>\n",
              "    </tr>\n",
              "    <tr>\n",
              "      <th>Timestamp</th>\n",
              "      <td>0</td>\n",
              "    </tr>\n",
              "    <tr>\n",
              "      <th>DetectorId</th>\n",
              "      <td>0</td>\n",
              "    </tr>\n",
              "    <tr>\n",
              "      <th>AlertTitle</th>\n",
              "      <td>0</td>\n",
              "    </tr>\n",
              "    <tr>\n",
              "      <th>Category</th>\n",
              "      <td>0</td>\n",
              "    </tr>\n",
              "    <tr>\n",
              "      <th>MitreTechniques</th>\n",
              "      <td>27235</td>\n",
              "    </tr>\n",
              "    <tr>\n",
              "      <th>IncidentGrade</th>\n",
              "      <td>230</td>\n",
              "    </tr>\n",
              "    <tr>\n",
              "      <th>ActionGrouped</th>\n",
              "      <td>47328</td>\n",
              "    </tr>\n",
              "    <tr>\n",
              "      <th>ActionGranular</th>\n",
              "      <td>47328</td>\n",
              "    </tr>\n",
              "    <tr>\n",
              "      <th>EntityType</th>\n",
              "      <td>0</td>\n",
              "    </tr>\n",
              "    <tr>\n",
              "      <th>EvidenceRole</th>\n",
              "      <td>0</td>\n",
              "    </tr>\n",
              "    <tr>\n",
              "      <th>DeviceId</th>\n",
              "      <td>0</td>\n",
              "    </tr>\n",
              "    <tr>\n",
              "      <th>Sha256</th>\n",
              "      <td>0</td>\n",
              "    </tr>\n",
              "    <tr>\n",
              "      <th>IpAddress</th>\n",
              "      <td>0</td>\n",
              "    </tr>\n",
              "    <tr>\n",
              "      <th>Url</th>\n",
              "      <td>0</td>\n",
              "    </tr>\n",
              "    <tr>\n",
              "      <th>AccountSid</th>\n",
              "      <td>0</td>\n",
              "    </tr>\n",
              "    <tr>\n",
              "      <th>AccountUpn</th>\n",
              "      <td>0</td>\n",
              "    </tr>\n",
              "    <tr>\n",
              "      <th>AccountObjectId</th>\n",
              "      <td>0</td>\n",
              "    </tr>\n",
              "    <tr>\n",
              "      <th>AccountName</th>\n",
              "      <td>0</td>\n",
              "    </tr>\n",
              "    <tr>\n",
              "      <th>DeviceName</th>\n",
              "      <td>0</td>\n",
              "    </tr>\n",
              "    <tr>\n",
              "      <th>NetworkMessageId</th>\n",
              "      <td>0</td>\n",
              "    </tr>\n",
              "    <tr>\n",
              "      <th>EmailClusterId</th>\n",
              "      <td>47101</td>\n",
              "    </tr>\n",
              "    <tr>\n",
              "      <th>RegistryKey</th>\n",
              "      <td>0</td>\n",
              "    </tr>\n",
              "    <tr>\n",
              "      <th>RegistryValueName</th>\n",
              "      <td>0</td>\n",
              "    </tr>\n",
              "    <tr>\n",
              "      <th>RegistryValueData</th>\n",
              "      <td>0</td>\n",
              "    </tr>\n",
              "    <tr>\n",
              "      <th>ApplicationId</th>\n",
              "      <td>0</td>\n",
              "    </tr>\n",
              "    <tr>\n",
              "      <th>ApplicationName</th>\n",
              "      <td>0</td>\n",
              "    </tr>\n",
              "    <tr>\n",
              "      <th>OAuthApplicationId</th>\n",
              "      <td>0</td>\n",
              "    </tr>\n",
              "    <tr>\n",
              "      <th>ThreatFamily</th>\n",
              "      <td>47193</td>\n",
              "    </tr>\n",
              "    <tr>\n",
              "      <th>FileName</th>\n",
              "      <td>0</td>\n",
              "    </tr>\n",
              "    <tr>\n",
              "      <th>FolderPath</th>\n",
              "      <td>0</td>\n",
              "    </tr>\n",
              "    <tr>\n",
              "      <th>ResourceIdName</th>\n",
              "      <td>0</td>\n",
              "    </tr>\n",
              "    <tr>\n",
              "      <th>ResourceType</th>\n",
              "      <td>47544</td>\n",
              "    </tr>\n",
              "    <tr>\n",
              "      <th>Roles</th>\n",
              "      <td>46541</td>\n",
              "    </tr>\n",
              "    <tr>\n",
              "      <th>OSFamily</th>\n",
              "      <td>0</td>\n",
              "    </tr>\n",
              "    <tr>\n",
              "      <th>OSVersion</th>\n",
              "      <td>0</td>\n",
              "    </tr>\n",
              "    <tr>\n",
              "      <th>AntispamDirection</th>\n",
              "      <td>46698</td>\n",
              "    </tr>\n",
              "    <tr>\n",
              "      <th>SuspicionLevel</th>\n",
              "      <td>40436</td>\n",
              "    </tr>\n",
              "    <tr>\n",
              "      <th>LastVerdict</th>\n",
              "      <td>36498</td>\n",
              "    </tr>\n",
              "    <tr>\n",
              "      <th>CountryCode</th>\n",
              "      <td>0</td>\n",
              "    </tr>\n",
              "    <tr>\n",
              "      <th>State</th>\n",
              "      <td>0</td>\n",
              "    </tr>\n",
              "    <tr>\n",
              "      <th>City</th>\n",
              "      <td>0</td>\n",
              "    </tr>\n",
              "  </tbody>\n",
              "</table>\n",
              "</div><br><label><b>dtype:</b> int64</label>"
            ]
          },
          "metadata": {},
          "execution_count": 32
        }
      ],
      "source": [
        "train_df.isnull().sum().compute()"
      ]
    },
    {
      "cell_type": "code",
      "execution_count": 33,
      "metadata": {
        "colab": {
          "base_uri": "https://localhost:8080/",
          "height": 1000
        },
        "id": "ADw7pO71UTLQ",
        "outputId": "cdd609fe-3b97-41d7-89f5-ebbf5977c044"
      },
      "outputs": [
        {
          "output_type": "execute_result",
          "data": {
            "text/plain": [
              "Id                       0\n",
              "OrgId                    0\n",
              "IncidentId               0\n",
              "AlertId                  0\n",
              "Timestamp                0\n",
              "DetectorId               0\n",
              "AlertTitle               0\n",
              "Category                 0\n",
              "MitreTechniques       4607\n",
              "IncidentGrade            0\n",
              "ActionGrouped         8291\n",
              "ActionGranular        8291\n",
              "EntityType               0\n",
              "EvidenceRole             0\n",
              "DeviceId                 0\n",
              "Sha256                   0\n",
              "IpAddress                0\n",
              "Url                      0\n",
              "AccountSid               0\n",
              "AccountUpn               0\n",
              "AccountObjectId          0\n",
              "AccountName              0\n",
              "DeviceName               0\n",
              "NetworkMessageId         0\n",
              "EmailClusterId        8220\n",
              "RegistryKey              0\n",
              "RegistryValueName        0\n",
              "RegistryValueData        0\n",
              "ApplicationId            0\n",
              "ApplicationName          0\n",
              "OAuthApplicationId       0\n",
              "ThreatFamily          8240\n",
              "FileName                 0\n",
              "FolderPath               0\n",
              "ResourceIdName           0\n",
              "ResourceType          8291\n",
              "Roles                 8083\n",
              "OSFamily                 0\n",
              "OSVersion                0\n",
              "AntispamDirection     8144\n",
              "SuspicionLevel        6973\n",
              "LastVerdict           6320\n",
              "CountryCode              0\n",
              "State                    0\n",
              "City                     0\n",
              "dtype: int64"
            ],
            "text/html": [
              "<div>\n",
              "<style scoped>\n",
              "    .dataframe tbody tr th:only-of-type {\n",
              "        vertical-align: middle;\n",
              "    }\n",
              "\n",
              "    .dataframe tbody tr th {\n",
              "        vertical-align: top;\n",
              "    }\n",
              "\n",
              "    .dataframe thead th {\n",
              "        text-align: right;\n",
              "    }\n",
              "</style>\n",
              "<table border=\"1\" class=\"dataframe\">\n",
              "  <thead>\n",
              "    <tr style=\"text-align: right;\">\n",
              "      <th></th>\n",
              "      <th>0</th>\n",
              "    </tr>\n",
              "  </thead>\n",
              "  <tbody>\n",
              "    <tr>\n",
              "      <th>Id</th>\n",
              "      <td>0</td>\n",
              "    </tr>\n",
              "    <tr>\n",
              "      <th>OrgId</th>\n",
              "      <td>0</td>\n",
              "    </tr>\n",
              "    <tr>\n",
              "      <th>IncidentId</th>\n",
              "      <td>0</td>\n",
              "    </tr>\n",
              "    <tr>\n",
              "      <th>AlertId</th>\n",
              "      <td>0</td>\n",
              "    </tr>\n",
              "    <tr>\n",
              "      <th>Timestamp</th>\n",
              "      <td>0</td>\n",
              "    </tr>\n",
              "    <tr>\n",
              "      <th>DetectorId</th>\n",
              "      <td>0</td>\n",
              "    </tr>\n",
              "    <tr>\n",
              "      <th>AlertTitle</th>\n",
              "      <td>0</td>\n",
              "    </tr>\n",
              "    <tr>\n",
              "      <th>Category</th>\n",
              "      <td>0</td>\n",
              "    </tr>\n",
              "    <tr>\n",
              "      <th>MitreTechniques</th>\n",
              "      <td>4607</td>\n",
              "    </tr>\n",
              "    <tr>\n",
              "      <th>IncidentGrade</th>\n",
              "      <td>0</td>\n",
              "    </tr>\n",
              "    <tr>\n",
              "      <th>ActionGrouped</th>\n",
              "      <td>8291</td>\n",
              "    </tr>\n",
              "    <tr>\n",
              "      <th>ActionGranular</th>\n",
              "      <td>8291</td>\n",
              "    </tr>\n",
              "    <tr>\n",
              "      <th>EntityType</th>\n",
              "      <td>0</td>\n",
              "    </tr>\n",
              "    <tr>\n",
              "      <th>EvidenceRole</th>\n",
              "      <td>0</td>\n",
              "    </tr>\n",
              "    <tr>\n",
              "      <th>DeviceId</th>\n",
              "      <td>0</td>\n",
              "    </tr>\n",
              "    <tr>\n",
              "      <th>Sha256</th>\n",
              "      <td>0</td>\n",
              "    </tr>\n",
              "    <tr>\n",
              "      <th>IpAddress</th>\n",
              "      <td>0</td>\n",
              "    </tr>\n",
              "    <tr>\n",
              "      <th>Url</th>\n",
              "      <td>0</td>\n",
              "    </tr>\n",
              "    <tr>\n",
              "      <th>AccountSid</th>\n",
              "      <td>0</td>\n",
              "    </tr>\n",
              "    <tr>\n",
              "      <th>AccountUpn</th>\n",
              "      <td>0</td>\n",
              "    </tr>\n",
              "    <tr>\n",
              "      <th>AccountObjectId</th>\n",
              "      <td>0</td>\n",
              "    </tr>\n",
              "    <tr>\n",
              "      <th>AccountName</th>\n",
              "      <td>0</td>\n",
              "    </tr>\n",
              "    <tr>\n",
              "      <th>DeviceName</th>\n",
              "      <td>0</td>\n",
              "    </tr>\n",
              "    <tr>\n",
              "      <th>NetworkMessageId</th>\n",
              "      <td>0</td>\n",
              "    </tr>\n",
              "    <tr>\n",
              "      <th>EmailClusterId</th>\n",
              "      <td>8220</td>\n",
              "    </tr>\n",
              "    <tr>\n",
              "      <th>RegistryKey</th>\n",
              "      <td>0</td>\n",
              "    </tr>\n",
              "    <tr>\n",
              "      <th>RegistryValueName</th>\n",
              "      <td>0</td>\n",
              "    </tr>\n",
              "    <tr>\n",
              "      <th>RegistryValueData</th>\n",
              "      <td>0</td>\n",
              "    </tr>\n",
              "    <tr>\n",
              "      <th>ApplicationId</th>\n",
              "      <td>0</td>\n",
              "    </tr>\n",
              "    <tr>\n",
              "      <th>ApplicationName</th>\n",
              "      <td>0</td>\n",
              "    </tr>\n",
              "    <tr>\n",
              "      <th>OAuthApplicationId</th>\n",
              "      <td>0</td>\n",
              "    </tr>\n",
              "    <tr>\n",
              "      <th>ThreatFamily</th>\n",
              "      <td>8240</td>\n",
              "    </tr>\n",
              "    <tr>\n",
              "      <th>FileName</th>\n",
              "      <td>0</td>\n",
              "    </tr>\n",
              "    <tr>\n",
              "      <th>FolderPath</th>\n",
              "      <td>0</td>\n",
              "    </tr>\n",
              "    <tr>\n",
              "      <th>ResourceIdName</th>\n",
              "      <td>0</td>\n",
              "    </tr>\n",
              "    <tr>\n",
              "      <th>ResourceType</th>\n",
              "      <td>8291</td>\n",
              "    </tr>\n",
              "    <tr>\n",
              "      <th>Roles</th>\n",
              "      <td>8083</td>\n",
              "    </tr>\n",
              "    <tr>\n",
              "      <th>OSFamily</th>\n",
              "      <td>0</td>\n",
              "    </tr>\n",
              "    <tr>\n",
              "      <th>OSVersion</th>\n",
              "      <td>0</td>\n",
              "    </tr>\n",
              "    <tr>\n",
              "      <th>AntispamDirection</th>\n",
              "      <td>8144</td>\n",
              "    </tr>\n",
              "    <tr>\n",
              "      <th>SuspicionLevel</th>\n",
              "      <td>6973</td>\n",
              "    </tr>\n",
              "    <tr>\n",
              "      <th>LastVerdict</th>\n",
              "      <td>6320</td>\n",
              "    </tr>\n",
              "    <tr>\n",
              "      <th>CountryCode</th>\n",
              "      <td>0</td>\n",
              "    </tr>\n",
              "    <tr>\n",
              "      <th>State</th>\n",
              "      <td>0</td>\n",
              "    </tr>\n",
              "    <tr>\n",
              "      <th>City</th>\n",
              "      <td>0</td>\n",
              "    </tr>\n",
              "  </tbody>\n",
              "</table>\n",
              "</div><br><label><b>dtype:</b> int64</label>"
            ]
          },
          "metadata": {},
          "execution_count": 33
        }
      ],
      "source": [
        "test_df.isnull().sum().compute()"
      ]
    },
    {
      "cell_type": "code",
      "execution_count": 34,
      "metadata": {
        "colab": {
          "base_uri": "https://localhost:8080/",
          "height": 342
        },
        "id": "XkVQjhGwtqHn",
        "outputId": "49bb37da-9020-4124-bde0-334798965cde"
      },
      "outputs": [
        {
          "output_type": "execute_result",
          "data": {
            "text/plain": [
              "                   Id  OrgId  IncidentId  AlertId                 Timestamp  \\\n",
              "208502     8589935127    283         335   509559  2024-06-11T14:15:54.000Z   \n",
              "57767    635655163043     51       44733   295881  2024-06-03T23:17:54.000Z   \n",
              "235357  1451698948195     13        6868    10238  2024-06-10T18:15:14.000Z   \n",
              "21126    816043791031      9          64   112355  2024-06-12T15:28:38.000Z   \n",
              "128964  1408749274237     16       99016   132381  2024-06-03T20:07:56.000Z   \n",
              "\n",
              "        DetectorId  AlertTitle       Category        MitreTechniques  \\\n",
              "208502           0           0  InitialAccess        T1078;T1078.004   \n",
              "57767           39          26      Execution  T1559;T1106;T1059.005   \n",
              "235357          34        1135   Exfiltration                    NaN   \n",
              "21126           90        4415   Exfiltration                    NaN   \n",
              "128964          24       21634   Exfiltration                    NaN   \n",
              "\n",
              "         IncidentGrade  ... ResourceType Roles OSFamily OSVersion  \\\n",
              "208502    TruePositive  ...          NaN   NaN        5        66   \n",
              "57767   BenignPositive  ...          NaN   NaN        5        66   \n",
              "235357  BenignPositive  ...          NaN   NaN        5        66   \n",
              "21126   BenignPositive  ...          NaN   NaN        5        66   \n",
              "128964  BenignPositive  ...          NaN   NaN        5        66   \n",
              "\n",
              "        AntispamDirection  SuspicionLevel  LastVerdict  CountryCode  State  \\\n",
              "208502                NaN             NaN          NaN          242   1445   \n",
              "57767                 NaN             NaN          NaN          242   1445   \n",
              "235357                NaN             NaN          NaN          242   1445   \n",
              "21126                 NaN             NaN          NaN          242   1445   \n",
              "128964                NaN             NaN          NaN          242   1445   \n",
              "\n",
              "         City  \n",
              "208502  10630  \n",
              "57767   10630  \n",
              "235357  10630  \n",
              "21126   10630  \n",
              "128964  10630  \n",
              "\n",
              "[5 rows x 45 columns]"
            ],
            "text/html": [
              "\n",
              "  <div id=\"df-66b7d90b-a54a-4223-96cc-4cc21ce9fa77\" class=\"colab-df-container\">\n",
              "    <div>\n",
              "<style scoped>\n",
              "    .dataframe tbody tr th:only-of-type {\n",
              "        vertical-align: middle;\n",
              "    }\n",
              "\n",
              "    .dataframe tbody tr th {\n",
              "        vertical-align: top;\n",
              "    }\n",
              "\n",
              "    .dataframe thead th {\n",
              "        text-align: right;\n",
              "    }\n",
              "</style>\n",
              "<table border=\"1\" class=\"dataframe\">\n",
              "  <thead>\n",
              "    <tr style=\"text-align: right;\">\n",
              "      <th></th>\n",
              "      <th>Id</th>\n",
              "      <th>OrgId</th>\n",
              "      <th>IncidentId</th>\n",
              "      <th>AlertId</th>\n",
              "      <th>Timestamp</th>\n",
              "      <th>DetectorId</th>\n",
              "      <th>AlertTitle</th>\n",
              "      <th>Category</th>\n",
              "      <th>MitreTechniques</th>\n",
              "      <th>IncidentGrade</th>\n",
              "      <th>...</th>\n",
              "      <th>ResourceType</th>\n",
              "      <th>Roles</th>\n",
              "      <th>OSFamily</th>\n",
              "      <th>OSVersion</th>\n",
              "      <th>AntispamDirection</th>\n",
              "      <th>SuspicionLevel</th>\n",
              "      <th>LastVerdict</th>\n",
              "      <th>CountryCode</th>\n",
              "      <th>State</th>\n",
              "      <th>City</th>\n",
              "    </tr>\n",
              "  </thead>\n",
              "  <tbody>\n",
              "    <tr>\n",
              "      <th>208502</th>\n",
              "      <td>8589935127</td>\n",
              "      <td>283</td>\n",
              "      <td>335</td>\n",
              "      <td>509559</td>\n",
              "      <td>2024-06-11T14:15:54.000Z</td>\n",
              "      <td>0</td>\n",
              "      <td>0</td>\n",
              "      <td>InitialAccess</td>\n",
              "      <td>T1078;T1078.004</td>\n",
              "      <td>TruePositive</td>\n",
              "      <td>...</td>\n",
              "      <td>NaN</td>\n",
              "      <td>NaN</td>\n",
              "      <td>5</td>\n",
              "      <td>66</td>\n",
              "      <td>NaN</td>\n",
              "      <td>NaN</td>\n",
              "      <td>NaN</td>\n",
              "      <td>242</td>\n",
              "      <td>1445</td>\n",
              "      <td>10630</td>\n",
              "    </tr>\n",
              "    <tr>\n",
              "      <th>57767</th>\n",
              "      <td>635655163043</td>\n",
              "      <td>51</td>\n",
              "      <td>44733</td>\n",
              "      <td>295881</td>\n",
              "      <td>2024-06-03T23:17:54.000Z</td>\n",
              "      <td>39</td>\n",
              "      <td>26</td>\n",
              "      <td>Execution</td>\n",
              "      <td>T1559;T1106;T1059.005</td>\n",
              "      <td>BenignPositive</td>\n",
              "      <td>...</td>\n",
              "      <td>NaN</td>\n",
              "      <td>NaN</td>\n",
              "      <td>5</td>\n",
              "      <td>66</td>\n",
              "      <td>NaN</td>\n",
              "      <td>NaN</td>\n",
              "      <td>NaN</td>\n",
              "      <td>242</td>\n",
              "      <td>1445</td>\n",
              "      <td>10630</td>\n",
              "    </tr>\n",
              "    <tr>\n",
              "      <th>235357</th>\n",
              "      <td>1451698948195</td>\n",
              "      <td>13</td>\n",
              "      <td>6868</td>\n",
              "      <td>10238</td>\n",
              "      <td>2024-06-10T18:15:14.000Z</td>\n",
              "      <td>34</td>\n",
              "      <td>1135</td>\n",
              "      <td>Exfiltration</td>\n",
              "      <td>NaN</td>\n",
              "      <td>BenignPositive</td>\n",
              "      <td>...</td>\n",
              "      <td>NaN</td>\n",
              "      <td>NaN</td>\n",
              "      <td>5</td>\n",
              "      <td>66</td>\n",
              "      <td>NaN</td>\n",
              "      <td>NaN</td>\n",
              "      <td>NaN</td>\n",
              "      <td>242</td>\n",
              "      <td>1445</td>\n",
              "      <td>10630</td>\n",
              "    </tr>\n",
              "    <tr>\n",
              "      <th>21126</th>\n",
              "      <td>816043791031</td>\n",
              "      <td>9</td>\n",
              "      <td>64</td>\n",
              "      <td>112355</td>\n",
              "      <td>2024-06-12T15:28:38.000Z</td>\n",
              "      <td>90</td>\n",
              "      <td>4415</td>\n",
              "      <td>Exfiltration</td>\n",
              "      <td>NaN</td>\n",
              "      <td>BenignPositive</td>\n",
              "      <td>...</td>\n",
              "      <td>NaN</td>\n",
              "      <td>NaN</td>\n",
              "      <td>5</td>\n",
              "      <td>66</td>\n",
              "      <td>NaN</td>\n",
              "      <td>NaN</td>\n",
              "      <td>NaN</td>\n",
              "      <td>242</td>\n",
              "      <td>1445</td>\n",
              "      <td>10630</td>\n",
              "    </tr>\n",
              "    <tr>\n",
              "      <th>128964</th>\n",
              "      <td>1408749274237</td>\n",
              "      <td>16</td>\n",
              "      <td>99016</td>\n",
              "      <td>132381</td>\n",
              "      <td>2024-06-03T20:07:56.000Z</td>\n",
              "      <td>24</td>\n",
              "      <td>21634</td>\n",
              "      <td>Exfiltration</td>\n",
              "      <td>NaN</td>\n",
              "      <td>BenignPositive</td>\n",
              "      <td>...</td>\n",
              "      <td>NaN</td>\n",
              "      <td>NaN</td>\n",
              "      <td>5</td>\n",
              "      <td>66</td>\n",
              "      <td>NaN</td>\n",
              "      <td>NaN</td>\n",
              "      <td>NaN</td>\n",
              "      <td>242</td>\n",
              "      <td>1445</td>\n",
              "      <td>10630</td>\n",
              "    </tr>\n",
              "  </tbody>\n",
              "</table>\n",
              "<p>5 rows × 45 columns</p>\n",
              "</div>\n",
              "    <div class=\"colab-df-buttons\">\n",
              "\n",
              "  <div class=\"colab-df-container\">\n",
              "    <button class=\"colab-df-convert\" onclick=\"convertToInteractive('df-66b7d90b-a54a-4223-96cc-4cc21ce9fa77')\"\n",
              "            title=\"Convert this dataframe to an interactive table.\"\n",
              "            style=\"display:none;\">\n",
              "\n",
              "  <svg xmlns=\"http://www.w3.org/2000/svg\" height=\"24px\" viewBox=\"0 -960 960 960\">\n",
              "    <path d=\"M120-120v-720h720v720H120Zm60-500h600v-160H180v160Zm220 220h160v-160H400v160Zm0 220h160v-160H400v160ZM180-400h160v-160H180v160Zm440 0h160v-160H620v160ZM180-180h160v-160H180v160Zm440 0h160v-160H620v160Z\"/>\n",
              "  </svg>\n",
              "    </button>\n",
              "\n",
              "  <style>\n",
              "    .colab-df-container {\n",
              "      display:flex;\n",
              "      gap: 12px;\n",
              "    }\n",
              "\n",
              "    .colab-df-convert {\n",
              "      background-color: #E8F0FE;\n",
              "      border: none;\n",
              "      border-radius: 50%;\n",
              "      cursor: pointer;\n",
              "      display: none;\n",
              "      fill: #1967D2;\n",
              "      height: 32px;\n",
              "      padding: 0 0 0 0;\n",
              "      width: 32px;\n",
              "    }\n",
              "\n",
              "    .colab-df-convert:hover {\n",
              "      background-color: #E2EBFA;\n",
              "      box-shadow: 0px 1px 2px rgba(60, 64, 67, 0.3), 0px 1px 3px 1px rgba(60, 64, 67, 0.15);\n",
              "      fill: #174EA6;\n",
              "    }\n",
              "\n",
              "    .colab-df-buttons div {\n",
              "      margin-bottom: 4px;\n",
              "    }\n",
              "\n",
              "    [theme=dark] .colab-df-convert {\n",
              "      background-color: #3B4455;\n",
              "      fill: #D2E3FC;\n",
              "    }\n",
              "\n",
              "    [theme=dark] .colab-df-convert:hover {\n",
              "      background-color: #434B5C;\n",
              "      box-shadow: 0px 1px 3px 1px rgba(0, 0, 0, 0.15);\n",
              "      filter: drop-shadow(0px 1px 2px rgba(0, 0, 0, 0.3));\n",
              "      fill: #FFFFFF;\n",
              "    }\n",
              "  </style>\n",
              "\n",
              "    <script>\n",
              "      const buttonEl =\n",
              "        document.querySelector('#df-66b7d90b-a54a-4223-96cc-4cc21ce9fa77 button.colab-df-convert');\n",
              "      buttonEl.style.display =\n",
              "        google.colab.kernel.accessAllowed ? 'block' : 'none';\n",
              "\n",
              "      async function convertToInteractive(key) {\n",
              "        const element = document.querySelector('#df-66b7d90b-a54a-4223-96cc-4cc21ce9fa77');\n",
              "        const dataTable =\n",
              "          await google.colab.kernel.invokeFunction('convertToInteractive',\n",
              "                                                    [key], {});\n",
              "        if (!dataTable) return;\n",
              "\n",
              "        const docLinkHtml = 'Like what you see? Visit the ' +\n",
              "          '<a target=\"_blank\" href=https://colab.research.google.com/notebooks/data_table.ipynb>data table notebook</a>'\n",
              "          + ' to learn more about interactive tables.';\n",
              "        element.innerHTML = '';\n",
              "        dataTable['output_type'] = 'display_data';\n",
              "        await google.colab.output.renderOutput(dataTable, element);\n",
              "        const docLink = document.createElement('div');\n",
              "        docLink.innerHTML = docLinkHtml;\n",
              "        element.appendChild(docLink);\n",
              "      }\n",
              "    </script>\n",
              "  </div>\n",
              "\n",
              "\n",
              "<div id=\"df-4dd99204-5fa8-4d48-99d0-1c4573c5aea9\">\n",
              "  <button class=\"colab-df-quickchart\" onclick=\"quickchart('df-4dd99204-5fa8-4d48-99d0-1c4573c5aea9')\"\n",
              "            title=\"Suggest charts\"\n",
              "            style=\"display:none;\">\n",
              "\n",
              "<svg xmlns=\"http://www.w3.org/2000/svg\" height=\"24px\"viewBox=\"0 0 24 24\"\n",
              "     width=\"24px\">\n",
              "    <g>\n",
              "        <path d=\"M19 3H5c-1.1 0-2 .9-2 2v14c0 1.1.9 2 2 2h14c1.1 0 2-.9 2-2V5c0-1.1-.9-2-2-2zM9 17H7v-7h2v7zm4 0h-2V7h2v10zm4 0h-2v-4h2v4z\"/>\n",
              "    </g>\n",
              "</svg>\n",
              "  </button>\n",
              "\n",
              "<style>\n",
              "  .colab-df-quickchart {\n",
              "      --bg-color: #E8F0FE;\n",
              "      --fill-color: #1967D2;\n",
              "      --hover-bg-color: #E2EBFA;\n",
              "      --hover-fill-color: #174EA6;\n",
              "      --disabled-fill-color: #AAA;\n",
              "      --disabled-bg-color: #DDD;\n",
              "  }\n",
              "\n",
              "  [theme=dark] .colab-df-quickchart {\n",
              "      --bg-color: #3B4455;\n",
              "      --fill-color: #D2E3FC;\n",
              "      --hover-bg-color: #434B5C;\n",
              "      --hover-fill-color: #FFFFFF;\n",
              "      --disabled-bg-color: #3B4455;\n",
              "      --disabled-fill-color: #666;\n",
              "  }\n",
              "\n",
              "  .colab-df-quickchart {\n",
              "    background-color: var(--bg-color);\n",
              "    border: none;\n",
              "    border-radius: 50%;\n",
              "    cursor: pointer;\n",
              "    display: none;\n",
              "    fill: var(--fill-color);\n",
              "    height: 32px;\n",
              "    padding: 0;\n",
              "    width: 32px;\n",
              "  }\n",
              "\n",
              "  .colab-df-quickchart:hover {\n",
              "    background-color: var(--hover-bg-color);\n",
              "    box-shadow: 0 1px 2px rgba(60, 64, 67, 0.3), 0 1px 3px 1px rgba(60, 64, 67, 0.15);\n",
              "    fill: var(--button-hover-fill-color);\n",
              "  }\n",
              "\n",
              "  .colab-df-quickchart-complete:disabled,\n",
              "  .colab-df-quickchart-complete:disabled:hover {\n",
              "    background-color: var(--disabled-bg-color);\n",
              "    fill: var(--disabled-fill-color);\n",
              "    box-shadow: none;\n",
              "  }\n",
              "\n",
              "  .colab-df-spinner {\n",
              "    border: 2px solid var(--fill-color);\n",
              "    border-color: transparent;\n",
              "    border-bottom-color: var(--fill-color);\n",
              "    animation:\n",
              "      spin 1s steps(1) infinite;\n",
              "  }\n",
              "\n",
              "  @keyframes spin {\n",
              "    0% {\n",
              "      border-color: transparent;\n",
              "      border-bottom-color: var(--fill-color);\n",
              "      border-left-color: var(--fill-color);\n",
              "    }\n",
              "    20% {\n",
              "      border-color: transparent;\n",
              "      border-left-color: var(--fill-color);\n",
              "      border-top-color: var(--fill-color);\n",
              "    }\n",
              "    30% {\n",
              "      border-color: transparent;\n",
              "      border-left-color: var(--fill-color);\n",
              "      border-top-color: var(--fill-color);\n",
              "      border-right-color: var(--fill-color);\n",
              "    }\n",
              "    40% {\n",
              "      border-color: transparent;\n",
              "      border-right-color: var(--fill-color);\n",
              "      border-top-color: var(--fill-color);\n",
              "    }\n",
              "    60% {\n",
              "      border-color: transparent;\n",
              "      border-right-color: var(--fill-color);\n",
              "    }\n",
              "    80% {\n",
              "      border-color: transparent;\n",
              "      border-right-color: var(--fill-color);\n",
              "      border-bottom-color: var(--fill-color);\n",
              "    }\n",
              "    90% {\n",
              "      border-color: transparent;\n",
              "      border-bottom-color: var(--fill-color);\n",
              "    }\n",
              "  }\n",
              "</style>\n",
              "\n",
              "  <script>\n",
              "    async function quickchart(key) {\n",
              "      const quickchartButtonEl =\n",
              "        document.querySelector('#' + key + ' button');\n",
              "      quickchartButtonEl.disabled = true;  // To prevent multiple clicks.\n",
              "      quickchartButtonEl.classList.add('colab-df-spinner');\n",
              "      try {\n",
              "        const charts = await google.colab.kernel.invokeFunction(\n",
              "            'suggestCharts', [key], {});\n",
              "      } catch (error) {\n",
              "        console.error('Error during call to suggestCharts:', error);\n",
              "      }\n",
              "      quickchartButtonEl.classList.remove('colab-df-spinner');\n",
              "      quickchartButtonEl.classList.add('colab-df-quickchart-complete');\n",
              "    }\n",
              "    (() => {\n",
              "      let quickchartButtonEl =\n",
              "        document.querySelector('#df-4dd99204-5fa8-4d48-99d0-1c4573c5aea9 button');\n",
              "      quickchartButtonEl.style.display =\n",
              "        google.colab.kernel.accessAllowed ? 'block' : 'none';\n",
              "    })();\n",
              "  </script>\n",
              "</div>\n",
              "\n",
              "    </div>\n",
              "  </div>\n"
            ],
            "application/vnd.google.colaboratory.intrinsic+json": {
              "type": "dataframe"
            }
          },
          "metadata": {},
          "execution_count": 34
        }
      ],
      "source": [
        "train_df.head()"
      ]
    },
    {
      "cell_type": "code",
      "execution_count": 35,
      "metadata": {
        "id": "Eq2Pjvn9xUzl"
      },
      "outputs": [],
      "source": [
        "train_df = train_df.drop(['Id'], axis=1)\n",
        "test_df = test_df.drop(['Id'], axis=1)"
      ]
    },
    {
      "cell_type": "code",
      "execution_count": 36,
      "metadata": {
        "id": "y7PG7coKKq3D"
      },
      "outputs": [],
      "source": [
        "train_df = train_df.drop(['MitreTechniques','ActionGrouped', 'ActionGranular', 'EmailClusterId', 'ThreatFamily', 'ResourceType','Roles','AntispamDirection','SuspicionLevel','LastVerdict'], axis=1)"
      ]
    },
    {
      "cell_type": "code",
      "execution_count": 37,
      "metadata": {
        "id": "5niGfAzCiD8j"
      },
      "outputs": [],
      "source": [
        "test_df = test_df.drop(['MitreTechniques','ActionGrouped', 'ActionGranular', 'EmailClusterId', 'ThreatFamily', 'ResourceType','Roles','AntispamDirection','SuspicionLevel','LastVerdict'], axis=1)"
      ]
    },
    {
      "cell_type": "code",
      "execution_count": 38,
      "metadata": {
        "id": "guVsCmh8Gr4T"
      },
      "outputs": [],
      "source": [
        "train_df = train_df.dropna(subset=['IncidentGrade'])"
      ]
    },
    {
      "cell_type": "code",
      "execution_count": 39,
      "metadata": {
        "id": "fq5x-K6MbcEZ"
      },
      "outputs": [],
      "source": [
        "test_df = test_df.dropna(subset=['IncidentGrade'])"
      ]
    },
    {
      "cell_type": "code",
      "execution_count": 40,
      "metadata": {
        "colab": {
          "base_uri": "https://localhost:8080/",
          "height": 1000
        },
        "id": "HqCXxKUGihgP",
        "outputId": "cb519a17-2870-4cfe-f9fe-b8dc8853714f"
      },
      "outputs": [
        {
          "output_type": "execute_result",
          "data": {
            "text/plain": [
              "OrgId                 0\n",
              "IncidentId            0\n",
              "AlertId               0\n",
              "Timestamp             0\n",
              "DetectorId            0\n",
              "AlertTitle            0\n",
              "Category              0\n",
              "IncidentGrade         0\n",
              "EntityType            0\n",
              "EvidenceRole          0\n",
              "DeviceId              0\n",
              "Sha256                0\n",
              "IpAddress             0\n",
              "Url                   0\n",
              "AccountSid            0\n",
              "AccountUpn            0\n",
              "AccountObjectId       0\n",
              "AccountName           0\n",
              "DeviceName            0\n",
              "NetworkMessageId      0\n",
              "RegistryKey           0\n",
              "RegistryValueName     0\n",
              "RegistryValueData     0\n",
              "ApplicationId         0\n",
              "ApplicationName       0\n",
              "OAuthApplicationId    0\n",
              "FileName              0\n",
              "FolderPath            0\n",
              "ResourceIdName        0\n",
              "OSFamily              0\n",
              "OSVersion             0\n",
              "CountryCode           0\n",
              "State                 0\n",
              "City                  0\n",
              "dtype: int64"
            ],
            "text/html": [
              "<div>\n",
              "<style scoped>\n",
              "    .dataframe tbody tr th:only-of-type {\n",
              "        vertical-align: middle;\n",
              "    }\n",
              "\n",
              "    .dataframe tbody tr th {\n",
              "        vertical-align: top;\n",
              "    }\n",
              "\n",
              "    .dataframe thead th {\n",
              "        text-align: right;\n",
              "    }\n",
              "</style>\n",
              "<table border=\"1\" class=\"dataframe\">\n",
              "  <thead>\n",
              "    <tr style=\"text-align: right;\">\n",
              "      <th></th>\n",
              "      <th>0</th>\n",
              "    </tr>\n",
              "  </thead>\n",
              "  <tbody>\n",
              "    <tr>\n",
              "      <th>OrgId</th>\n",
              "      <td>0</td>\n",
              "    </tr>\n",
              "    <tr>\n",
              "      <th>IncidentId</th>\n",
              "      <td>0</td>\n",
              "    </tr>\n",
              "    <tr>\n",
              "      <th>AlertId</th>\n",
              "      <td>0</td>\n",
              "    </tr>\n",
              "    <tr>\n",
              "      <th>Timestamp</th>\n",
              "      <td>0</td>\n",
              "    </tr>\n",
              "    <tr>\n",
              "      <th>DetectorId</th>\n",
              "      <td>0</td>\n",
              "    </tr>\n",
              "    <tr>\n",
              "      <th>AlertTitle</th>\n",
              "      <td>0</td>\n",
              "    </tr>\n",
              "    <tr>\n",
              "      <th>Category</th>\n",
              "      <td>0</td>\n",
              "    </tr>\n",
              "    <tr>\n",
              "      <th>IncidentGrade</th>\n",
              "      <td>0</td>\n",
              "    </tr>\n",
              "    <tr>\n",
              "      <th>EntityType</th>\n",
              "      <td>0</td>\n",
              "    </tr>\n",
              "    <tr>\n",
              "      <th>EvidenceRole</th>\n",
              "      <td>0</td>\n",
              "    </tr>\n",
              "    <tr>\n",
              "      <th>DeviceId</th>\n",
              "      <td>0</td>\n",
              "    </tr>\n",
              "    <tr>\n",
              "      <th>Sha256</th>\n",
              "      <td>0</td>\n",
              "    </tr>\n",
              "    <tr>\n",
              "      <th>IpAddress</th>\n",
              "      <td>0</td>\n",
              "    </tr>\n",
              "    <tr>\n",
              "      <th>Url</th>\n",
              "      <td>0</td>\n",
              "    </tr>\n",
              "    <tr>\n",
              "      <th>AccountSid</th>\n",
              "      <td>0</td>\n",
              "    </tr>\n",
              "    <tr>\n",
              "      <th>AccountUpn</th>\n",
              "      <td>0</td>\n",
              "    </tr>\n",
              "    <tr>\n",
              "      <th>AccountObjectId</th>\n",
              "      <td>0</td>\n",
              "    </tr>\n",
              "    <tr>\n",
              "      <th>AccountName</th>\n",
              "      <td>0</td>\n",
              "    </tr>\n",
              "    <tr>\n",
              "      <th>DeviceName</th>\n",
              "      <td>0</td>\n",
              "    </tr>\n",
              "    <tr>\n",
              "      <th>NetworkMessageId</th>\n",
              "      <td>0</td>\n",
              "    </tr>\n",
              "    <tr>\n",
              "      <th>RegistryKey</th>\n",
              "      <td>0</td>\n",
              "    </tr>\n",
              "    <tr>\n",
              "      <th>RegistryValueName</th>\n",
              "      <td>0</td>\n",
              "    </tr>\n",
              "    <tr>\n",
              "      <th>RegistryValueData</th>\n",
              "      <td>0</td>\n",
              "    </tr>\n",
              "    <tr>\n",
              "      <th>ApplicationId</th>\n",
              "      <td>0</td>\n",
              "    </tr>\n",
              "    <tr>\n",
              "      <th>ApplicationName</th>\n",
              "      <td>0</td>\n",
              "    </tr>\n",
              "    <tr>\n",
              "      <th>OAuthApplicationId</th>\n",
              "      <td>0</td>\n",
              "    </tr>\n",
              "    <tr>\n",
              "      <th>FileName</th>\n",
              "      <td>0</td>\n",
              "    </tr>\n",
              "    <tr>\n",
              "      <th>FolderPath</th>\n",
              "      <td>0</td>\n",
              "    </tr>\n",
              "    <tr>\n",
              "      <th>ResourceIdName</th>\n",
              "      <td>0</td>\n",
              "    </tr>\n",
              "    <tr>\n",
              "      <th>OSFamily</th>\n",
              "      <td>0</td>\n",
              "    </tr>\n",
              "    <tr>\n",
              "      <th>OSVersion</th>\n",
              "      <td>0</td>\n",
              "    </tr>\n",
              "    <tr>\n",
              "      <th>CountryCode</th>\n",
              "      <td>0</td>\n",
              "    </tr>\n",
              "    <tr>\n",
              "      <th>State</th>\n",
              "      <td>0</td>\n",
              "    </tr>\n",
              "    <tr>\n",
              "      <th>City</th>\n",
              "      <td>0</td>\n",
              "    </tr>\n",
              "  </tbody>\n",
              "</table>\n",
              "</div><br><label><b>dtype:</b> int64</label>"
            ]
          },
          "metadata": {},
          "execution_count": 40
        }
      ],
      "source": [
        "train_df.isnull().sum().compute()"
      ]
    },
    {
      "cell_type": "code",
      "execution_count": 41,
      "metadata": {
        "colab": {
          "base_uri": "https://localhost:8080/"
        },
        "id": "eKxo3dAfgple",
        "outputId": "9b1733cd-72dd-417e-94b0-fadcd53d296f"
      },
      "outputs": [
        {
          "output_type": "stream",
          "name": "stdout",
          "text": [
            "<class 'dask_expr.DataFrame'>\n",
            "Columns: 34 entries, OrgId to City\n",
            "dtypes: int64(29), string(5)"
          ]
        }
      ],
      "source": [
        "train_df.info()"
      ]
    },
    {
      "cell_type": "code",
      "execution_count": 42,
      "metadata": {
        "id": "cOR7yMR5Dd0l"
      },
      "outputs": [],
      "source": [
        "train_df['Timestamp'] = train_df['Timestamp'].str.extract(r'(\\d{4}-\\d{2}-\\d{2})', expand=False)"
      ]
    },
    {
      "cell_type": "code",
      "execution_count": 43,
      "metadata": {
        "id": "0Ui0rrKHIn22"
      },
      "outputs": [],
      "source": [
        "train_df['Timestamp'] = dd.to_datetime(train_df['Timestamp'], format='%Y-%m-%d')"
      ]
    },
    {
      "cell_type": "code",
      "execution_count": 44,
      "metadata": {
        "id": "hYCN7p9iJR8t"
      },
      "outputs": [],
      "source": [
        "test_df['Timestamp'] = test_df['Timestamp'].str.extract(r'(\\d{4}-\\d{2}-\\d{2})', expand=False)"
      ]
    },
    {
      "cell_type": "code",
      "execution_count": 45,
      "metadata": {
        "id": "OOfnentUJWbF"
      },
      "outputs": [],
      "source": [
        "test_df['Timestamp'] = dd.to_datetime(test_df['Timestamp'], format='%Y-%m-%d')"
      ]
    },
    {
      "cell_type": "markdown",
      "metadata": {
        "id": "OF7jyFdbKXuH"
      },
      "source": [
        "## create day of week column"
      ]
    },
    {
      "cell_type": "code",
      "execution_count": 46,
      "metadata": {
        "id": "HfANJ49uJc3x"
      },
      "outputs": [],
      "source": [
        "train_df['Day_of_Week'] = train_df['Timestamp'].dt.day_name()"
      ]
    },
    {
      "cell_type": "code",
      "execution_count": 47,
      "metadata": {
        "id": "rlEVSaplLIUz"
      },
      "outputs": [],
      "source": [
        "test_df['Day_of_Week'] = test_df['Timestamp'].dt.day_name()"
      ]
    },
    {
      "cell_type": "markdown",
      "metadata": {
        "id": "XCkmLW_aSYhm"
      },
      "source": [
        "## split train_df into x and y"
      ]
    },
    {
      "cell_type": "code",
      "execution_count": 48,
      "metadata": {
        "id": "pLl7zDYRSY7E"
      },
      "outputs": [],
      "source": [
        "# first split features and target\n",
        "train_x = train_df.drop('IncidentGrade', axis=1)\n",
        "train_y = train_df['IncidentGrade']"
      ]
    },
    {
      "cell_type": "code",
      "execution_count": 49,
      "metadata": {
        "id": "uuRAhiYmUE0Y"
      },
      "outputs": [],
      "source": [
        "test_x = test_df.drop('IncidentGrade', axis=1)\n",
        "test_y = test_df['IncidentGrade']"
      ]
    },
    {
      "cell_type": "markdown",
      "metadata": {
        "id": "ahqvdUbJLdsG"
      },
      "source": [
        "# encoding categorical features"
      ]
    },
    {
      "cell_type": "code",
      "execution_count": 50,
      "metadata": {
        "id": "3fv6CTIunjyc"
      },
      "outputs": [],
      "source": [
        "for col in train_x.columns:\n",
        "    if train_x[col].dtype == 'object' or train_x[col].dtype == 'string':\n",
        "        train_x[col] = train_x[col].astype('category')"
      ]
    },
    {
      "cell_type": "code",
      "execution_count": 51,
      "metadata": {
        "id": "5j3uarrpnp0U"
      },
      "outputs": [],
      "source": [
        "for col in test_x.columns:\n",
        "    if test_x[col].dtype == 'object' or test_x[col].dtype == 'string':\n",
        "        test_x[col] = test_x[col].astype('category')"
      ]
    },
    {
      "cell_type": "code",
      "execution_count": 52,
      "metadata": {
        "colab": {
          "base_uri": "https://localhost:8080/"
        },
        "id": "m5bCuHy3o58s",
        "outputId": "bd6429d0-32ca-4aef-d976-543e58ea387d"
      },
      "outputs": [
        {
          "output_type": "execute_result",
          "data": {
            "text/plain": [
              "Index(['Category', 'EntityType', 'EvidenceRole', 'Day_of_Week'], dtype='object')"
            ]
          },
          "metadata": {},
          "execution_count": 52
        }
      ],
      "source": [
        "categorical_features = train_x.select_dtypes(include=['category']).columns\n",
        "categorical_features"
      ]
    },
    {
      "cell_type": "code",
      "execution_count": 53,
      "metadata": {
        "id": "VraqY3cWpbrP"
      },
      "outputs": [],
      "source": [
        "train_x_cat = train_x.categorize(columns=categorical_features)\n",
        "test_x_cat = test_x.categorize(columns=categorical_features)"
      ]
    },
    {
      "cell_type": "code",
      "execution_count": 54,
      "metadata": {
        "colab": {
          "base_uri": "https://localhost:8080/",
          "height": 342
        },
        "id": "qN26upR3LdKX",
        "outputId": "46247774-f4c2-41c8-c472-3adb816d01a9"
      },
      "outputs": [
        {
          "output_type": "execute_result",
          "data": {
            "text/plain": [
              "        OrgId  IncidentId  AlertId  Timestamp  DetectorId  AlertTitle  \\\n",
              "208502    283         335   509559 2024-06-11           0           0   \n",
              "57767      51       44733   295881 2024-06-03          39          26   \n",
              "235357     13        6868    10238 2024-06-10          34        1135   \n",
              "21126       9          64   112355 2024-06-12          90        4415   \n",
              "128964     16       99016   132381 2024-06-03          24       21634   \n",
              "\n",
              "        DeviceId  Sha256  IpAddress     Url  ...  EntityType_User  \\\n",
              "208502     98799  138268     360606  160396  ...             True   \n",
              "57767      98799  138268     360606  160396  ...             True   \n",
              "235357     98799     412     360606  160396  ...            False   \n",
              "21126      98799  138268     360606  160396  ...             True   \n",
              "128964     98799  138268     360606  160396  ...            False   \n",
              "\n",
              "        EvidenceRole_Impacted  EvidenceRole_Related  Day_of_Week_Friday  \\\n",
              "208502                   True                 False               False   \n",
              "57767                   False                  True               False   \n",
              "235357                   True                 False               False   \n",
              "21126                    True                 False               False   \n",
              "128964                   True                 False               False   \n",
              "\n",
              "        Day_of_Week_Monday  Day_of_Week_Saturday  Day_of_Week_Sunday  \\\n",
              "208502               False                 False               False   \n",
              "57767                 True                 False               False   \n",
              "235357                True                 False               False   \n",
              "21126                False                 False               False   \n",
              "128964                True                 False               False   \n",
              "\n",
              "        Day_of_Week_Thursday  Day_of_Week_Tuesday  Day_of_Week_Wednesday  \n",
              "208502                 False                 True                  False  \n",
              "57767                  False                False                  False  \n",
              "235357                 False                False                  False  \n",
              "21126                  False                False                   True  \n",
              "128964                 False                False                  False  \n",
              "\n",
              "[5 rows x 79 columns]"
            ],
            "text/html": [
              "\n",
              "  <div id=\"df-9e2a0f1d-bcf2-449e-a01a-f0aa939f78ad\" class=\"colab-df-container\">\n",
              "    <div>\n",
              "<style scoped>\n",
              "    .dataframe tbody tr th:only-of-type {\n",
              "        vertical-align: middle;\n",
              "    }\n",
              "\n",
              "    .dataframe tbody tr th {\n",
              "        vertical-align: top;\n",
              "    }\n",
              "\n",
              "    .dataframe thead th {\n",
              "        text-align: right;\n",
              "    }\n",
              "</style>\n",
              "<table border=\"1\" class=\"dataframe\">\n",
              "  <thead>\n",
              "    <tr style=\"text-align: right;\">\n",
              "      <th></th>\n",
              "      <th>OrgId</th>\n",
              "      <th>IncidentId</th>\n",
              "      <th>AlertId</th>\n",
              "      <th>Timestamp</th>\n",
              "      <th>DetectorId</th>\n",
              "      <th>AlertTitle</th>\n",
              "      <th>DeviceId</th>\n",
              "      <th>Sha256</th>\n",
              "      <th>IpAddress</th>\n",
              "      <th>Url</th>\n",
              "      <th>...</th>\n",
              "      <th>EntityType_User</th>\n",
              "      <th>EvidenceRole_Impacted</th>\n",
              "      <th>EvidenceRole_Related</th>\n",
              "      <th>Day_of_Week_Friday</th>\n",
              "      <th>Day_of_Week_Monday</th>\n",
              "      <th>Day_of_Week_Saturday</th>\n",
              "      <th>Day_of_Week_Sunday</th>\n",
              "      <th>Day_of_Week_Thursday</th>\n",
              "      <th>Day_of_Week_Tuesday</th>\n",
              "      <th>Day_of_Week_Wednesday</th>\n",
              "    </tr>\n",
              "  </thead>\n",
              "  <tbody>\n",
              "    <tr>\n",
              "      <th>208502</th>\n",
              "      <td>283</td>\n",
              "      <td>335</td>\n",
              "      <td>509559</td>\n",
              "      <td>2024-06-11</td>\n",
              "      <td>0</td>\n",
              "      <td>0</td>\n",
              "      <td>98799</td>\n",
              "      <td>138268</td>\n",
              "      <td>360606</td>\n",
              "      <td>160396</td>\n",
              "      <td>...</td>\n",
              "      <td>True</td>\n",
              "      <td>True</td>\n",
              "      <td>False</td>\n",
              "      <td>False</td>\n",
              "      <td>False</td>\n",
              "      <td>False</td>\n",
              "      <td>False</td>\n",
              "      <td>False</td>\n",
              "      <td>True</td>\n",
              "      <td>False</td>\n",
              "    </tr>\n",
              "    <tr>\n",
              "      <th>57767</th>\n",
              "      <td>51</td>\n",
              "      <td>44733</td>\n",
              "      <td>295881</td>\n",
              "      <td>2024-06-03</td>\n",
              "      <td>39</td>\n",
              "      <td>26</td>\n",
              "      <td>98799</td>\n",
              "      <td>138268</td>\n",
              "      <td>360606</td>\n",
              "      <td>160396</td>\n",
              "      <td>...</td>\n",
              "      <td>True</td>\n",
              "      <td>False</td>\n",
              "      <td>True</td>\n",
              "      <td>False</td>\n",
              "      <td>True</td>\n",
              "      <td>False</td>\n",
              "      <td>False</td>\n",
              "      <td>False</td>\n",
              "      <td>False</td>\n",
              "      <td>False</td>\n",
              "    </tr>\n",
              "    <tr>\n",
              "      <th>235357</th>\n",
              "      <td>13</td>\n",
              "      <td>6868</td>\n",
              "      <td>10238</td>\n",
              "      <td>2024-06-10</td>\n",
              "      <td>34</td>\n",
              "      <td>1135</td>\n",
              "      <td>98799</td>\n",
              "      <td>412</td>\n",
              "      <td>360606</td>\n",
              "      <td>160396</td>\n",
              "      <td>...</td>\n",
              "      <td>False</td>\n",
              "      <td>True</td>\n",
              "      <td>False</td>\n",
              "      <td>False</td>\n",
              "      <td>True</td>\n",
              "      <td>False</td>\n",
              "      <td>False</td>\n",
              "      <td>False</td>\n",
              "      <td>False</td>\n",
              "      <td>False</td>\n",
              "    </tr>\n",
              "    <tr>\n",
              "      <th>21126</th>\n",
              "      <td>9</td>\n",
              "      <td>64</td>\n",
              "      <td>112355</td>\n",
              "      <td>2024-06-12</td>\n",
              "      <td>90</td>\n",
              "      <td>4415</td>\n",
              "      <td>98799</td>\n",
              "      <td>138268</td>\n",
              "      <td>360606</td>\n",
              "      <td>160396</td>\n",
              "      <td>...</td>\n",
              "      <td>True</td>\n",
              "      <td>True</td>\n",
              "      <td>False</td>\n",
              "      <td>False</td>\n",
              "      <td>False</td>\n",
              "      <td>False</td>\n",
              "      <td>False</td>\n",
              "      <td>False</td>\n",
              "      <td>False</td>\n",
              "      <td>True</td>\n",
              "    </tr>\n",
              "    <tr>\n",
              "      <th>128964</th>\n",
              "      <td>16</td>\n",
              "      <td>99016</td>\n",
              "      <td>132381</td>\n",
              "      <td>2024-06-03</td>\n",
              "      <td>24</td>\n",
              "      <td>21634</td>\n",
              "      <td>98799</td>\n",
              "      <td>138268</td>\n",
              "      <td>360606</td>\n",
              "      <td>160396</td>\n",
              "      <td>...</td>\n",
              "      <td>False</td>\n",
              "      <td>True</td>\n",
              "      <td>False</td>\n",
              "      <td>False</td>\n",
              "      <td>True</td>\n",
              "      <td>False</td>\n",
              "      <td>False</td>\n",
              "      <td>False</td>\n",
              "      <td>False</td>\n",
              "      <td>False</td>\n",
              "    </tr>\n",
              "  </tbody>\n",
              "</table>\n",
              "<p>5 rows × 79 columns</p>\n",
              "</div>\n",
              "    <div class=\"colab-df-buttons\">\n",
              "\n",
              "  <div class=\"colab-df-container\">\n",
              "    <button class=\"colab-df-convert\" onclick=\"convertToInteractive('df-9e2a0f1d-bcf2-449e-a01a-f0aa939f78ad')\"\n",
              "            title=\"Convert this dataframe to an interactive table.\"\n",
              "            style=\"display:none;\">\n",
              "\n",
              "  <svg xmlns=\"http://www.w3.org/2000/svg\" height=\"24px\" viewBox=\"0 -960 960 960\">\n",
              "    <path d=\"M120-120v-720h720v720H120Zm60-500h600v-160H180v160Zm220 220h160v-160H400v160Zm0 220h160v-160H400v160ZM180-400h160v-160H180v160Zm440 0h160v-160H620v160ZM180-180h160v-160H180v160Zm440 0h160v-160H620v160Z\"/>\n",
              "  </svg>\n",
              "    </button>\n",
              "\n",
              "  <style>\n",
              "    .colab-df-container {\n",
              "      display:flex;\n",
              "      gap: 12px;\n",
              "    }\n",
              "\n",
              "    .colab-df-convert {\n",
              "      background-color: #E8F0FE;\n",
              "      border: none;\n",
              "      border-radius: 50%;\n",
              "      cursor: pointer;\n",
              "      display: none;\n",
              "      fill: #1967D2;\n",
              "      height: 32px;\n",
              "      padding: 0 0 0 0;\n",
              "      width: 32px;\n",
              "    }\n",
              "\n",
              "    .colab-df-convert:hover {\n",
              "      background-color: #E2EBFA;\n",
              "      box-shadow: 0px 1px 2px rgba(60, 64, 67, 0.3), 0px 1px 3px 1px rgba(60, 64, 67, 0.15);\n",
              "      fill: #174EA6;\n",
              "    }\n",
              "\n",
              "    .colab-df-buttons div {\n",
              "      margin-bottom: 4px;\n",
              "    }\n",
              "\n",
              "    [theme=dark] .colab-df-convert {\n",
              "      background-color: #3B4455;\n",
              "      fill: #D2E3FC;\n",
              "    }\n",
              "\n",
              "    [theme=dark] .colab-df-convert:hover {\n",
              "      background-color: #434B5C;\n",
              "      box-shadow: 0px 1px 3px 1px rgba(0, 0, 0, 0.15);\n",
              "      filter: drop-shadow(0px 1px 2px rgba(0, 0, 0, 0.3));\n",
              "      fill: #FFFFFF;\n",
              "    }\n",
              "  </style>\n",
              "\n",
              "    <script>\n",
              "      const buttonEl =\n",
              "        document.querySelector('#df-9e2a0f1d-bcf2-449e-a01a-f0aa939f78ad button.colab-df-convert');\n",
              "      buttonEl.style.display =\n",
              "        google.colab.kernel.accessAllowed ? 'block' : 'none';\n",
              "\n",
              "      async function convertToInteractive(key) {\n",
              "        const element = document.querySelector('#df-9e2a0f1d-bcf2-449e-a01a-f0aa939f78ad');\n",
              "        const dataTable =\n",
              "          await google.colab.kernel.invokeFunction('convertToInteractive',\n",
              "                                                    [key], {});\n",
              "        if (!dataTable) return;\n",
              "\n",
              "        const docLinkHtml = 'Like what you see? Visit the ' +\n",
              "          '<a target=\"_blank\" href=https://colab.research.google.com/notebooks/data_table.ipynb>data table notebook</a>'\n",
              "          + ' to learn more about interactive tables.';\n",
              "        element.innerHTML = '';\n",
              "        dataTable['output_type'] = 'display_data';\n",
              "        await google.colab.output.renderOutput(dataTable, element);\n",
              "        const docLink = document.createElement('div');\n",
              "        docLink.innerHTML = docLinkHtml;\n",
              "        element.appendChild(docLink);\n",
              "      }\n",
              "    </script>\n",
              "  </div>\n",
              "\n",
              "\n",
              "<div id=\"df-fee0f41d-58b6-4c70-8ef9-7d0e61adf695\">\n",
              "  <button class=\"colab-df-quickchart\" onclick=\"quickchart('df-fee0f41d-58b6-4c70-8ef9-7d0e61adf695')\"\n",
              "            title=\"Suggest charts\"\n",
              "            style=\"display:none;\">\n",
              "\n",
              "<svg xmlns=\"http://www.w3.org/2000/svg\" height=\"24px\"viewBox=\"0 0 24 24\"\n",
              "     width=\"24px\">\n",
              "    <g>\n",
              "        <path d=\"M19 3H5c-1.1 0-2 .9-2 2v14c0 1.1.9 2 2 2h14c1.1 0 2-.9 2-2V5c0-1.1-.9-2-2-2zM9 17H7v-7h2v7zm4 0h-2V7h2v10zm4 0h-2v-4h2v4z\"/>\n",
              "    </g>\n",
              "</svg>\n",
              "  </button>\n",
              "\n",
              "<style>\n",
              "  .colab-df-quickchart {\n",
              "      --bg-color: #E8F0FE;\n",
              "      --fill-color: #1967D2;\n",
              "      --hover-bg-color: #E2EBFA;\n",
              "      --hover-fill-color: #174EA6;\n",
              "      --disabled-fill-color: #AAA;\n",
              "      --disabled-bg-color: #DDD;\n",
              "  }\n",
              "\n",
              "  [theme=dark] .colab-df-quickchart {\n",
              "      --bg-color: #3B4455;\n",
              "      --fill-color: #D2E3FC;\n",
              "      --hover-bg-color: #434B5C;\n",
              "      --hover-fill-color: #FFFFFF;\n",
              "      --disabled-bg-color: #3B4455;\n",
              "      --disabled-fill-color: #666;\n",
              "  }\n",
              "\n",
              "  .colab-df-quickchart {\n",
              "    background-color: var(--bg-color);\n",
              "    border: none;\n",
              "    border-radius: 50%;\n",
              "    cursor: pointer;\n",
              "    display: none;\n",
              "    fill: var(--fill-color);\n",
              "    height: 32px;\n",
              "    padding: 0;\n",
              "    width: 32px;\n",
              "  }\n",
              "\n",
              "  .colab-df-quickchart:hover {\n",
              "    background-color: var(--hover-bg-color);\n",
              "    box-shadow: 0 1px 2px rgba(60, 64, 67, 0.3), 0 1px 3px 1px rgba(60, 64, 67, 0.15);\n",
              "    fill: var(--button-hover-fill-color);\n",
              "  }\n",
              "\n",
              "  .colab-df-quickchart-complete:disabled,\n",
              "  .colab-df-quickchart-complete:disabled:hover {\n",
              "    background-color: var(--disabled-bg-color);\n",
              "    fill: var(--disabled-fill-color);\n",
              "    box-shadow: none;\n",
              "  }\n",
              "\n",
              "  .colab-df-spinner {\n",
              "    border: 2px solid var(--fill-color);\n",
              "    border-color: transparent;\n",
              "    border-bottom-color: var(--fill-color);\n",
              "    animation:\n",
              "      spin 1s steps(1) infinite;\n",
              "  }\n",
              "\n",
              "  @keyframes spin {\n",
              "    0% {\n",
              "      border-color: transparent;\n",
              "      border-bottom-color: var(--fill-color);\n",
              "      border-left-color: var(--fill-color);\n",
              "    }\n",
              "    20% {\n",
              "      border-color: transparent;\n",
              "      border-left-color: var(--fill-color);\n",
              "      border-top-color: var(--fill-color);\n",
              "    }\n",
              "    30% {\n",
              "      border-color: transparent;\n",
              "      border-left-color: var(--fill-color);\n",
              "      border-top-color: var(--fill-color);\n",
              "      border-right-color: var(--fill-color);\n",
              "    }\n",
              "    40% {\n",
              "      border-color: transparent;\n",
              "      border-right-color: var(--fill-color);\n",
              "      border-top-color: var(--fill-color);\n",
              "    }\n",
              "    60% {\n",
              "      border-color: transparent;\n",
              "      border-right-color: var(--fill-color);\n",
              "    }\n",
              "    80% {\n",
              "      border-color: transparent;\n",
              "      border-right-color: var(--fill-color);\n",
              "      border-bottom-color: var(--fill-color);\n",
              "    }\n",
              "    90% {\n",
              "      border-color: transparent;\n",
              "      border-bottom-color: var(--fill-color);\n",
              "    }\n",
              "  }\n",
              "</style>\n",
              "\n",
              "  <script>\n",
              "    async function quickchart(key) {\n",
              "      const quickchartButtonEl =\n",
              "        document.querySelector('#' + key + ' button');\n",
              "      quickchartButtonEl.disabled = true;  // To prevent multiple clicks.\n",
              "      quickchartButtonEl.classList.add('colab-df-spinner');\n",
              "      try {\n",
              "        const charts = await google.colab.kernel.invokeFunction(\n",
              "            'suggestCharts', [key], {});\n",
              "      } catch (error) {\n",
              "        console.error('Error during call to suggestCharts:', error);\n",
              "      }\n",
              "      quickchartButtonEl.classList.remove('colab-df-spinner');\n",
              "      quickchartButtonEl.classList.add('colab-df-quickchart-complete');\n",
              "    }\n",
              "    (() => {\n",
              "      let quickchartButtonEl =\n",
              "        document.querySelector('#df-fee0f41d-58b6-4c70-8ef9-7d0e61adf695 button');\n",
              "      quickchartButtonEl.style.display =\n",
              "        google.colab.kernel.accessAllowed ? 'block' : 'none';\n",
              "    })();\n",
              "  </script>\n",
              "</div>\n",
              "\n",
              "    </div>\n",
              "  </div>\n"
            ],
            "application/vnd.google.colaboratory.intrinsic+json": {
              "type": "dataframe"
            }
          },
          "metadata": {},
          "execution_count": 54
        }
      ],
      "source": [
        "encoder = DummyEncoder()\n",
        "train_x = encoder.fit_transform(train_x_cat)\n",
        "train_x.head()"
      ]
    },
    {
      "cell_type": "code",
      "execution_count": 55,
      "metadata": {
        "id": "vlErL44KxXvP"
      },
      "outputs": [],
      "source": [
        "# convert only boolean columns to int data type\n",
        "for col in train_x.columns:\n",
        "    if train_x[col].dtype == 'bool':\n",
        "        train_x[col] = train_x[col].astype(int)"
      ]
    },
    {
      "cell_type": "code",
      "execution_count": 56,
      "metadata": {
        "id": "IWxgoqFxq-TJ"
      },
      "outputs": [],
      "source": [
        "test_x = encoder.transform(test_x_cat)"
      ]
    },
    {
      "cell_type": "code",
      "execution_count": 57,
      "metadata": {
        "id": "ERN_cwD4yFk2"
      },
      "outputs": [],
      "source": [
        "for col in test_x.columns:\n",
        "    if test_x[col].dtype == 'bool':\n",
        "        test_x[col] = test_x[col].astype(int)"
      ]
    },
    {
      "cell_type": "markdown",
      "metadata": {
        "id": "Ky1-NPiQ0-4u"
      },
      "source": [
        "## SMOTE"
      ]
    },
    {
      "cell_type": "code",
      "execution_count": 58,
      "metadata": {
        "id": "18zm0Hlh1ByD"
      },
      "outputs": [],
      "source": [
        "from imblearn.over_sampling import SMOTE"
      ]
    },
    {
      "cell_type": "code",
      "execution_count": 59,
      "metadata": {
        "colab": {
          "base_uri": "https://localhost:8080/",
          "height": 210
        },
        "id": "Fp8IjgRld1eb",
        "outputId": "5445f63d-4dc8-4b7b-8879-382df67cdfd6"
      },
      "outputs": [
        {
          "output_type": "execute_result",
          "data": {
            "text/plain": [
              "IncidentGrade\n",
              "BenignPositive    20406\n",
              "TruePositive      16766\n",
              "FalsePositive     10180\n",
              "Name: count, dtype: int64"
            ],
            "text/html": [
              "<div>\n",
              "<style scoped>\n",
              "    .dataframe tbody tr th:only-of-type {\n",
              "        vertical-align: middle;\n",
              "    }\n",
              "\n",
              "    .dataframe tbody tr th {\n",
              "        vertical-align: top;\n",
              "    }\n",
              "\n",
              "    .dataframe thead th {\n",
              "        text-align: right;\n",
              "    }\n",
              "</style>\n",
              "<table border=\"1\" class=\"dataframe\">\n",
              "  <thead>\n",
              "    <tr style=\"text-align: right;\">\n",
              "      <th></th>\n",
              "      <th>count</th>\n",
              "    </tr>\n",
              "    <tr>\n",
              "      <th>IncidentGrade</th>\n",
              "      <th></th>\n",
              "    </tr>\n",
              "  </thead>\n",
              "  <tbody>\n",
              "    <tr>\n",
              "      <th>BenignPositive</th>\n",
              "      <td>20406</td>\n",
              "    </tr>\n",
              "    <tr>\n",
              "      <th>TruePositive</th>\n",
              "      <td>16766</td>\n",
              "    </tr>\n",
              "    <tr>\n",
              "      <th>FalsePositive</th>\n",
              "      <td>10180</td>\n",
              "    </tr>\n",
              "  </tbody>\n",
              "</table>\n",
              "</div><br><label><b>dtype:</b> int64</label>"
            ]
          },
          "metadata": {},
          "execution_count": 59
        }
      ],
      "source": [
        "train_y.value_counts().compute()"
      ]
    },
    {
      "cell_type": "code",
      "execution_count": 60,
      "metadata": {
        "id": "vymnWihaed8f"
      },
      "outputs": [],
      "source": [
        "combined_df = dd.concat([train_x, train_y], axis=1)"
      ]
    },
    {
      "cell_type": "code",
      "execution_count": 61,
      "metadata": {
        "id": "kLrXDZ6TeqJU"
      },
      "outputs": [],
      "source": [
        "def apply_smote(chunk):\n",
        "    smote = SMOTE()\n",
        "    #Exclude datetime columns from X\n",
        "    X = chunk.select_dtypes(exclude=['datetime']).drop('IncidentGrade', axis=1)\n",
        "    y = chunk['IncidentGrade']\n",
        "    X_resampled, y_resampled = smote.fit_resample(X, y)\n",
        "    return pd.concat([X_resampled, y_resampled], axis=1)"
      ]
    },
    {
      "cell_type": "code",
      "execution_count": 62,
      "metadata": {
        "colab": {
          "base_uri": "https://localhost:8080/"
        },
        "id": "46OwC4R2gIS8",
        "outputId": "1e57dba2-f118-4d44-ea43-21e37145570d"
      },
      "outputs": [
        {
          "output_type": "execute_result",
          "data": {
            "text/plain": [
              "0"
            ]
          },
          "metadata": {},
          "execution_count": 62
        }
      ],
      "source": [
        "combined_df['IncidentGrade'].isnull().sum().compute()"
      ]
    },
    {
      "cell_type": "code",
      "execution_count": 63,
      "metadata": {
        "id": "6q-a4jzcfBHi"
      },
      "outputs": [],
      "source": [
        "# Apply SMOTE on each chunk\n",
        "meta = pd.DataFrame(columns=[col for col in combined_df.columns if col != 'Timestamp'])\n",
        "resampled_chunks = combined_df.map_partitions(apply_smote, meta=meta)"
      ]
    },
    {
      "cell_type": "code",
      "execution_count": 64,
      "metadata": {
        "id": "DdfjuiU8fN_1"
      },
      "outputs": [],
      "source": [
        "# Combine the resampled chunks\n",
        "resampled_df = dd.concat([resampled_chunks], axis=0)"
      ]
    },
    {
      "cell_type": "code",
      "execution_count": 65,
      "metadata": {
        "id": "NZDiBEd94Wva"
      },
      "outputs": [],
      "source": [
        "test_x = test_x.drop('Timestamp', axis=1)"
      ]
    },
    {
      "cell_type": "markdown",
      "metadata": {
        "id": "gdjQHGWFyOlW"
      },
      "source": [
        "## split into 80-20 train and test for Evaluation"
      ]
    },
    {
      "cell_type": "code",
      "execution_count": 66,
      "metadata": {
        "id": "m5faSRjZ-zHo"
      },
      "outputs": [],
      "source": [
        "# split resampled data into train_x and y\n",
        "train_x = resampled_df.drop('IncidentGrade', axis=1)\n",
        "train_y = resampled_df['IncidentGrade']"
      ]
    },
    {
      "cell_type": "code",
      "execution_count": 67,
      "metadata": {
        "id": "WBjJ6Xbe9dnb"
      },
      "outputs": [],
      "source": [
        "# let's impute the categorical target variable into integer data type by imputation\n",
        "mapping = {'FalsePositive': 0, 'TruePositive': 1, 'BenignPositive': 2}\n",
        "train_y = train_y.map(mapping)"
      ]
    },
    {
      "cell_type": "code",
      "execution_count": 68,
      "metadata": {
        "id": "QnNhiI4398JW"
      },
      "outputs": [],
      "source": [
        "test_y = test_y.map(mapping)"
      ]
    },
    {
      "cell_type": "code",
      "execution_count": 69,
      "metadata": {
        "id": "PsBgGIZMy719"
      },
      "outputs": [],
      "source": [
        "# repart_train_x = train_x.repartition(partition_size='100MB')\n",
        "# repart_train_y = train_y.repartition(partition_size='100MB')"
      ]
    },
    {
      "cell_type": "code",
      "execution_count": 70,
      "metadata": {
        "id": "t0-NjGJ6wmRF"
      },
      "outputs": [],
      "source": [
        "# constant_columns = [col for col in train_x.columns if train_x[col].nunique().compute() == 1]\n",
        "# constant_columns"
      ]
    },
    {
      "cell_type": "code",
      "execution_count": 71,
      "metadata": {
        "id": "_K_oJRPmzTA2"
      },
      "outputs": [],
      "source": [
        "train_x_array = train_x.to_dask_array(lengths=True)\n",
        "train_y_array = train_y.to_dask_array(lengths=True)"
      ]
    },
    {
      "cell_type": "code",
      "execution_count": 72,
      "metadata": {
        "id": "IF1TYw_pTXWt"
      },
      "outputs": [],
      "source": [
        "# split x and y for train and test\n",
        "x_train, x_test, y_train, y_test = train_test_split(train_x_array, train_y_array, test_size=0.2, random_state=42)"
      ]
    },
    {
      "cell_type": "markdown",
      "metadata": {
        "id": "gvsyknYl_Gg7"
      },
      "source": [
        "## Model Evaluation"
      ]
    },
    {
      "cell_type": "code",
      "execution_count": 73,
      "metadata": {
        "id": "fvA4Uc8rgwN6"
      },
      "outputs": [],
      "source": [
        "# from dask.distributed import Client"
      ]
    },
    {
      "cell_type": "code",
      "execution_count": 74,
      "metadata": {
        "id": "aZWMXtijhJ4e"
      },
      "outputs": [],
      "source": [
        "# client = Client(n_workers = 8, memory_limit='2GB')"
      ]
    },
    {
      "cell_type": "code",
      "execution_count": 75,
      "metadata": {
        "id": "AzU7w2nhRz1D"
      },
      "outputs": [],
      "source": [
        "models = {\n",
        "    'Logistic Regression': ParallelPostFit(estimator=LogisticRegression()),\n",
        "    'Random Forest': ParallelPostFit(estimator=RandomForestClassifier()),\n",
        "    'Decision Tree': ParallelPostFit(estimator=DecisionTreeClassifier()),\n",
        "    'XGBoost': ParallelPostFit(estimator=XGBClassifier(use_label_encoder=False, eval_metric='logloss'))\n",
        "}"
      ]
    },
    {
      "cell_type": "code",
      "execution_count": 76,
      "metadata": {
        "id": "EvjWdt9wYGK0"
      },
      "outputs": [],
      "source": [
        "# wrapped_models = {name: ParallelPostFit(model) for name, model in models.items()}"
      ]
    },
    {
      "cell_type": "code",
      "execution_count": 77,
      "metadata": {
        "id": "PAcYSpzgYTLr"
      },
      "outputs": [],
      "source": [
        "# skf = StratifiedKFold(n_splits=5, shuffle=True, random_state=42)"
      ]
    },
    {
      "cell_type": "code",
      "execution_count": 78,
      "metadata": {
        "id": "Bt1pgfYLYsuE"
      },
      "outputs": [],
      "source": [
        "# for name, model in models.items():\n",
        "#     print(f\"Evaluating {name}...\")\n",
        "#     scores = []\n",
        "#     for train_index, test_index in skf.split(train_x, train_y):\n",
        "#         skf_x_train, skf_x_test = train_x.iloc[train_index], train_x.iloc[test_index]\n",
        "#         skf_y_train, skf_y_test = train_y.iloc[train_index], train_y.iloc[test_index]\n",
        "#         model.fit(skf_x_train, skf_y_train)\n",
        "#         y_pred = model.predict(skf_x_test)\n",
        "#         scores.append(accuracy_score(skf_y_test, y_pred))\n",
        "\n",
        "#     print(f\"{name} Accuracy score: {np.mean(scores):.4f}\")"
      ]
    },
    {
      "cell_type": "code",
      "execution_count": 79,
      "metadata": {
        "id": "vT6DoJN_wjjr"
      },
      "outputs": [],
      "source": [
        "x_train = x_train.astype(np.float64)  # Convert x_train y_train to float64\n",
        "y_train = y_train.astype(np.float64)"
      ]
    },
    {
      "cell_type": "code",
      "execution_count": 80,
      "metadata": {
        "id": "1SE7u_O87eCd"
      },
      "outputs": [],
      "source": [
        "y_test = y_test.astype(np.float64)\n",
        "x_test = x_test.astype(np.float64)"
      ]
    },
    {
      "cell_type": "code",
      "execution_count": 82,
      "metadata": {
        "id": "d1R6Ix4lxS_5"
      },
      "outputs": [],
      "source": [
        "# for name, model in models.items():\n",
        "#     print(f\"Evaluating {name}...\")\n",
        "#     model.fit(x_train, y_train)\n",
        "#     score = model.score(x_test, y_test)\n",
        "#     print(f\"{name} Accuracy score: {score}\")\n",
        "\n",
        "# client.close()"
      ]
    },
    {
      "cell_type": "code",
      "execution_count": 83,
      "metadata": {
        "id": "Lutdj_eerPGv"
      },
      "outputs": [],
      "source": [
        "# for name, model in models.items():\n",
        "#     print(f\"Evaluating {name}...\")\n",
        "#     model.fit(x_train, y_train) # Fit the model directly on Dask DataFrames\n",
        "#     score = model.score(x_test, y_test) # Evaluate the model directly on Dask DataFrames\n",
        "#     print(f\"{name} Accuracy score: {score}\")\n",
        "\n",
        "# client.close()"
      ]
    },
    {
      "cell_type": "code",
      "execution_count": 84,
      "metadata": {
        "id": "fJcaEcnX1Wrp"
      },
      "outputs": [],
      "source": [
        "# client.close()"
      ]
    }
  ],
  "metadata": {
    "colab": {
      "provenance": []
    },
    "kernelspec": {
      "display_name": "Python 3",
      "name": "python3"
    },
    "language_info": {
      "name": "python"
    }
  },
  "nbformat": 4,
  "nbformat_minor": 0
}